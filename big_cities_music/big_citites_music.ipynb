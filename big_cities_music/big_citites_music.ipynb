{
 "cells": [
  {
   "cell_type": "markdown",
   "metadata": {
    "deletable": false,
    "editable": false,
    "id": "E0vqbgi9ay0H"
   },
   "source": [
    "# Музыка Больших Городов"
   ]
  },
  {
   "cell_type": "markdown",
   "metadata": {
    "deletable": false,
    "editable": false,
    "id": "VUC88oWjTJw2"
   },
   "source": [
    "В наличии были следующие данные о прослушиваниях треков в сервисе Яндекс.Музыка:\n",
    "\n",
    "* Название трека\n",
    "* Исполнитель\n",
    "* Жанр\n",
    "* Город\n",
    "* День прослушивания\n",
    "* Время прослушивания\n",
    "\n",
    "Задача:\n",
    "\n",
    "Провести сравнение музыкальных предпочтений у пользователей Яндекс.Музыки, проживающих в Москве и Санкт-Петербурге. Сравнить прослушивания в понедельник, среду и пятницу по городам, а также сравнить жанры, которые слушают пользователи утром в понедельник и вечером в пятницу в Москве и Санкт-Петербурге."
   ]
  },
  {
   "cell_type": "markdown",
   "metadata": {
    "deletable": false,
    "editable": false,
    "id": "Ml1hmfXC_Zcs"
   },
   "source": [
    "## Импорт библиотек"
   ]
  },
  {
   "cell_type": "code",
   "execution_count": 1,
   "metadata": {
    "deletable": false,
    "id": "AXN7PHPN_Zcs"
   },
   "outputs": [],
   "source": [
    "import pandas as pd"
   ]
  },
  {
   "cell_type": "markdown",
   "metadata": {},
   "source": [
    "Чтение файла `music_project.csv` и его сохранение в переменную df"
   ]
  },
  {
   "cell_type": "code",
   "execution_count": 2,
   "metadata": {
    "deletable": false,
    "id": "fFVu7vqh_Zct"
   },
   "outputs": [],
   "source": [
    "df = pd.read_csv('/datasets/music_project.csv')"
   ]
  },
  {
   "cell_type": "markdown",
   "metadata": {},
   "source": [
    "Вывожу первые 10 строк таблицы"
   ]
  },
  {
   "cell_type": "code",
   "execution_count": 39,
   "metadata": {
    "deletable": false,
    "id": "oWTVX3gW_Zct"
   },
   "outputs": [
    {
     "data": {
      "text/html": [
       "<div>\n",
       "<style scoped>\n",
       "    .dataframe tbody tr th:only-of-type {\n",
       "        vertical-align: middle;\n",
       "    }\n",
       "\n",
       "    .dataframe tbody tr th {\n",
       "        vertical-align: top;\n",
       "    }\n",
       "\n",
       "    .dataframe thead th {\n",
       "        text-align: right;\n",
       "    }\n",
       "</style>\n",
       "<table border=\"1\" class=\"dataframe\">\n",
       "  <thead>\n",
       "    <tr style=\"text-align: right;\">\n",
       "      <th></th>\n",
       "      <th>user_id</th>\n",
       "      <th>track</th>\n",
       "      <th>artist</th>\n",
       "      <th>genre</th>\n",
       "      <th>city</th>\n",
       "      <th>time</th>\n",
       "      <th>day</th>\n",
       "    </tr>\n",
       "  </thead>\n",
       "  <tbody>\n",
       "    <tr>\n",
       "      <th>0</th>\n",
       "      <td>FFB692EC</td>\n",
       "      <td>Kamigata To Boots</td>\n",
       "      <td>The Mass Missile</td>\n",
       "      <td>rock</td>\n",
       "      <td>Saint-Petersburg</td>\n",
       "      <td>20:28:33</td>\n",
       "      <td>Wednesday</td>\n",
       "    </tr>\n",
       "    <tr>\n",
       "      <th>1</th>\n",
       "      <td>55204538</td>\n",
       "      <td>Delayed Because of Accident</td>\n",
       "      <td>Andreas Rönnberg</td>\n",
       "      <td>rock</td>\n",
       "      <td>Moscow</td>\n",
       "      <td>14:07:09</td>\n",
       "      <td>Friday</td>\n",
       "    </tr>\n",
       "    <tr>\n",
       "      <th>2</th>\n",
       "      <td>20EC38</td>\n",
       "      <td>Funiculì funiculà</td>\n",
       "      <td>Mario Lanza</td>\n",
       "      <td>pop</td>\n",
       "      <td>Saint-Petersburg</td>\n",
       "      <td>20:58:07</td>\n",
       "      <td>Wednesday</td>\n",
       "    </tr>\n",
       "    <tr>\n",
       "      <th>3</th>\n",
       "      <td>A3DD03C9</td>\n",
       "      <td>Dragons in the Sunset</td>\n",
       "      <td>Fire + Ice</td>\n",
       "      <td>folk</td>\n",
       "      <td>Saint-Petersburg</td>\n",
       "      <td>08:37:09</td>\n",
       "      <td>Monday</td>\n",
       "    </tr>\n",
       "    <tr>\n",
       "      <th>4</th>\n",
       "      <td>E2DC1FAE</td>\n",
       "      <td>Soul People</td>\n",
       "      <td>Space Echo</td>\n",
       "      <td>dance</td>\n",
       "      <td>Moscow</td>\n",
       "      <td>08:34:34</td>\n",
       "      <td>Monday</td>\n",
       "    </tr>\n",
       "    <tr>\n",
       "      <th>5</th>\n",
       "      <td>842029A1</td>\n",
       "      <td>Преданная</td>\n",
       "      <td>IMPERVTOR</td>\n",
       "      <td>rusrap</td>\n",
       "      <td>Saint-Petersburg</td>\n",
       "      <td>13:09:41</td>\n",
       "      <td>Friday</td>\n",
       "    </tr>\n",
       "    <tr>\n",
       "      <th>6</th>\n",
       "      <td>4CB90AA5</td>\n",
       "      <td>True</td>\n",
       "      <td>Roman Messer</td>\n",
       "      <td>dance</td>\n",
       "      <td>Moscow</td>\n",
       "      <td>13:00:07</td>\n",
       "      <td>Wednesday</td>\n",
       "    </tr>\n",
       "    <tr>\n",
       "      <th>7</th>\n",
       "      <td>F03E1C1F</td>\n",
       "      <td>Feeling This Way</td>\n",
       "      <td>Polina Griffith</td>\n",
       "      <td>dance</td>\n",
       "      <td>Moscow</td>\n",
       "      <td>20:47:49</td>\n",
       "      <td>Wednesday</td>\n",
       "    </tr>\n",
       "    <tr>\n",
       "      <th>8</th>\n",
       "      <td>8FA1D3BE</td>\n",
       "      <td>И вновь продолжается бой</td>\n",
       "      <td>unknown</td>\n",
       "      <td>ruspop</td>\n",
       "      <td>Moscow</td>\n",
       "      <td>09:17:40</td>\n",
       "      <td>Friday</td>\n",
       "    </tr>\n",
       "    <tr>\n",
       "      <th>9</th>\n",
       "      <td>E772D5C0</td>\n",
       "      <td>Pessimist</td>\n",
       "      <td>unknown</td>\n",
       "      <td>dance</td>\n",
       "      <td>Saint-Petersburg</td>\n",
       "      <td>21:20:49</td>\n",
       "      <td>Wednesday</td>\n",
       "    </tr>\n",
       "  </tbody>\n",
       "</table>\n",
       "</div>"
      ],
      "text/plain": [
       "    user_id                        track            artist   genre  \\\n",
       "0  FFB692EC            Kamigata To Boots  The Mass Missile    rock   \n",
       "1  55204538  Delayed Because of Accident  Andreas Rönnberg    rock   \n",
       "2    20EC38            Funiculì funiculà       Mario Lanza     pop   \n",
       "3  A3DD03C9        Dragons in the Sunset        Fire + Ice    folk   \n",
       "4  E2DC1FAE                  Soul People        Space Echo   dance   \n",
       "5  842029A1                    Преданная         IMPERVTOR  rusrap   \n",
       "6  4CB90AA5                         True      Roman Messer   dance   \n",
       "7  F03E1C1F             Feeling This Way   Polina Griffith   dance   \n",
       "8  8FA1D3BE     И вновь продолжается бой           unknown  ruspop   \n",
       "9  E772D5C0                    Pessimist           unknown   dance   \n",
       "\n",
       "               city      time        day  \n",
       "0  Saint-Petersburg  20:28:33  Wednesday  \n",
       "1            Moscow  14:07:09     Friday  \n",
       "2  Saint-Petersburg  20:58:07  Wednesday  \n",
       "3  Saint-Petersburg  08:37:09     Monday  \n",
       "4            Moscow  08:34:34     Monday  \n",
       "5  Saint-Petersburg  13:09:41     Friday  \n",
       "6            Moscow  13:00:07  Wednesday  \n",
       "7            Moscow  20:47:49  Wednesday  \n",
       "8            Moscow  09:17:40     Friday  \n",
       "9  Saint-Petersburg  21:20:49  Wednesday  "
      ]
     },
     "execution_count": 39,
     "metadata": {},
     "output_type": "execute_result"
    }
   ],
   "source": [
    "df.head(10)"
   ]
  },
  {
   "cell_type": "markdown",
   "metadata": {
    "deletable": false,
    "editable": false,
    "id": "EO73Kwic_Zct",
    "tags": [
     "start_task"
    ]
   },
   "source": [
    "Вывожу информацию о таблице"
   ]
  },
  {
   "cell_type": "code",
   "execution_count": 4,
   "metadata": {
    "deletable": false,
    "id": "DSf2kIb-_Zct"
   },
   "outputs": [
    {
     "name": "stdout",
     "output_type": "stream",
     "text": [
      "<class 'pandas.core.frame.DataFrame'>\n",
      "RangeIndex: 65079 entries, 0 to 65078\n",
      "Data columns (total 7 columns):\n",
      " #   Column    Non-Null Count  Dtype \n",
      "---  ------    --------------  ----- \n",
      " 0     userID  65079 non-null  object\n",
      " 1   Track     63848 non-null  object\n",
      " 2   artist    57876 non-null  object\n",
      " 3   genre     63881 non-null  object\n",
      " 4     City    65079 non-null  object\n",
      " 5   time      65079 non-null  object\n",
      " 6   Day       65079 non-null  object\n",
      "dtypes: object(7)\n",
      "memory usage: 3.5+ MB\n"
     ]
    }
   ],
   "source": [
    "df.info()"
   ]
  },
  {
   "cell_type": "markdown",
   "metadata": {
    "deletable": false,
    "editable": false,
    "id": "TaQ2Iwbr_Zct"
   },
   "source": [
    "В таблице семь столбцов. Тип данных во всех столбцах — `object`.\n",
    "\n",
    "Подробная информация какой столбец и какую информацию он содержит\n",
    "* `userID` — идентификатор пользователя;\n",
    "* `Track` — название трека;  \n",
    "* `artist` — имя исполнителя;\n",
    "* `genre` — название жанра;\n",
    "* `City` — город пользователя;\n",
    "* `time` — время начала прослушивания;\n",
    "* `Day` — день недели.\n",
    "\n",
    "Количество значений в столбцах различается. Значит, в данных есть значения `None`"
   ]
  },
  {
   "cell_type": "markdown",
   "metadata": {
    "deletable": false,
    "editable": false,
    "id": "MCB6-dXG_Zct"
   },
   "source": [
    "**Выводы**\n",
    "\n",
    "Каждая строка таблицы содержит информацию о композициях определённого жанра в определённом исполнении, которые пользователи слушали в одном из городов в определённое время и день недели. Две проблемы, которые нужно решать: пропуски и некачественные названия столбцов. Для проверки рабочих гипотез особенно ценны столбцы time, day и City. Данные из столбца genre позволят узнать самые популярные жанры."
   ]
  },
  {
   "cell_type": "markdown",
   "metadata": {
    "deletable": false,
    "editable": false,
    "id": "SjYF6Ub9_Zct"
   },
   "source": [
    "## Предобработка данных"
   ]
  },
  {
   "cell_type": "markdown",
   "metadata": {
    "deletable": false,
    "editable": false,
    "id": "dIaKXr29_Zct",
    "tags": [
     "start_task"
    ]
   },
   "source": [
    "Исключим пропуски, переименуем столбцы, а также проверим данные на наличие дубликатов."
   ]
  },
  {
   "cell_type": "code",
   "execution_count": 6,
   "metadata": {
    "deletable": false,
    "id": "oKOTdF_Q_Zct"
   },
   "outputs": [
    {
     "name": "stdout",
     "output_type": "stream",
     "text": [
      "Index(['  userID', 'Track', 'artist', 'genre', '  City  ', 'time', 'Day'], dtype='object')\n"
     ]
    }
   ],
   "source": [
    "df.columns"
   ]
  },
  {
   "cell_type": "markdown",
   "metadata": {},
   "source": [
    "Названия некотрых колонок, затруднят доступ данных, поэтому приведем все названия в правильный вид"
   ]
  },
  {
   "cell_type": "code",
   "execution_count": 7,
   "metadata": {
    "deletable": false,
    "id": "ISlFqs5y_Zct"
   },
   "outputs": [],
   "source": [
    "df = df.rename(columns={'  userID': 'user_id'\n",
    "                        , 'Track': 'track'\n",
    "                        ,'  City  ': 'city'\n",
    "                        , 'Day': 'day'})"
   ]
  },
  {
   "cell_type": "code",
   "execution_count": 8,
   "metadata": {
    "deletable": false,
    "id": "d4NOAmTW_Zct"
   },
   "outputs": [
    {
     "name": "stdout",
     "output_type": "stream",
     "text": [
      "Index(['user_id', 'track', 'artist', 'genre', 'city', 'time', 'day'], dtype='object')\n"
     ]
    }
   ],
   "source": [
    "df.columns"
   ]
  },
  {
   "cell_type": "markdown",
   "metadata": {},
   "source": [
    "В данных были обнаружены пропуски, посчитаем их количесто по столбцам"
   ]
  },
  {
   "cell_type": "code",
   "execution_count": 9,
   "metadata": {
    "deletable": false,
    "id": "RskX29qr_Zct"
   },
   "outputs": [
    {
     "name": "stdout",
     "output_type": "stream",
     "text": [
      "user_id       0\n",
      "track      1231\n",
      "artist     7203\n",
      "genre      1198\n",
      "city          0\n",
      "time          0\n",
      "day           0\n",
      "dtype: int64\n"
     ]
    }
   ],
   "source": [
    "missed_num = df.isna().sum()\n",
    "missed_num"
   ]
  },
  {
   "cell_type": "markdown",
   "metadata": {
    "deletable": false,
    "editable": false,
    "id": "qubhgnlO_Zct"
   },
   "source": [
    "Пустые значения свидетельствуют, что для некоторых треков доступна не вся информация. Причины могут быть разные, поэтому заменяем пропущенные значения в столбцах на строку 'unknown'. После этой операции нужно убедиться, что таблица больше не содержит пропусков."
   ]
  },
  {
   "cell_type": "code",
   "execution_count": 10,
   "metadata": {
    "deletable": false,
    "id": "KplB5qWs_Zct"
   },
   "outputs": [],
   "source": [
    "columns_to_replace = ['track', 'artist', 'genre']\n",
    "for column in columns_to_replace:\n",
    "    df[column] = df[column].fillna('unknown')"
   ]
  },
  {
   "cell_type": "code",
   "execution_count": 11,
   "metadata": {
    "deletable": false,
    "id": "Tq4nYRX4_Zct"
   },
   "outputs": [
    {
     "name": "stdout",
     "output_type": "stream",
     "text": [
      "user_id    0\n",
      "track      0\n",
      "artist     0\n",
      "genre      0\n",
      "city       0\n",
      "time       0\n",
      "day        0\n",
      "dtype: int64\n"
     ]
    }
   ],
   "source": [
    "df.isna().sum()"
   ]
  },
  {
   "cell_type": "markdown",
   "metadata": {
    "deletable": false,
    "editable": false,
    "id": "BWKRtBJ3_Zct",
    "tags": [
     "start_task"
    ]
   },
   "source": [
    "Подсчет явных дубликатов"
   ]
  },
  {
   "cell_type": "code",
   "execution_count": 12,
   "metadata": {
    "deletable": false,
    "id": "36eES_S0_Zct"
   },
   "outputs": [
    {
     "name": "stdout",
     "output_type": "stream",
     "text": [
      "3826\n"
     ]
    }
   ],
   "source": [
    "df.duplicated().sum()"
   ]
  },
  {
   "cell_type": "markdown",
   "metadata": {},
   "source": [
    "Использую функцию `drop_duplicates()` что бы от них избавиться"
   ]
  },
  {
   "cell_type": "code",
   "execution_count": 13,
   "metadata": {
    "deletable": false,
    "id": "exFHq6tt_Zct"
   },
   "outputs": [],
   "source": [
    "df = df.drop_duplicates()"
   ]
  },
  {
   "cell_type": "code",
   "execution_count": 14,
   "metadata": {
    "deletable": false,
    "id": "-8PuNWQ0_Zct"
   },
   "outputs": [
    {
     "name": "stdout",
     "output_type": "stream",
     "text": [
      "0\n"
     ]
    }
   ],
   "source": [
    "df.duplicated().sum()"
   ]
  },
  {
   "cell_type": "markdown",
   "metadata": {},
   "source": [
    "Явных дубликатов больше не осталось"
   ]
  },
  {
   "cell_type": "markdown",
   "metadata": {
    "deletable": false,
    "editable": false,
    "id": "QlFBsxAr_Zct"
   },
   "source": [
    "Теперь избавимся от неявных дубликатов в колонке `genre`"
   ]
  },
  {
   "cell_type": "markdown",
   "metadata": {
    "deletable": false,
    "editable": false,
    "id": "eSjWwsOh_Zct",
    "tags": [
     "start_task"
    ]
   },
   "source": [
    "Отсортируем в алфавитном порядке и выведем все уникальные значения из столбца `genre`"
   ]
  },
  {
   "cell_type": "code",
   "execution_count": 15,
   "metadata": {
    "deletable": false,
    "id": "JIUcqzZN_Zct"
   },
   "outputs": [
    {
     "name": "stdout",
     "output_type": "stream",
     "text": [
      "['acid' 'acoustic' 'action' 'adult' 'africa' 'afrikaans' 'alternative'\n",
      " 'alternativepunk' 'ambient' 'americana' 'animated' 'anime' 'arabesk'\n",
      " 'arabic' 'arena' 'argentinetango' 'art' 'audiobook' 'author' 'avantgarde'\n",
      " 'axé' 'baile' 'balkan' 'beats' 'bigroom' 'black' 'bluegrass' 'blues'\n",
      " 'bollywood' 'bossa' 'brazilian' 'breakbeat' 'breaks' 'broadway'\n",
      " 'cantautori' 'cantopop' 'canzone' 'caribbean' 'caucasian' 'celtic'\n",
      " 'chamber' 'chanson' 'children' 'chill' 'chinese' 'choral' 'christian'\n",
      " 'christmas' 'classical' 'classicmetal' 'club' 'colombian' 'comedy'\n",
      " 'conjazz' 'contemporary' 'country' 'cuban' 'dance' 'dancehall' 'dancepop'\n",
      " 'dark' 'death' 'deep' 'deutschrock' 'deutschspr' 'dirty' 'disco' 'dnb'\n",
      " 'documentary' 'downbeat' 'downtempo' 'drum' 'dub' 'dubstep' 'eastern'\n",
      " 'easy' 'electronic' 'electropop' 'emo' 'entehno' 'epicmetal' 'estrada'\n",
      " 'ethnic' 'eurofolk' 'european' 'experimental' 'extrememetal' 'fado'\n",
      " 'fairytail' 'film' 'fitness' 'flamenco' 'folk' 'folklore' 'folkmetal'\n",
      " 'folkrock' 'folktronica' 'forró' 'frankreich' 'französisch' 'french'\n",
      " 'funk' 'future' 'gangsta' 'garage' 'german' 'ghazal' 'gitarre' 'glitch'\n",
      " 'gospel' 'gothic' 'grime' 'grunge' 'gypsy' 'handsup' \"hard'n'heavy\"\n",
      " 'hardcore' 'hardstyle' 'hardtechno' 'hip' 'hip-hop' 'hiphop' 'historisch'\n",
      " 'holiday' 'hop' 'horror' 'house' 'hymn' 'idm' 'independent' 'indian'\n",
      " 'indie' 'indipop' 'industrial' 'inspirational' 'instrumental'\n",
      " 'international' 'irish' 'jam' 'japanese' 'jazz' 'jewish' 'jpop' 'jungle'\n",
      " 'k-pop' 'karadeniz' 'karaoke' 'kayokyoku' 'korean' 'laiko' 'latin'\n",
      " 'latino' 'leftfield' 'local' 'lounge' 'loungeelectronic' 'lovers'\n",
      " 'malaysian' 'mandopop' 'marschmusik' 'meditative' 'mediterranean'\n",
      " 'melodic' 'metal' 'metalcore' 'mexican' 'middle' 'minimal'\n",
      " 'miscellaneous' 'modern' 'mood' 'mpb' 'muslim' 'native' 'neoklassik'\n",
      " 'neue' 'new' 'newage' 'newwave' 'nu' 'nujazz' 'numetal' 'oceania' 'old'\n",
      " 'opera' 'orchestral' 'other' 'piano' 'podcasts' 'pop' 'popdance'\n",
      " 'popelectronic' 'popeurodance' 'poprussian' 'post' 'posthardcore'\n",
      " 'postrock' 'power' 'progmetal' 'progressive' 'psychedelic' 'punjabi'\n",
      " 'punk' 'quebecois' 'ragga' 'ram' 'rancheras' 'rap' 'rave' 'reggae'\n",
      " 'reggaeton' 'regional' 'relax' 'religious' 'retro' 'rhythm' 'rnb' 'rnr'\n",
      " 'rock' 'rockabilly' 'rockalternative' 'rockindie' 'rockother' 'romance'\n",
      " 'roots' 'ruspop' 'rusrap' 'rusrock' 'russian' 'salsa' 'samba' 'scenic'\n",
      " 'schlager' 'self' 'sertanejo' 'shanson' 'shoegazing' 'showtunes' 'singer'\n",
      " 'ska' 'skarock' 'slow' 'smooth' 'soft' 'soul' 'soulful' 'sound'\n",
      " 'soundtrack' 'southern' 'specialty' 'speech' 'spiritual' 'sport'\n",
      " 'stonerrock' 'surf' 'swing' 'synthpop' 'synthrock' 'sängerportrait'\n",
      " 'tango' 'tanzorchester' 'taraftar' 'tatar' 'tech' 'techno' 'teen'\n",
      " 'thrash' 'top' 'traditional' 'tradjazz' 'trance' 'tribal' 'trip'\n",
      " 'triphop' 'tropical' 'türk' 'türkçe' 'ukrrock' 'unknown' 'urban' 'uzbek'\n",
      " 'variété' 'vi' 'videogame' 'vocal' 'western' 'world' 'worldbeat' 'ïîï'\n",
      " 'электроника']\n"
     ]
    }
   ],
   "source": [
    "df_sorted = df.sort_values(by='genre')\n",
    "df_unique = df_sorted['genre'].unique()\n",
    "df_unique"
   ]
  },
  {
   "cell_type": "markdown",
   "metadata": {
    "deletable": false,
    "editable": false,
    "id": "qej-Qmuo_Zct",
    "tags": [
     "start_task"
    ]
   },
   "source": [
    "В списке обнаружены не явные дубликаты названия `hiphop`:\n",
    "\n",
    "* *hip*,\n",
    "* *hop*,\n",
    "* *hip-hop*.\n",
    "\n",
    "Используя метод `replace()` исправлю их на значение `hiphop`"
   ]
  },
  {
   "cell_type": "code",
   "execution_count": 16,
   "metadata": {
    "deletable": false,
    "id": "ErNDkmns_Zct"
   },
   "outputs": [],
   "source": [
    "# Устранение неявных дубликатов\n",
    "incorrect_genres = ['hip', 'hop', 'hip-hop']\n",
    "for i in incorrect_genres:\n",
    "    df['genre'] = df['genre'].replace(i, 'hiphop')"
   ]
  },
  {
   "cell_type": "code",
   "execution_count": null,
   "metadata": {
    "deletable": false,
    "id": "wvixALnFG15m"
   },
   "outputs": [
    {
     "name": "stdout",
     "output_type": "stream",
     "text": [
      "['acid' 'acoustic' 'action' 'adult' 'africa' 'afrikaans' 'alternative'\n",
      " 'alternativepunk' 'ambient' 'americana' 'animated' 'anime' 'arabesk'\n",
      " 'arabic' 'arena' 'argentinetango' 'art' 'audiobook' 'author' 'avantgarde'\n",
      " 'axé' 'baile' 'balkan' 'beats' 'bigroom' 'black' 'bluegrass' 'blues'\n",
      " 'bollywood' 'bossa' 'brazilian' 'breakbeat' 'breaks' 'broadway'\n",
      " 'cantautori' 'cantopop' 'canzone' 'caribbean' 'caucasian' 'celtic'\n",
      " 'chamber' 'chanson' 'children' 'chill' 'chinese' 'choral' 'christian'\n",
      " 'christmas' 'classical' 'classicmetal' 'club' 'colombian' 'comedy'\n",
      " 'conjazz' 'contemporary' 'country' 'cuban' 'dance' 'dancehall' 'dancepop'\n",
      " 'dark' 'death' 'deep' 'deutschrock' 'deutschspr' 'dirty' 'disco' 'dnb'\n",
      " 'documentary' 'downbeat' 'downtempo' 'drum' 'dub' 'dubstep' 'eastern'\n",
      " 'easy' 'electronic' 'electropop' 'emo' 'entehno' 'epicmetal' 'estrada'\n",
      " 'ethnic' 'eurofolk' 'european' 'experimental' 'extrememetal' 'fado'\n",
      " 'fairytail' 'film' 'fitness' 'flamenco' 'folk' 'folklore' 'folkmetal'\n",
      " 'folkrock' 'folktronica' 'forró' 'frankreich' 'französisch' 'french'\n",
      " 'funk' 'future' 'gangsta' 'garage' 'german' 'ghazal' 'gitarre' 'glitch'\n",
      " 'gospel' 'gothic' 'grime' 'grunge' 'gypsy' 'handsup' \"hard'n'heavy\"\n",
      " 'hardcore' 'hardstyle' 'hardtechno' 'hiphop' 'historisch' 'holiday'\n",
      " 'horror' 'house' 'hymn' 'idm' 'independent' 'indian' 'indie' 'indipop'\n",
      " 'industrial' 'inspirational' 'instrumental' 'international' 'irish' 'jam'\n",
      " 'japanese' 'jazz' 'jewish' 'jpop' 'jungle' 'k-pop' 'karadeniz' 'karaoke'\n",
      " 'kayokyoku' 'korean' 'laiko' 'latin' 'latino' 'leftfield' 'local'\n",
      " 'lounge' 'loungeelectronic' 'lovers' 'malaysian' 'mandopop' 'marschmusik'\n",
      " 'meditative' 'mediterranean' 'melodic' 'metal' 'metalcore' 'mexican'\n",
      " 'middle' 'minimal' 'miscellaneous' 'modern' 'mood' 'mpb' 'muslim'\n",
      " 'native' 'neoklassik' 'neue' 'new' 'newage' 'newwave' 'nu' 'nujazz'\n",
      " 'numetal' 'oceania' 'old' 'opera' 'orchestral' 'other' 'piano' 'podcasts'\n",
      " 'pop' 'popdance' 'popelectronic' 'popeurodance' 'poprussian' 'post'\n",
      " 'posthardcore' 'postrock' 'power' 'progmetal' 'progressive' 'psychedelic'\n",
      " 'punjabi' 'punk' 'quebecois' 'ragga' 'ram' 'rancheras' 'rap' 'rave'\n",
      " 'reggae' 'reggaeton' 'regional' 'relax' 'religious' 'retro' 'rhythm'\n",
      " 'rnb' 'rnr' 'rock' 'rockabilly' 'rockalternative' 'rockindie' 'rockother'\n",
      " 'romance' 'roots' 'ruspop' 'rusrap' 'rusrock' 'russian' 'salsa' 'samba'\n",
      " 'scenic' 'schlager' 'self' 'sertanejo' 'shanson' 'shoegazing' 'showtunes'\n",
      " 'singer' 'ska' 'skarock' 'slow' 'smooth' 'soft' 'soul' 'soulful' 'sound'\n",
      " 'soundtrack' 'southern' 'specialty' 'speech' 'spiritual' 'sport'\n",
      " 'stonerrock' 'surf' 'swing' 'synthpop' 'synthrock' 'sängerportrait'\n",
      " 'tango' 'tanzorchester' 'taraftar' 'tatar' 'tech' 'techno' 'teen'\n",
      " 'thrash' 'top' 'traditional' 'tradjazz' 'trance' 'tribal' 'trip'\n",
      " 'triphop' 'tropical' 'türk' 'türkçe' 'ukrrock' 'unknown' 'urban' 'uzbek'\n",
      " 'variété' 'vi' 'videogame' 'vocal' 'western' 'world' 'worldbeat' 'ïîï'\n",
      " 'электроника']\n"
     ]
    }
   ],
   "source": [
    "# Проверка на неявные дубликаты\n",
    "srt = df.sort_values(by='genre')\n",
    "srt = srt['genre'].unique()\n",
    "print(srt)"
   ]
  },
  {
   "cell_type": "markdown",
   "metadata": {
    "deletable": false,
    "editable": false,
    "id": "jz6a9-7HQUDd"
   },
   "source": [
    "**Выводы**\n",
    "\n",
    "На этапе предобработки в данных обнаружились не только пропуски и проблемы с названиями столбцов, но и всяческие виды дубликатов. Их удаление позволит провести анализ точнее. Поскольку сведения о жанрах важно сохранить для анализа, не просто удаляем все пропущенные значения, но заполним пропущенные имена исполнителей и названия треков. Имена столбцов теперь корректны и удобны для дальнейшей работы."
   ]
  },
  {
   "cell_type": "markdown",
   "metadata": {
    "deletable": false,
    "editable": false,
    "id": "WttZHXH0SqKk"
   },
   "source": [
    "## Сравнения прослушивания музыки в разных городах"
   ]
  },
  {
   "cell_type": "markdown",
   "metadata": {
    "deletable": false,
    "editable": false,
    "id": "nwt_MuaL_Zcu"
   },
   "source": [
    "Была выдвинута гипотеза, что в Москве и Санкт-Петербурге пользователи слушают музыку по-разному. Проверяем это предположение по данным о трёх днях недели — понедельнике, среде и пятнице.\n",
    "\n",
    "Для каждого города устанавливаем количество прослушанных в эти дни композиций с известным жанром, и сравниваем результаты."
   ]
  },
  {
   "cell_type": "code",
   "execution_count": 18,
   "metadata": {
    "deletable": false,
    "id": "0_Qs96oh_Zcu"
   },
   "outputs": [
    {
     "data": {
      "text/plain": [
       "city\n",
       "Moscow              42741\n",
       "Saint-Petersburg    18512\n",
       "Name: time, dtype: int64"
      ]
     },
     "execution_count": 18,
     "metadata": {},
     "output_type": "execute_result"
    }
   ],
   "source": [
    "# Подсчёт прослушиваний в каждом городе\n",
    "city_grouped_df = df.groupby('city')['time'].count()\n",
    "city_grouped_df"
   ]
  },
  {
   "cell_type": "markdown",
   "metadata": {
    "deletable": false,
    "editable": false,
    "id": "dzli3w8o_Zcu",
    "tags": [
     "start_task"
    ]
   },
   "source": [
    "В Москве прослушиваний больше, чем в Петербурге. Из этого не следует, что московские пользователи чаще слушают музыку. Просто самих пользователей в Москве больше."
   ]
  },
  {
   "cell_type": "code",
   "execution_count": 19,
   "metadata": {
    "deletable": false,
    "id": "uZMKjiJz_Zcu"
   },
   "outputs": [
    {
     "data": {
      "text/plain": [
       "day\n",
       "Friday       21840\n",
       "Monday       21354\n",
       "Wednesday    18059\n",
       "Name: time, dtype: int64"
      ]
     },
     "execution_count": 19,
     "metadata": {},
     "output_type": "execute_result"
    }
   ],
   "source": [
    "# Подсчёт прослушиваний в каждый из трёх дней\n",
    "day_grouped_df = df.groupby('day')['time'].count()\n",
    "day_grouped_df"
   ]
  },
  {
   "cell_type": "markdown",
   "metadata": {
    "deletable": false,
    "editable": false,
    "id": "cC2tNrlL_Zcu"
   },
   "source": [
    "В среднем пользователи из двух городов менее активны по средам. Но картина может измениться, если рассмотреть каждый город в отдельности."
   ]
  },
  {
   "cell_type": "code",
   "execution_count": 20,
   "metadata": {
    "deletable": false,
    "id": "Nz3GdQB1_Zcu"
   },
   "outputs": [],
   "source": [
    "# Создаю функцию number_tracks()\n",
    "def number_tracks(day:str, city:str):\n",
    "    \"\"\" Функция для подсчета кол-ва треков прослушанный в заданном городе и дне\n",
    "    \n",
    "    :param day:str - день недели\n",
    "    :param city:str - город\n",
    "    :return: количество прослушиваний\n",
    "    \"\"\"\n",
    "\n",
    "    track_list = df[df['day']==day]\n",
    "    track_list = track_list[track_list['city']==city]\n",
    "    track_list_count = track_list['user_id'].count()\n",
    "    return track_list_count"
   ]
  },
  {
   "cell_type": "markdown",
   "metadata": {
    "deletable": false,
    "editable": false,
    "id": "ytf7xFrFJQ2r",
    "tags": [
     "start_task"
    ]
   },
   "source": [
    "Вызываю функцию 6 раз, что бы найти кол-во прослушиваний для каждого города (Москва, Санкт-Петербург) для дней (понедельник, среда, пятница)"
   ]
  },
  {
   "cell_type": "code",
   "execution_count": 21,
   "metadata": {
    "deletable": false,
    "id": "rJcRATNQ_Zcu"
   },
   "outputs": [
    {
     "data": {
      "text/plain": [
       "15740"
      ]
     },
     "execution_count": 21,
     "metadata": {},
     "output_type": "execute_result"
    }
   ],
   "source": [
    "# количество прослушиваний в Москве по понедельникам\n",
    "number_tracks('Monday', 'Moscow')"
   ]
  },
  {
   "cell_type": "code",
   "execution_count": 22,
   "metadata": {
    "deletable": false,
    "id": "hq_ncZ5T_Zcu"
   },
   "outputs": [
    {
     "data": {
      "text/plain": [
       "5614"
      ]
     },
     "execution_count": 22,
     "metadata": {},
     "output_type": "execute_result"
    }
   ],
   "source": [
    "# количество прослушиваний в Санкт-Петербурге по понедельникам\n",
    "number_tracks('Monday', 'Saint-Petersburg')"
   ]
  },
  {
   "cell_type": "code",
   "execution_count": 23,
   "metadata": {
    "deletable": false,
    "id": "_NTy2VPU_Zcu"
   },
   "outputs": [
    {
     "data": {
      "text/plain": [
       "11056"
      ]
     },
     "execution_count": 23,
     "metadata": {},
     "output_type": "execute_result"
    }
   ],
   "source": [
    "# количество прослушиваний в Москве по средам\n",
    "number_tracks('Wednesday', 'Moscow')"
   ]
  },
  {
   "cell_type": "code",
   "execution_count": 24,
   "metadata": {
    "deletable": false,
    "id": "j2y3TAwo_Zcu"
   },
   "outputs": [
    {
     "data": {
      "text/plain": [
       "7003"
      ]
     },
     "execution_count": 24,
     "metadata": {},
     "output_type": "execute_result"
    }
   ],
   "source": [
    "# количество прослушиваний в Санкт-Петербурге по средам\n",
    "number_tracks('Wednesday', 'Saint-Petersburg')"
   ]
  },
  {
   "cell_type": "code",
   "execution_count": 25,
   "metadata": {
    "deletable": false,
    "id": "vYDw5u_K_Zcu"
   },
   "outputs": [
    {
     "data": {
      "text/plain": [
       "15945"
      ]
     },
     "execution_count": 25,
     "metadata": {},
     "output_type": "execute_result"
    }
   ],
   "source": [
    "# количество прослушиваний в Москве по пятницам\n",
    "number_tracks('Friday', 'Moscow')"
   ]
  },
  {
   "cell_type": "code",
   "execution_count": 26,
   "metadata": {
    "deletable": false,
    "id": "8_yzFtW3_Zcu"
   },
   "outputs": [
    {
     "data": {
      "text/plain": [
       "5895"
      ]
     },
     "execution_count": 26,
     "metadata": {},
     "output_type": "execute_result"
    }
   ],
   "source": [
    "# количество прослушиваний в Санкт-Петербурге по пятницам\n",
    "number_tracks('Friday', 'Saint-Petersburg')"
   ]
  },
  {
   "cell_type": "markdown",
   "metadata": {
    "deletable": false,
    "editable": false,
    "id": "7QXffbO-_Zcu",
    "tags": [
     "start_task"
    ]
   },
   "source": [
    "Создаю DataFrame с данными которые я получил"
   ]
  },
  {
   "cell_type": "code",
   "execution_count": 27,
   "metadata": {
    "deletable": false,
    "id": "APAcLpOr_Zcu"
   },
   "outputs": [
    {
     "data": {
      "text/html": [
       "<div>\n",
       "<style scoped>\n",
       "    .dataframe tbody tr th:only-of-type {\n",
       "        vertical-align: middle;\n",
       "    }\n",
       "\n",
       "    .dataframe tbody tr th {\n",
       "        vertical-align: top;\n",
       "    }\n",
       "\n",
       "    .dataframe thead th {\n",
       "        text-align: right;\n",
       "    }\n",
       "</style>\n",
       "<table border=\"1\" class=\"dataframe\">\n",
       "  <thead>\n",
       "    <tr style=\"text-align: right;\">\n",
       "      <th></th>\n",
       "      <th>city</th>\n",
       "      <th>monday</th>\n",
       "      <th>wednesday</th>\n",
       "      <th>friday</th>\n",
       "    </tr>\n",
       "  </thead>\n",
       "  <tbody>\n",
       "    <tr>\n",
       "      <th>0</th>\n",
       "      <td>Moscow</td>\n",
       "      <td>16715</td>\n",
       "      <td>11755</td>\n",
       "      <td>16890</td>\n",
       "    </tr>\n",
       "    <tr>\n",
       "      <th>1</th>\n",
       "      <td>Saint-Petersburg</td>\n",
       "      <td>5982</td>\n",
       "      <td>7478</td>\n",
       "      <td>6259</td>\n",
       "    </tr>\n",
       "  </tbody>\n",
       "</table>\n",
       "</div>"
      ],
      "text/plain": [
       "               city  monday  wednesday  friday\n",
       "0            Moscow   16715      11755   16890\n",
       "1  Saint-Petersburg    5982       7478    6259"
      ]
     },
     "execution_count": 27,
     "metadata": {},
     "output_type": "execute_result"
    }
   ],
   "source": [
    "# Таблица с результатами\n",
    "data = [\n",
    "    ['Moscow', 16715, 11755, 16890],\n",
    "    ['Saint-Petersburg', 5982, 7478, 6259]\n",
    "]\n",
    "columns = ['city', 'monday', 'wednesday', 'friday']\n",
    "pd.DataFrame(data=data, columns=columns)"
   ]
  },
  {
   "cell_type": "markdown",
   "metadata": {
    "deletable": false,
    "editable": false,
    "id": "-EgPIHYu_Zcu"
   },
   "source": [
    "**Выводы**\n",
    "\n",
    "Результаты показывают, что относительно среды музыку в Петербурге и Москве слушают «зеркально»: в Москве пики приходятся на понедельник и пятницу, а в среду время прослушивания снижается. Тогда как в Санкт-Петербурге среда — день самого большого интереса к музыке, а в понедельник и пятницу он меньше, причём почти одинаково меньше."
   ]
  },
  {
   "cell_type": "markdown",
   "metadata": {
    "deletable": false,
    "editable": false,
    "id": "atZAxtq4_Zcu"
   },
   "source": [
    "### Музыка в начале и в конце недели"
   ]
  },
  {
   "cell_type": "markdown",
   "metadata": {
    "deletable": false,
    "editable": false,
    "id": "S8UcW6Hw_Zcu",
    "tags": [
     "start_task"
    ]
   },
   "source": [
    "Создаю два DataFrame:\n",
    "* `moscow_general` - все данные по Москве\n",
    "* `spg_general` - все данные по Санкт-Петербургу"
   ]
  },
  {
   "cell_type": "code",
   "execution_count": 28,
   "metadata": {
    "deletable": false,
    "id": "qeaFfM_P_Zcu"
   },
   "outputs": [
    {
     "name": "stdout",
     "output_type": "stream",
     "text": [
      "(42741, 7)\n"
     ]
    }
   ],
   "source": [
    "moscow_general = df[df['city']=='Moscow']\n",
    "moscow_general.shape"
   ]
  },
  {
   "cell_type": "code",
   "execution_count": 29,
   "metadata": {
    "deletable": false,
    "id": "ORaVRKto_Zcu"
   },
   "outputs": [
    {
     "name": "stdout",
     "output_type": "stream",
     "text": [
      "(18512, 7)\n"
     ]
    }
   ],
   "source": [
    "spb_general = df[df['city']=='Saint-Petersburg']\n",
    "spb_general.shape"
   ]
  },
  {
   "cell_type": "markdown",
   "metadata": {
    "deletable": false,
    "id": "MEJV-CX2_Zcu",
    "tags": [
     "start_task"
    ]
   },
   "source": [
    "Создайте функцию `genre_weekday()` с четырьмя параметрами что бы найти топ-10 жанров по количеству прослушиваний в заданные день и промежуток времени"
   ]
  },
  {
   "cell_type": "code",
   "execution_count": 30,
   "metadata": {
    "deletable": false,
    "id": "laJT9BYl_Zcu"
   },
   "outputs": [
    {
     "name": "stdout",
     "output_type": "stream",
     "text": [
      "(42741, 7)\n",
      "(18512, 7)\n"
     ]
    }
   ],
   "source": [
    "def genre_weekday(df, day, time1, time2):\n",
    "    \"\"\"\n",
    "    :param df:pd.DataFrame - DataFrame в котором будут проводиться действия\n",
    "    :param day:str - день недели\n",
    "    :param time1\n",
    "    :param time2\n",
    "    :return:pd.Series - 10 самых популярных жанров в указанный отрезок\n",
    "    \"\"\"\n",
    "\n",
    "    genre_df = df[df['day'] == day]\n",
    "    genre_df = genre_df[genre_df['time'] > time1]\n",
    "    genre_df = genre_df[genre_df['time'] < time2]\n",
    "    genre_df_grouped = genre_df.groupby('genre')['genre'].count()\n",
    "    genre_df_sorted = genre_df_grouped.sort_values(ascending=False)\n",
    "\n",
    "    return genre_df_sorted[:10]\n",
    "moscow_general.shape\n",
    "spb_general.shape"
   ]
  },
  {
   "cell_type": "code",
   "execution_count": 31,
   "metadata": {
    "deletable": false,
    "id": "yz7itPUQ_Zcu"
   },
   "outputs": [
    {
     "name": "stdout",
     "output_type": "stream",
     "text": [
      "genre\n",
      "pop            781\n",
      "dance          549\n",
      "electronic     480\n",
      "rock           474\n",
      "hiphop         286\n",
      "ruspop         186\n",
      "world          181\n",
      "rusrap         175\n",
      "alternative    164\n",
      "unknown        161\n",
      "Name: genre, dtype: int64\n"
     ]
    }
   ],
   "source": [
    "# вызов функции для утра понедельника в Москве\n",
    "genre_weekday(moscow_general, 'Monday', '07:00', '11:00')"
   ]
  },
  {
   "cell_type": "code",
   "execution_count": 32,
   "metadata": {
    "deletable": false,
    "id": "kwUcHPdy_Zcu"
   },
   "outputs": [
    {
     "name": "stdout",
     "output_type": "stream",
     "text": [
      "genre\n",
      "pop            218\n",
      "dance          182\n",
      "rock           162\n",
      "electronic     147\n",
      "hiphop          80\n",
      "ruspop          64\n",
      "alternative     58\n",
      "rusrap          55\n",
      "jazz            44\n",
      "classical       40\n",
      "Name: genre, dtype: int64\n"
     ]
    }
   ],
   "source": [
    "# вызов функции для утра понедельника в Петербурге\n",
    "genre_weekday(spb_general, 'Monday', '07:00', '11:00')"
   ]
  },
  {
   "cell_type": "code",
   "execution_count": 33,
   "metadata": {
    "deletable": false,
    "id": "EzXVRE1o_Zcu"
   },
   "outputs": [
    {
     "name": "stdout",
     "output_type": "stream",
     "text": [
      "genre\n",
      "pop            713\n",
      "rock           517\n",
      "dance          495\n",
      "electronic     482\n",
      "hiphop         273\n",
      "world          208\n",
      "ruspop         170\n",
      "alternative    163\n",
      "classical      163\n",
      "rusrap         142\n",
      "Name: genre, dtype: int64\n"
     ]
    }
   ],
   "source": [
    "# вызов функции для вечера пятницы в Москве\n",
    "genre_weekday(moscow_general, 'Friday', '17:00', '23:00')"
   ]
  },
  {
   "cell_type": "code",
   "execution_count": 34,
   "metadata": {
    "deletable": false,
    "id": "JZaEKu5v_Zcu"
   },
   "outputs": [
    {
     "name": "stdout",
     "output_type": "stream",
     "text": [
      "genre\n",
      "pop            256\n",
      "electronic     216\n",
      "rock           216\n",
      "dance          210\n",
      "hiphop          97\n",
      "alternative     63\n",
      "jazz            61\n",
      "classical       60\n",
      "rusrap          59\n",
      "world           54\n",
      "Name: genre, dtype: int64\n",
      "(42741, 7)\n",
      "(18512, 7)\n"
     ]
    }
   ],
   "source": [
    "# вызов функции для вечера пятницы в Петербурге\n",
    "print(genre_weekday(spb_general, 'Friday', '17:00', '23:00'))\n",
    "print(moscow_general.shape)\n",
    "print(spb_general.shape)"
   ]
  },
  {
   "cell_type": "markdown",
   "metadata": {
    "deletable": false,
    "editable": false,
    "id": "wrCe4MNX_Zcu"
   },
   "source": [
    "**Вывод**\n",
    "\n",
    "В Москве, кроме абсолютно популярного жанра поп, есть направление русской популярной музыки. Значит, что интерес к этому жанру шире. А рэп, вопреки предположению, занимает в обоих городах близкие позиции."
   ]
  },
  {
   "cell_type": "markdown",
   "metadata": {
    "deletable": false,
    "editable": false,
    "id": "JolODAqr_Zcu"
   },
   "source": [
    "### Сравнения предпочтений в жанрах между Москвой и Петербургом"
   ]
  },
  {
   "cell_type": "markdown",
   "metadata": {
    "deletable": false,
    "editable": false,
    "id": "DlegSvaT_Zcu",
    "tags": [
     "start_task"
    ]
   },
   "source": [
    "Создаю две переменные для Москвы и Питера, в каждом будет количество прослушиваний по каждому жанру"
   ]
  },
  {
   "cell_type": "code",
   "execution_count": 35,
   "metadata": {
    "deletable": false,
    "id": "r19lIPke_Zcu"
   },
   "outputs": [],
   "source": [
    "moscow_general_grouped = moscow_general.groupby('genre')['genre'].count()\n",
    "moscow_genres = moscow_general_grouped.sort_values(ascending=False)"
   ]
  },
  {
   "cell_type": "code",
   "execution_count": 36,
   "metadata": {
    "deletable": false,
    "id": "WhCSooF8_Zcv"
   },
   "outputs": [
    {
     "name": "stdout",
     "output_type": "stream",
     "text": [
      "genre\n",
      "pop            5892\n",
      "dance          4435\n",
      "rock           3965\n",
      "electronic     3786\n",
      "hiphop         2096\n",
      "classical      1616\n",
      "world          1432\n",
      "alternative    1379\n",
      "ruspop         1372\n",
      "rusrap         1161\n",
      "Name: genre, dtype: int64\n"
     ]
    }
   ],
   "source": [
    "# просмотр первых 10 строк moscow_genres\n",
    "moscow_genres.head(10)"
   ]
  },
  {
   "cell_type": "code",
   "execution_count": 37,
   "metadata": {
    "deletable": false,
    "id": "gluLIpE7_Zcv"
   },
   "outputs": [],
   "source": [
    "spb_general_grouped = spb_general.groupby('genre')['genre'].count()\n",
    "spb_genres = spb_general_grouped.sort_values(ascending=False)"
   ]
  },
  {
   "cell_type": "code",
   "execution_count": 38,
   "metadata": {
    "deletable": false,
    "id": "uaGJHjVU_Zcv"
   },
   "outputs": [
    {
     "name": "stdout",
     "output_type": "stream",
     "text": [
      "genre\n",
      "pop            2431\n",
      "dance          1932\n",
      "rock           1879\n",
      "electronic     1736\n",
      "hiphop          960\n",
      "alternative     649\n",
      "classical       646\n",
      "rusrap          564\n",
      "ruspop          538\n",
      "world           515\n",
      "Name: genre, dtype: int64\n"
     ]
    }
   ],
   "source": [
    "# просмотр первых 10 строк spb_genres\n",
    "print(spb_genres.head(10))"
   ]
  },
  {
   "cell_type": "markdown",
   "metadata": {
    "deletable": false,
    "editable": false,
    "id": "RY51YJYu_Zcv"
   },
   "source": [
    "**Выводы**"
   ]
  },
  {
   "cell_type": "markdown",
   "metadata": {
    "deletable": false,
    "editable": false,
    "id": "nVhnJEm__Zcv"
   },
   "source": [
    "Гипотеза частично подтвердилась:\n",
    "* Поп-музыка — самый популярный жанр в Москве, как и предполагала гипотеза. Более того, в топ-10 жанров встречается близкий жанр — русская популярная музыка.\n",
    "* Вопреки ожиданиям, рэп одинаково популярен в Москве и Петербурге. \n"
   ]
  },
  {
   "cell_type": "markdown",
   "metadata": {
    "deletable": false,
    "editable": false,
    "id": "ykKQ0N65_Zcv"
   },
   "source": [
    "## Итоги исследования"
   ]
  },
  {
   "cell_type": "markdown",
   "metadata": {
    "deletable": false,
    "editable": false,
    "id": "tjUwbHb3_Zcv"
   },
   "source": [
    "Рабочие гипотезы:\n",
    "\n",
    "* музыку в двух городах — Москве и Санкт-Петербурге — слушают в разном режиме;\n",
    "\n",
    "* списки десяти самых популярных жанров утром в понедельник и вечером в пятницу имеют характерные отличия;\n",
    "\n",
    "* население двух городов предпочитает разные музыкальные жанры.\n",
    "\n",
    "Общие результаты\n",
    "\n",
    "Москва и Петербург сходятся во вкусах. При этом зависимости предпочтений от дня недели в каждом отдельном городе нет — люди постоянно слушают то, что им нравится. Но между городами в разрезе дней неделей наблюдается зеркальность относительно среды: Москва больше слушает в понедельник и пятницу, а Петербург наоборот - больше в среду, но меньше в понедельник и пятницу.\n",
    "\n",
    "В результате первая гипотеза подтверждена, вторая гипотеза подтверждена и третья гипотеза подтверждена."
   ]
  }
 ],
 "metadata": {
  "ExecuteTimeLog": [
   {
    "duration": 78,
    "start_time": "2023-02-08T08:26:04.020Z"
   },
   {
    "duration": 11,
    "start_time": "2023-02-08T08:37:21.194Z"
   },
   {
    "duration": 9,
    "start_time": "2023-02-08T08:37:40.734Z"
   },
   {
    "duration": 10,
    "start_time": "2023-02-08T08:38:12.223Z"
   },
   {
    "duration": 10,
    "start_time": "2023-02-08T08:39:46.038Z"
   },
   {
    "duration": 38,
    "start_time": "2023-02-08T08:40:49.406Z"
   },
   {
    "duration": 4,
    "start_time": "2023-02-08T08:41:16.618Z"
   },
   {
    "duration": 9,
    "start_time": "2023-02-08T08:41:47.036Z"
   },
   {
    "duration": 3,
    "start_time": "2023-02-08T08:41:59.939Z"
   },
   {
    "duration": 40,
    "start_time": "2023-02-08T08:42:09.619Z"
   },
   {
    "duration": 31,
    "start_time": "2023-02-08T08:42:32.598Z"
   },
   {
    "duration": 24,
    "start_time": "2023-02-08T08:42:44.849Z"
   },
   {
    "duration": 44,
    "start_time": "2023-02-08T08:43:01.983Z"
   },
   {
    "duration": 49,
    "start_time": "2023-02-08T08:43:09.606Z"
   },
   {
    "duration": 12,
    "start_time": "2023-02-08T08:43:23.162Z"
   },
   {
    "duration": 56,
    "start_time": "2023-02-08T08:43:31.540Z"
   },
   {
    "duration": 62,
    "start_time": "2023-02-08T08:43:37.077Z"
   },
   {
    "duration": 47,
    "start_time": "2023-02-08T08:44:03.942Z"
   },
   {
    "duration": 4,
    "start_time": "2023-02-08T08:44:07.410Z"
   },
   {
    "duration": 4,
    "start_time": "2023-02-08T08:44:25.069Z"
   },
   {
    "duration": 158,
    "start_time": "2023-02-08T08:47:52.368Z"
   },
   {
    "duration": 13,
    "start_time": "2023-02-08T08:52:06.408Z"
   },
   {
    "duration": 5,
    "start_time": "2023-02-08T08:52:30.436Z"
   },
   {
    "duration": 67,
    "start_time": "2023-02-08T08:52:45.519Z"
   },
   {
    "duration": 12,
    "start_time": "2023-02-08T08:52:58.753Z"
   },
   {
    "duration": 12,
    "start_time": "2023-02-08T08:53:21.853Z"
   },
   {
    "duration": 4,
    "start_time": "2023-02-08T08:53:40.425Z"
   },
   {
    "duration": 11,
    "start_time": "2023-02-08T08:53:56.216Z"
   },
   {
    "duration": 4,
    "start_time": "2023-02-08T08:54:02.261Z"
   },
   {
    "duration": 4,
    "start_time": "2023-02-08T08:54:27.101Z"
   },
   {
    "duration": 158,
    "start_time": "2023-02-08T08:54:45.195Z"
   },
   {
    "duration": 11,
    "start_time": "2023-02-08T08:55:01.407Z"
   },
   {
    "duration": 36,
    "start_time": "2023-02-08T08:55:23.481Z"
   },
   {
    "duration": 38,
    "start_time": "2023-02-08T08:58:06.803Z"
   },
   {
    "duration": 33,
    "start_time": "2023-02-08T08:58:16.968Z"
   },
   {
    "duration": 12,
    "start_time": "2023-02-08T08:59:31.798Z"
   },
   {
    "duration": 12,
    "start_time": "2023-02-08T09:00:04.166Z"
   },
   {
    "duration": 3,
    "start_time": "2023-02-08T09:00:33.509Z"
   },
   {
    "duration": 8,
    "start_time": "2023-02-08T09:00:39.462Z"
   },
   {
    "duration": 4,
    "start_time": "2023-02-08T09:00:44.898Z"
   },
   {
    "duration": 10,
    "start_time": "2023-02-08T09:01:48.725Z"
   },
   {
    "duration": 11,
    "start_time": "2023-02-08T09:02:00.488Z"
   },
   {
    "duration": 4,
    "start_time": "2023-02-08T09:02:08.588Z"
   },
   {
    "duration": 42,
    "start_time": "2023-02-08T09:02:34.812Z"
   },
   {
    "duration": 39,
    "start_time": "2023-02-08T09:03:25.657Z"
   },
   {
    "duration": 36,
    "start_time": "2023-02-08T09:03:30.469Z"
   },
   {
    "duration": 31,
    "start_time": "2023-02-08T09:04:55.361Z"
   },
   {
    "duration": 49,
    "start_time": "2023-02-08T12:38:38.494Z"
   },
   {
    "duration": 6,
    "start_time": "2023-02-08T12:38:44.973Z"
   },
   {
    "duration": 6,
    "start_time": "2023-02-08T12:38:50.533Z"
   },
   {
    "duration": 8,
    "start_time": "2023-02-08T12:38:56.557Z"
   },
   {
    "duration": 428,
    "start_time": "2023-02-08T12:38:59.946Z"
   },
   {
    "duration": 248,
    "start_time": "2023-02-08T12:39:01.818Z"
   },
   {
    "duration": 15,
    "start_time": "2023-02-08T12:39:10.156Z"
   },
   {
    "duration": 4,
    "start_time": "2023-02-08T12:39:14.157Z"
   },
   {
    "duration": 1133,
    "start_time": "2023-02-08T12:43:19.482Z"
   },
   {
    "duration": 42,
    "start_time": "2023-02-08T12:43:34.250Z"
   },
   {
    "duration": 3,
    "start_time": "2023-02-08T12:44:48.277Z"
   },
   {
    "duration": 17,
    "start_time": "2023-02-08T12:44:50.974Z"
   },
   {
    "duration": 10,
    "start_time": "2023-02-08T12:46:55.208Z"
   },
   {
    "duration": 14,
    "start_time": "2023-02-08T12:47:08.650Z"
   },
   {
    "duration": 3,
    "start_time": "2023-02-08T12:59:07.512Z"
   },
   {
    "duration": 52,
    "start_time": "2023-02-08T13:07:00.281Z"
   },
   {
    "duration": 63,
    "start_time": "2023-02-08T13:08:16.172Z"
   },
   {
    "duration": 44,
    "start_time": "2023-02-08T13:08:52.981Z"
   },
   {
    "duration": 55,
    "start_time": "2023-02-08T13:11:08.325Z"
   },
   {
    "duration": 33,
    "start_time": "2023-02-08T13:12:22.150Z"
   },
   {
    "duration": 23,
    "start_time": "2023-02-08T13:12:30.762Z"
   },
   {
    "duration": 3,
    "start_time": "2023-02-08T13:12:41.496Z"
   },
   {
    "duration": 17,
    "start_time": "2023-02-08T13:12:44.174Z"
   },
   {
    "duration": 16,
    "start_time": "2023-02-08T13:12:46.371Z"
   },
   {
    "duration": 16,
    "start_time": "2023-02-08T13:12:48.649Z"
   },
   {
    "duration": 15,
    "start_time": "2023-02-08T13:12:49.016Z"
   },
   {
    "duration": 25,
    "start_time": "2023-02-08T13:12:49.388Z"
   },
   {
    "duration": 16,
    "start_time": "2023-02-08T13:12:49.916Z"
   },
   {
    "duration": 15,
    "start_time": "2023-02-08T13:12:52.852Z"
   },
   {
    "duration": 9,
    "start_time": "2023-02-08T13:13:34.481Z"
   },
   {
    "duration": 8,
    "start_time": "2023-02-08T13:14:00.277Z"
   },
   {
    "duration": 6,
    "start_time": "2023-02-08T13:14:26.566Z"
   },
   {
    "duration": 12,
    "start_time": "2023-02-08T13:14:32.694Z"
   },
   {
    "duration": 16,
    "start_time": "2023-02-08T13:14:48.891Z"
   },
   {
    "duration": 14,
    "start_time": "2023-02-08T13:14:58.085Z"
   },
   {
    "duration": 13,
    "start_time": "2023-02-08T13:15:44.793Z"
   },
   {
    "duration": 8,
    "start_time": "2023-02-08T13:23:12.668Z"
   },
   {
    "duration": 21,
    "start_time": "2023-02-08T13:23:16.922Z"
   },
   {
    "duration": 16,
    "start_time": "2023-02-08T13:23:21.415Z"
   },
   {
    "duration": 20,
    "start_time": "2023-02-08T13:23:28.494Z"
   },
   {
    "duration": 16,
    "start_time": "2023-02-08T13:23:28.767Z"
   },
   {
    "duration": 21,
    "start_time": "2023-02-08T13:23:29.057Z"
   },
   {
    "duration": 17,
    "start_time": "2023-02-08T13:23:29.299Z"
   },
   {
    "duration": 19,
    "start_time": "2023-02-08T13:23:29.578Z"
   },
   {
    "duration": 17,
    "start_time": "2023-02-08T13:23:29.934Z"
   },
   {
    "duration": 18,
    "start_time": "2023-02-08T13:23:31.197Z"
   },
   {
    "duration": 20,
    "start_time": "2023-02-08T13:23:55.659Z"
   },
   {
    "duration": 18,
    "start_time": "2023-02-08T13:25:03.333Z"
   },
   {
    "duration": 19,
    "start_time": "2023-02-08T13:25:21.316Z"
   },
   {
    "duration": 19,
    "start_time": "2023-02-08T13:25:26.566Z"
   },
   {
    "duration": 15,
    "start_time": "2023-02-08T13:25:48.450Z"
   },
   {
    "duration": 18,
    "start_time": "2023-02-08T13:25:48.697Z"
   },
   {
    "duration": 22,
    "start_time": "2023-02-08T13:25:49.209Z"
   },
   {
    "duration": 16,
    "start_time": "2023-02-08T13:25:57.147Z"
   },
   {
    "duration": 17,
    "start_time": "2023-02-08T13:25:57.419Z"
   },
   {
    "duration": 20,
    "start_time": "2023-02-08T13:25:57.688Z"
   },
   {
    "duration": 18,
    "start_time": "2023-02-08T13:25:58.055Z"
   },
   {
    "duration": 24,
    "start_time": "2023-02-08T13:26:22.491Z"
   },
   {
    "duration": 22,
    "start_time": "2023-02-08T13:26:23.847Z"
   },
   {
    "duration": 27,
    "start_time": "2023-02-08T13:27:28.801Z"
   },
   {
    "duration": 25,
    "start_time": "2023-02-08T13:27:30.235Z"
   },
   {
    "duration": 17,
    "start_time": "2023-02-08T13:27:32.330Z"
   },
   {
    "duration": 19,
    "start_time": "2023-02-08T13:27:33.798Z"
   },
   {
    "duration": 19,
    "start_time": "2023-02-08T13:27:35.036Z"
   },
   {
    "duration": 15,
    "start_time": "2023-02-08T13:27:44.757Z"
   },
   {
    "duration": 43,
    "start_time": "2023-02-08T13:29:36.777Z"
   },
   {
    "duration": 29,
    "start_time": "2023-02-08T13:29:45.030Z"
   },
   {
    "duration": 9,
    "start_time": "2023-02-08T13:32:47.200Z"
   },
   {
    "duration": 9,
    "start_time": "2023-02-08T13:33:32.107Z"
   },
   {
    "duration": 9,
    "start_time": "2023-02-08T13:34:23.709Z"
   },
   {
    "duration": 5,
    "start_time": "2023-02-09T11:12:34.466Z"
   },
   {
    "duration": 18,
    "start_time": "2023-02-09T11:14:44.640Z"
   },
   {
    "duration": 4,
    "start_time": "2023-02-09T11:16:01.641Z"
   },
   {
    "duration": 4,
    "start_time": "2023-02-09T11:16:04.633Z"
   },
   {
    "duration": 106,
    "start_time": "2023-02-09T11:17:02.868Z"
   },
   {
    "duration": 16,
    "start_time": "2023-02-09T11:17:20.150Z"
   },
   {
    "duration": 5,
    "start_time": "2023-02-09T11:24:28.469Z"
   },
   {
    "duration": 25,
    "start_time": "2023-02-09T11:49:15.482Z"
   },
   {
    "duration": 4,
    "start_time": "2023-02-09T11:49:34.050Z"
   },
   {
    "duration": 18,
    "start_time": "2023-02-09T11:49:35.179Z"
   },
   {
    "duration": 13,
    "start_time": "2023-02-09T11:49:56.369Z"
   },
   {
    "duration": 16,
    "start_time": "2023-02-09T11:49:59.472Z"
   },
   {
    "duration": 11,
    "start_time": "2023-02-09T11:50:02.166Z"
   },
   {
    "duration": 4,
    "start_time": "2023-02-09T11:50:31.287Z"
   },
   {
    "duration": 18,
    "start_time": "2023-02-09T11:50:32.069Z"
   },
   {
    "duration": 5,
    "start_time": "2023-02-09T11:50:45.021Z"
   },
   {
    "duration": 18,
    "start_time": "2023-02-09T11:50:46.471Z"
   },
   {
    "duration": 20,
    "start_time": "2023-02-09T11:53:31.819Z"
   },
   {
    "duration": 28,
    "start_time": "2023-02-09T11:53:46.384Z"
   },
   {
    "duration": 23,
    "start_time": "2023-02-09T11:54:33.258Z"
   },
   {
    "duration": 29,
    "start_time": "2023-02-09T11:55:08.550Z"
   },
   {
    "duration": 20,
    "start_time": "2023-02-09T11:56:15.535Z"
   },
   {
    "duration": 28,
    "start_time": "2023-02-09T11:57:22.584Z"
   },
   {
    "duration": 34,
    "start_time": "2023-02-09T11:57:39.791Z"
   },
   {
    "duration": 21,
    "start_time": "2023-02-09T11:57:54.913Z"
   },
   {
    "duration": 23,
    "start_time": "2023-02-09T11:58:40.243Z"
   },
   {
    "duration": 23,
    "start_time": "2023-02-09T11:58:51.478Z"
   },
   {
    "duration": 4,
    "start_time": "2023-02-09T11:59:01.175Z"
   },
   {
    "duration": 21,
    "start_time": "2023-02-09T11:59:12.194Z"
   },
   {
    "duration": 15,
    "start_time": "2023-02-09T11:59:13.574Z"
   },
   {
    "duration": 29,
    "start_time": "2023-02-09T12:30:48.564Z"
   },
   {
    "duration": 18,
    "start_time": "2023-02-09T12:31:01.243Z"
   },
   {
    "duration": 46,
    "start_time": "2023-02-09T12:31:29.309Z"
   },
   {
    "duration": 4,
    "start_time": "2023-02-09T13:09:54.775Z"
   },
   {
    "duration": 6,
    "start_time": "2023-02-09T13:10:24.514Z"
   },
   {
    "duration": 5,
    "start_time": "2023-02-09T13:10:40.477Z"
   },
   {
    "duration": 5,
    "start_time": "2023-02-09T13:10:41.698Z"
   },
   {
    "duration": 8,
    "start_time": "2023-02-09T13:11:42.782Z"
   },
   {
    "duration": 37,
    "start_time": "2023-02-09T13:12:08.105Z"
   },
   {
    "duration": 7,
    "start_time": "2023-02-09T13:12:26.139Z"
   },
   {
    "duration": 11,
    "start_time": "2023-02-09T13:12:47.837Z"
   },
   {
    "duration": 14,
    "start_time": "2023-02-09T13:13:03.282Z"
   },
   {
    "duration": 30,
    "start_time": "2023-02-09T13:13:52.255Z"
   },
   {
    "duration": 6,
    "start_time": "2023-02-09T13:14:41.855Z"
   },
   {
    "duration": 5,
    "start_time": "2023-02-09T13:14:54.784Z"
   },
   {
    "duration": 13,
    "start_time": "2023-02-09T13:15:02.941Z"
   },
   {
    "duration": 11,
    "start_time": "2023-02-09T13:43:50.663Z"
   },
   {
    "duration": 5,
    "start_time": "2023-02-09T13:44:02.539Z"
   },
   {
    "duration": 6,
    "start_time": "2023-02-09T13:45:07.261Z"
   },
   {
    "duration": 6,
    "start_time": "2023-02-09T13:45:25.286Z"
   },
   {
    "duration": 21,
    "start_time": "2023-02-09T13:45:49.001Z"
   },
   {
    "duration": 11,
    "start_time": "2023-02-09T13:45:58.280Z"
   },
   {
    "duration": 26,
    "start_time": "2023-02-09T13:46:05.569Z"
   },
   {
    "duration": 7,
    "start_time": "2023-02-09T13:46:27.946Z"
   },
   {
    "duration": 11,
    "start_time": "2023-02-09T13:46:35.266Z"
   },
   {
    "duration": 30,
    "start_time": "2023-02-09T13:46:47.126Z"
   },
   {
    "duration": 5,
    "start_time": "2023-02-09T13:47:02.357Z"
   },
   {
    "duration": 14,
    "start_time": "2023-02-09T13:47:07.706Z"
   },
   {
    "duration": 12,
    "start_time": "2023-02-09T13:47:09.881Z"
   },
   {
    "duration": 7,
    "start_time": "2023-02-09T13:47:13.950Z"
   },
   {
    "duration": 29,
    "start_time": "2023-02-09T13:47:17.257Z"
   },
   {
    "duration": 27,
    "start_time": "2023-02-09T13:47:25.644Z"
   },
   {
    "duration": 5,
    "start_time": "2023-02-09T13:49:34.984Z"
   },
   {
    "duration": 11,
    "start_time": "2023-02-09T13:49:41.471Z"
   },
   {
    "duration": 12,
    "start_time": "2023-02-09T13:49:48.564Z"
   },
   {
    "duration": 11,
    "start_time": "2023-02-09T13:49:49.267Z"
   },
   {
    "duration": 8,
    "start_time": "2023-02-09T13:49:50.702Z"
   },
   {
    "duration": 26,
    "start_time": "2023-02-09T13:49:52.372Z"
   },
   {
    "duration": 12,
    "start_time": "2023-02-09T13:49:53.037Z"
   },
   {
    "duration": 18,
    "start_time": "2023-02-09T13:49:53.966Z"
   },
   {
    "duration": 11,
    "start_time": "2023-02-09T13:49:54.645Z"
   },
   {
    "duration": 23,
    "start_time": "2023-02-09T13:49:57.181Z"
   },
   {
    "duration": 5,
    "start_time": "2023-02-09T13:50:31.772Z"
   },
   {
    "duration": 23,
    "start_time": "2023-02-09T13:51:36.394Z"
   },
   {
    "duration": 5,
    "start_time": "2023-02-09T13:51:38.980Z"
   },
   {
    "duration": 9,
    "start_time": "2023-02-09T13:52:08.092Z"
   },
   {
    "duration": 4,
    "start_time": "2023-02-09T13:52:09.607Z"
   },
   {
    "duration": 8,
    "start_time": "2023-02-09T13:53:10.144Z"
   },
   {
    "duration": 3,
    "start_time": "2023-02-09T13:53:10.943Z"
   },
   {
    "duration": 2,
    "start_time": "2023-02-09T13:53:35.745Z"
   },
   {
    "duration": 8,
    "start_time": "2023-02-09T13:55:24.344Z"
   },
   {
    "duration": 6,
    "start_time": "2023-02-09T13:55:48.774Z"
   },
   {
    "duration": 4,
    "start_time": "2023-02-09T13:55:49.444Z"
   },
   {
    "duration": 414,
    "start_time": "2024-04-28T19:06:39.496Z"
   },
   {
    "duration": 238,
    "start_time": "2024-04-28T19:06:39.912Z"
   },
   {
    "duration": 8,
    "start_time": "2024-04-28T19:06:40.152Z"
   },
   {
    "duration": 42,
    "start_time": "2024-04-28T19:06:40.161Z"
   },
   {
    "duration": 39,
    "start_time": "2024-04-28T19:06:40.205Z"
   },
   {
    "duration": 10,
    "start_time": "2024-04-28T19:06:40.245Z"
   },
   {
    "duration": 26,
    "start_time": "2024-04-28T19:06:40.256Z"
   },
   {
    "duration": 21,
    "start_time": "2024-04-28T19:06:40.283Z"
   },
   {
    "duration": 58,
    "start_time": "2024-04-28T19:06:40.306Z"
   },
   {
    "duration": 42,
    "start_time": "2024-04-28T19:06:40.365Z"
   },
   {
    "duration": 24,
    "start_time": "2024-04-28T19:06:40.408Z"
   },
   {
    "duration": 68,
    "start_time": "2024-04-28T19:06:40.433Z"
   },
   {
    "duration": 64,
    "start_time": "2024-04-28T19:06:40.503Z"
   },
   {
    "duration": 71,
    "start_time": "2024-04-28T19:06:40.570Z"
   },
   {
    "duration": 61,
    "start_time": "2024-04-28T19:06:40.643Z"
   },
   {
    "duration": 9,
    "start_time": "2024-04-28T19:06:40.706Z"
   },
   {
    "duration": 52,
    "start_time": "2024-04-28T19:06:40.717Z"
   },
   {
    "duration": 34,
    "start_time": "2024-04-28T19:06:40.771Z"
   },
   {
    "duration": 17,
    "start_time": "2024-04-28T19:06:40.807Z"
   },
   {
    "duration": 4,
    "start_time": "2024-04-28T19:06:40.826Z"
   },
   {
    "duration": 37,
    "start_time": "2024-04-28T19:06:40.832Z"
   },
   {
    "duration": 47,
    "start_time": "2024-04-28T19:06:40.871Z"
   },
   {
    "duration": 19,
    "start_time": "2024-04-28T19:06:40.920Z"
   },
   {
    "duration": 17,
    "start_time": "2024-04-28T19:06:40.940Z"
   },
   {
    "duration": 35,
    "start_time": "2024-04-28T19:06:40.958Z"
   },
   {
    "duration": 15,
    "start_time": "2024-04-28T19:06:40.994Z"
   },
   {
    "duration": 50,
    "start_time": "2024-04-28T19:06:41.011Z"
   },
   {
    "duration": 37,
    "start_time": "2024-04-28T19:06:41.062Z"
   },
   {
    "duration": 10,
    "start_time": "2024-04-28T19:06:41.101Z"
   },
   {
    "duration": 4,
    "start_time": "2024-04-28T19:06:41.113Z"
   },
   {
    "duration": 23,
    "start_time": "2024-04-28T19:06:41.119Z"
   },
   {
    "duration": 11,
    "start_time": "2024-04-28T19:06:41.143Z"
   },
   {
    "duration": 38,
    "start_time": "2024-04-28T19:06:41.156Z"
   },
   {
    "duration": 10,
    "start_time": "2024-04-28T19:06:41.195Z"
   },
   {
    "duration": 12,
    "start_time": "2024-04-28T19:06:41.207Z"
   },
   {
    "duration": 6,
    "start_time": "2024-04-28T19:06:41.221Z"
   },
   {
    "duration": 16,
    "start_time": "2024-04-28T19:06:41.228Z"
   },
   {
    "duration": 6,
    "start_time": "2024-04-28T19:06:41.245Z"
   },
   {
    "duration": 11,
    "start_time": "2024-04-28T19:07:09.838Z"
   }
  ],
  "colab": {
   "collapsed_sections": [
    "E0vqbgi9ay0H",
    "VUC88oWjTJw2"
   ],
   "provenance": []
  },
  "kernelspec": {
   "display_name": "Python 3 (ipykernel)",
   "language": "python",
   "name": "python3"
  },
  "language_info": {
   "codemirror_mode": {
    "name": "ipython",
    "version": 3
   },
   "file_extension": ".py",
   "mimetype": "text/x-python",
   "name": "python",
   "nbconvert_exporter": "python",
   "pygments_lexer": "ipython3",
   "version": "3.9.5"
  },
  "toc": {
   "base_numbering": 1,
   "nav_menu": {
    "height": "215px",
    "width": "403px"
   },
   "number_sections": true,
   "sideBar": true,
   "skip_h1_title": true,
   "title_cell": "Table of Contents",
   "title_sidebar": "Contents",
   "toc_cell": false,
   "toc_position": {
    "height": "calc(100% - 180px)",
    "left": "10px",
    "top": "150px",
    "width": "285.825px"
   },
   "toc_section_display": true,
   "toc_window_display": false
  }
 },
 "nbformat": 4,
 "nbformat_minor": 1
}
