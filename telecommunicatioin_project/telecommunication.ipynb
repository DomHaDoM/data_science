{
 "cells": [
  {
   "cell_type": "markdown",
   "metadata": {},
   "source": [
    "# Проект телекомуникации"
   ]
  },
  {
   "cell_type": "markdown",
   "metadata": {},
   "source": [
    "***Описание проекта***:\n",
    "\n",
    "Оператор связи хочет научиться прогнозировать отток клиентов. Если выяснится, что пользователь планирует уйти, ему будут предложены промокоды и специальные условия. Команда оператора собрала персональные данные о некоторых клиентах, информацию об их тарифах и договорах."
   ]
  },
  {
   "cell_type": "markdown",
   "metadata": {},
   "source": [
    "Цель проекта:\n",
    "\n",
    "- Научиться предсказывать то, что клиенты хотят уйти и давать промокоды ил спец. условия.\n",
    "- Целевая метрика `AUC-ROC` должна превышать `0.88`"
   ]
  },
  {
   "cell_type": "markdown",
   "metadata": {},
   "source": [
    "### 1. Импорт библиотек"
   ]
  },
  {
   "cell_type": "code",
   "execution_count": 19,
   "metadata": {},
   "outputs": [],
   "source": [
    "# Pandas\n",
    "import pandas as pd\n",
    "# Numpy\n",
    "import numpy as np\n",
    "# Matplotlib\n",
    "import matplotlib.pyplot as plt\n",
    "# Seaborn\n",
    "import seaborn as sns\n",
    "# Datetime\n",
    "import datetime as dt\n",
    "from datetime import datetime \n",
    "# CatBoost\n",
    "from catboost import CatBoostClassifier\n",
    "# LightGBM\n",
    "from lightgbm import LGBMClassifier\n",
    "# Sklearn\n",
    "from sklearn.preprocessing import StandardScaler, OrdinalEncoder\n",
    "from sklearn.model_selection import GridSearchCV, train_test_split\n",
    "from sklearn.tree import DecisionTreeClassifier\n",
    "from sklearn.ensemble import RandomForestClassifier\n",
    "from sklearn.metrics import make_scorer, roc_auc_score, accuracy_score, confusion_matrix\n",
    "from sklearn.utils.class_weight import compute_class_weight\n",
    "# Phik\n",
    "from phik import phik_matrix"
   ]
  },
  {
   "cell_type": "code",
   "execution_count": 20,
   "metadata": {},
   "outputs": [],
   "source": [
    "sns.set(style='darkgrid')\n",
    "plt.rcParams['figure.figsize'] = (16, 9)\n",
    "RANDOM_STATE = 161023\n",
    "scorer = make_scorer(roc_auc_score, greater_is_better=True)"
   ]
  },
  {
   "cell_type": "markdown",
   "metadata": {},
   "source": [
    "### 2. Предобработка данных"
   ]
  },
  {
   "cell_type": "code",
   "execution_count": 21,
   "metadata": {},
   "outputs": [],
   "source": [
    "try:\n",
    "    df_contract = pd.read_csv('contract_new.csv')#, parse_dates=['BeginDate'])#, date_format='%Y-%m-%d')\n",
    "    df_personal = pd.read_csv('personal_new.csv')#, parse_dates=['BeginDate'])#, date_format='%Y-%m-%d')\n",
    "    df_internet = pd.read_csv('internet_new.csv')#, parse_dates=['BeginDate'])#, date_format='%Y-%m-%d')\n",
    "    df_phone = pd.read_csv('phone_new.csv')#, parse_dates=['BeginDate'])#, date_format='%Y-%m-%d')  \n",
    "except:\n",
    "    print('Data was not found')"
   ]
  },
  {
   "cell_type": "markdown",
   "metadata": {},
   "source": [
    "### 2.1 Информация по контрактам"
   ]
  },
  {
   "cell_type": "code",
   "execution_count": 22,
   "metadata": {},
   "outputs": [
    {
     "name": "stdout",
     "output_type": "stream",
     "text": [
      "<class 'pandas.core.frame.DataFrame'>\n",
      "RangeIndex: 7043 entries, 0 to 7042\n",
      "Data columns (total 8 columns):\n",
      " #   Column            Non-Null Count  Dtype  \n",
      "---  ------            --------------  -----  \n",
      " 0   customerID        7043 non-null   object \n",
      " 1   BeginDate         7043 non-null   object \n",
      " 2   EndDate           7043 non-null   object \n",
      " 3   Type              7043 non-null   object \n",
      " 4   PaperlessBilling  7043 non-null   object \n",
      " 5   PaymentMethod     7043 non-null   object \n",
      " 6   MonthlyCharges    7043 non-null   float64\n",
      " 7   TotalCharges      7043 non-null   object \n",
      "dtypes: float64(1), object(7)\n",
      "memory usage: 440.3+ KB\n"
     ]
    },
    {
     "data": {
      "text/html": [
       "<div>\n",
       "<style scoped>\n",
       "    .dataframe tbody tr th:only-of-type {\n",
       "        vertical-align: middle;\n",
       "    }\n",
       "\n",
       "    .dataframe tbody tr th {\n",
       "        vertical-align: top;\n",
       "    }\n",
       "\n",
       "    .dataframe thead th {\n",
       "        text-align: right;\n",
       "    }\n",
       "</style>\n",
       "<table border=\"1\" class=\"dataframe\">\n",
       "  <thead>\n",
       "    <tr style=\"text-align: right;\">\n",
       "      <th></th>\n",
       "      <th>customerID</th>\n",
       "      <th>BeginDate</th>\n",
       "      <th>EndDate</th>\n",
       "      <th>Type</th>\n",
       "      <th>PaperlessBilling</th>\n",
       "      <th>PaymentMethod</th>\n",
       "      <th>MonthlyCharges</th>\n",
       "      <th>TotalCharges</th>\n",
       "    </tr>\n",
       "  </thead>\n",
       "  <tbody>\n",
       "    <tr>\n",
       "      <th>0</th>\n",
       "      <td>7590-VHVEG</td>\n",
       "      <td>2020-01-01</td>\n",
       "      <td>No</td>\n",
       "      <td>Month-to-month</td>\n",
       "      <td>Yes</td>\n",
       "      <td>Electronic check</td>\n",
       "      <td>29.85</td>\n",
       "      <td>31.04</td>\n",
       "    </tr>\n",
       "    <tr>\n",
       "      <th>1</th>\n",
       "      <td>5575-GNVDE</td>\n",
       "      <td>2017-04-01</td>\n",
       "      <td>No</td>\n",
       "      <td>One year</td>\n",
       "      <td>No</td>\n",
       "      <td>Mailed check</td>\n",
       "      <td>56.95</td>\n",
       "      <td>2071.84</td>\n",
       "    </tr>\n",
       "    <tr>\n",
       "      <th>2</th>\n",
       "      <td>3668-QPYBK</td>\n",
       "      <td>2019-10-01</td>\n",
       "      <td>No</td>\n",
       "      <td>Month-to-month</td>\n",
       "      <td>Yes</td>\n",
       "      <td>Mailed check</td>\n",
       "      <td>53.85</td>\n",
       "      <td>226.17</td>\n",
       "    </tr>\n",
       "    <tr>\n",
       "      <th>3</th>\n",
       "      <td>7795-CFOCW</td>\n",
       "      <td>2016-05-01</td>\n",
       "      <td>No</td>\n",
       "      <td>One year</td>\n",
       "      <td>No</td>\n",
       "      <td>Bank transfer (automatic)</td>\n",
       "      <td>42.30</td>\n",
       "      <td>1960.6</td>\n",
       "    </tr>\n",
       "    <tr>\n",
       "      <th>4</th>\n",
       "      <td>9237-HQITU</td>\n",
       "      <td>2019-09-01</td>\n",
       "      <td>No</td>\n",
       "      <td>Month-to-month</td>\n",
       "      <td>Yes</td>\n",
       "      <td>Electronic check</td>\n",
       "      <td>70.70</td>\n",
       "      <td>353.5</td>\n",
       "    </tr>\n",
       "  </tbody>\n",
       "</table>\n",
       "</div>"
      ],
      "text/plain": [
       "   customerID   BeginDate EndDate            Type PaperlessBilling  \\\n",
       "0  7590-VHVEG  2020-01-01      No  Month-to-month              Yes   \n",
       "1  5575-GNVDE  2017-04-01      No        One year               No   \n",
       "2  3668-QPYBK  2019-10-01      No  Month-to-month              Yes   \n",
       "3  7795-CFOCW  2016-05-01      No        One year               No   \n",
       "4  9237-HQITU  2019-09-01      No  Month-to-month              Yes   \n",
       "\n",
       "               PaymentMethod  MonthlyCharges TotalCharges  \n",
       "0           Electronic check           29.85        31.04  \n",
       "1               Mailed check           56.95      2071.84  \n",
       "2               Mailed check           53.85       226.17  \n",
       "3  Bank transfer (automatic)           42.30       1960.6  \n",
       "4           Electronic check           70.70        353.5  "
      ]
     },
     "execution_count": 22,
     "metadata": {},
     "output_type": "execute_result"
    }
   ],
   "source": [
    "df_contract.info()\n",
    "df_contract.head()"
   ]
  },
  {
   "cell_type": "code",
   "execution_count": 23,
   "metadata": {},
   "outputs": [
    {
     "data": {
      "image/png": "[encoded data removed]",
      "text/plain": [
       "<Figure size 1600x900 with 1 Axes>"
      ]
     },
     "metadata": {},
     "output_type": "display_data"
    }
   ],
   "source": [
    "sns.countplot(data=df_contract, x='PaymentMethod')\n",
    "plt.title('Сравнение типа оплаты')\n",
    "plt.show()"
   ]
  },
  {
   "cell_type": "code",
   "execution_count": 24,
   "metadata": {},
   "outputs": [
    {
     "data": {
      "image/png": "[encoded data removed]",
      "text/plain": [
       "<Figure size 1600x900 with 1 Axes>"
      ]
     },
     "metadata": {},
     "output_type": "display_data"
    }
   ],
   "source": [
    "sns.countplot(data=df_contract, x='Type')\n",
    "plt.title('Сравнение типа контракта')\n",
    "plt.show()"
   ]
  },
  {
   "cell_type": "code",
   "execution_count": 25,
   "metadata": {},
   "outputs": [],
   "source": [
    "ind = df_contract[df_contract[\"TotalCharges\"] == ' '].index\n",
    "df_contract.loc[ind, 'TotalCharges'] = None"
   ]
  },
  {
   "cell_type": "code",
   "execution_count": 26,
   "metadata": {},
   "outputs": [
    {
     "data": {
      "image/png": "[encoded data removed]",
      "text/plain": [
       "<Figure size 500x500 with 1 Axes>"
      ]
     },
     "metadata": {},
     "output_type": "display_data"
    }
   ],
   "source": [
    "sns.displot(df_contract['TotalCharges'].astype('float'))\n",
    "plt.title('Кол-во выплат клиента за все время')\n",
    "plt.show()"
   ]
  },
  {
   "cell_type": "markdown",
   "metadata": {},
   "source": [
    "Чистые данные, без пропусков. Однако странно что при исользовании `info()` столбец **TotalCharges** имеет тип *object*, хотя при использоовании `display()` на первый взгляд тип данны[] выгляжит как *float*. Как оказалось имеются значения ' ' которых 11 штук и я заменил их на `None`\n",
    "\n",
    "Топ методов оплат:\n",
    "1. Electronic check\n",
    "2. Mailed check\n",
    "3. Bank transfer (automatic)\n",
    "\n",
    "Самые популярный тип контракта - **Month-to-month**"
   ]
  },
  {
   "cell_type": "markdown",
   "metadata": {},
   "source": [
    "### 2.2 Персональная информация"
   ]
  },
  {
   "cell_type": "code",
   "execution_count": 27,
   "metadata": {},
   "outputs": [
    {
     "name": "stdout",
     "output_type": "stream",
     "text": [
      "<class 'pandas.core.frame.DataFrame'>\n",
      "RangeIndex: 7043 entries, 0 to 7042\n",
      "Data columns (total 5 columns):\n",
      " #   Column         Non-Null Count  Dtype \n",
      "---  ------         --------------  ----- \n",
      " 0   customerID     7043 non-null   object\n",
      " 1   gender         7043 non-null   object\n",
      " 2   SeniorCitizen  7043 non-null   int64 \n",
      " 3   Partner        7043 non-null   object\n",
      " 4   Dependents     7043 non-null   object\n",
      "dtypes: int64(1), object(4)\n",
      "memory usage: 275.2+ KB\n"
     ]
    },
    {
     "data": {
      "text/html": [
       "<div>\n",
       "<style scoped>\n",
       "    .dataframe tbody tr th:only-of-type {\n",
       "        vertical-align: middle;\n",
       "    }\n",
       "\n",
       "    .dataframe tbody tr th {\n",
       "        vertical-align: top;\n",
       "    }\n",
       "\n",
       "    .dataframe thead th {\n",
       "        text-align: right;\n",
       "    }\n",
       "</style>\n",
       "<table border=\"1\" class=\"dataframe\">\n",
       "  <thead>\n",
       "    <tr style=\"text-align: right;\">\n",
       "      <th></th>\n",
       "      <th>customerID</th>\n",
       "      <th>gender</th>\n",
       "      <th>SeniorCitizen</th>\n",
       "      <th>Partner</th>\n",
       "      <th>Dependents</th>\n",
       "    </tr>\n",
       "  </thead>\n",
       "  <tbody>\n",
       "    <tr>\n",
       "      <th>0</th>\n",
       "      <td>7590-VHVEG</td>\n",
       "      <td>Female</td>\n",
       "      <td>0</td>\n",
       "      <td>Yes</td>\n",
       "      <td>No</td>\n",
       "    </tr>\n",
       "    <tr>\n",
       "      <th>1</th>\n",
       "      <td>5575-GNVDE</td>\n",
       "      <td>Male</td>\n",
       "      <td>0</td>\n",
       "      <td>No</td>\n",
       "      <td>No</td>\n",
       "    </tr>\n",
       "    <tr>\n",
       "      <th>2</th>\n",
       "      <td>3668-QPYBK</td>\n",
       "      <td>Male</td>\n",
       "      <td>0</td>\n",
       "      <td>No</td>\n",
       "      <td>No</td>\n",
       "    </tr>\n",
       "    <tr>\n",
       "      <th>3</th>\n",
       "      <td>7795-CFOCW</td>\n",
       "      <td>Male</td>\n",
       "      <td>0</td>\n",
       "      <td>No</td>\n",
       "      <td>No</td>\n",
       "    </tr>\n",
       "    <tr>\n",
       "      <th>4</th>\n",
       "      <td>9237-HQITU</td>\n",
       "      <td>Female</td>\n",
       "      <td>0</td>\n",
       "      <td>No</td>\n",
       "      <td>No</td>\n",
       "    </tr>\n",
       "  </tbody>\n",
       "</table>\n",
       "</div>"
      ],
      "text/plain": [
       "   customerID  gender  SeniorCitizen Partner Dependents\n",
       "0  7590-VHVEG  Female              0     Yes         No\n",
       "1  5575-GNVDE    Male              0      No         No\n",
       "2  3668-QPYBK    Male              0      No         No\n",
       "3  7795-CFOCW    Male              0      No         No\n",
       "4  9237-HQITU  Female              0      No         No"
      ]
     },
     "execution_count": 27,
     "metadata": {},
     "output_type": "execute_result"
    }
   ],
   "source": [
    "df_personal.info()\n",
    "df_personal.head()"
   ]
  },
  {
   "cell_type": "code",
   "execution_count": 28,
   "metadata": {},
   "outputs": [
    {
     "data": {
      "image/png": "[encoded data removed]",
      "text/plain": [
       "<Figure size 1600x900 with 1 Axes>"
      ]
     },
     "metadata": {},
     "output_type": "display_data"
    },
    {
     "name": "stdout",
     "output_type": "stream",
     "text": [
      "Процент мужчин в клиентской базе 50.5%\n"
     ]
    },
    {
     "name": "stderr",
     "output_type": "stream",
     "text": [
      "C:\\Users\\monov\\AppData\\Local\\Temp\\ipykernel_23888\\525870590.py:4: FutureWarning: Series.__getitem__ treating keys as positions is deprecated. In a future version, integer keys will always be treated as labels (consistent with DataFrame behavior). To access a value by position, use `ser.iloc[pos]`\n",
      "  male_percent = round(df_personal[\"gender\"].value_counts(normalize=True)[0] * 100, 1)\n"
     ]
    }
   ],
   "source": [
    "sns.countplot(data=df_personal, x='gender')\n",
    "plt.title('Сравнение клиентской базы по Полу')\n",
    "plt.show()\n",
    "male_percent = round(df_personal[\"gender\"].value_counts(normalize=True)[0] * 100, 1)\n",
    "print(f'Процент мужчин в клиентской базе {male_percent}%')"
   ]
  },
  {
   "cell_type": "code",
   "execution_count": 29,
   "metadata": {},
   "outputs": [
    {
     "data": {
      "image/png": "[encoded data removed]",
      "text/plain": [
       "<Figure size 1600x900 with 1 Axes>"
      ]
     },
     "metadata": {},
     "output_type": "display_data"
    },
    {
     "name": "stdout",
     "output_type": "stream",
     "text": [
      "Наличие партнера у 48.3%\n"
     ]
    },
    {
     "name": "stderr",
     "output_type": "stream",
     "text": [
      "C:\\Users\\monov\\AppData\\Local\\Temp\\ipykernel_23888\\893019998.py:4: FutureWarning: Series.__getitem__ treating keys as positions is deprecated. In a future version, integer keys will always be treated as labels (consistent with DataFrame behavior). To access a value by position, use `ser.iloc[pos]`\n",
      "  partner_percent = round(df_personal[\"Partner\"].value_counts(normalize=True)[1] * 100, 2)\n"
     ]
    }
   ],
   "source": [
    "sns.countplot(data=df_personal, x='Partner')\n",
    "plt.title('Соотношение наличия у клиента партнера')\n",
    "plt.show()\n",
    "partner_percent = round(df_personal[\"Partner\"].value_counts(normalize=True)[1] * 100, 2)\n",
    "print(f'Наличие партнера у {partner_percent}%')"
   ]
  },
  {
   "cell_type": "markdown",
   "metadata": {},
   "source": [
    "Чистые данные без пропусков"
   ]
  },
  {
   "cell_type": "markdown",
   "metadata": {},
   "source": [
    "### 2.3 Информация по услугам"
   ]
  },
  {
   "cell_type": "code",
   "execution_count": 30,
   "metadata": {},
   "outputs": [
    {
     "name": "stdout",
     "output_type": "stream",
     "text": [
      "<class 'pandas.core.frame.DataFrame'>\n",
      "RangeIndex: 5517 entries, 0 to 5516\n",
      "Data columns (total 8 columns):\n",
      " #   Column            Non-Null Count  Dtype \n",
      "---  ------            --------------  ----- \n",
      " 0   customerID        5517 non-null   object\n",
      " 1   InternetService   5517 non-null   object\n",
      " 2   OnlineSecurity    5517 non-null   object\n",
      " 3   OnlineBackup      5517 non-null   object\n",
      " 4   DeviceProtection  5517 non-null   object\n",
      " 5   TechSupport       5517 non-null   object\n",
      " 6   StreamingTV       5517 non-null   object\n",
      " 7   StreamingMovies   5517 non-null   object\n",
      "dtypes: object(8)\n",
      "memory usage: 344.9+ KB\n"
     ]
    },
    {
     "data": {
      "text/html": [
       "<div>\n",
       "<style scoped>\n",
       "    .dataframe tbody tr th:only-of-type {\n",
       "        vertical-align: middle;\n",
       "    }\n",
       "\n",
       "    .dataframe tbody tr th {\n",
       "        vertical-align: top;\n",
       "    }\n",
       "\n",
       "    .dataframe thead th {\n",
       "        text-align: right;\n",
       "    }\n",
       "</style>\n",
       "<table border=\"1\" class=\"dataframe\">\n",
       "  <thead>\n",
       "    <tr style=\"text-align: right;\">\n",
       "      <th></th>\n",
       "      <th>customerID</th>\n",
       "      <th>InternetService</th>\n",
       "      <th>OnlineSecurity</th>\n",
       "      <th>OnlineBackup</th>\n",
       "      <th>DeviceProtection</th>\n",
       "      <th>TechSupport</th>\n",
       "      <th>StreamingTV</th>\n",
       "      <th>StreamingMovies</th>\n",
       "    </tr>\n",
       "  </thead>\n",
       "  <tbody>\n",
       "    <tr>\n",
       "      <th>0</th>\n",
       "      <td>7590-VHVEG</td>\n",
       "      <td>DSL</td>\n",
       "      <td>No</td>\n",
       "      <td>Yes</td>\n",
       "      <td>No</td>\n",
       "      <td>No</td>\n",
       "      <td>No</td>\n",
       "      <td>No</td>\n",
       "    </tr>\n",
       "    <tr>\n",
       "      <th>1</th>\n",
       "      <td>5575-GNVDE</td>\n",
       "      <td>DSL</td>\n",
       "      <td>Yes</td>\n",
       "      <td>No</td>\n",
       "      <td>Yes</td>\n",
       "      <td>No</td>\n",
       "      <td>No</td>\n",
       "      <td>No</td>\n",
       "    </tr>\n",
       "    <tr>\n",
       "      <th>2</th>\n",
       "      <td>3668-QPYBK</td>\n",
       "      <td>DSL</td>\n",
       "      <td>Yes</td>\n",
       "      <td>Yes</td>\n",
       "      <td>No</td>\n",
       "      <td>No</td>\n",
       "      <td>No</td>\n",
       "      <td>No</td>\n",
       "    </tr>\n",
       "    <tr>\n",
       "      <th>3</th>\n",
       "      <td>7795-CFOCW</td>\n",
       "      <td>DSL</td>\n",
       "      <td>Yes</td>\n",
       "      <td>No</td>\n",
       "      <td>Yes</td>\n",
       "      <td>Yes</td>\n",
       "      <td>No</td>\n",
       "      <td>No</td>\n",
       "    </tr>\n",
       "    <tr>\n",
       "      <th>4</th>\n",
       "      <td>9237-HQITU</td>\n",
       "      <td>Fiber optic</td>\n",
       "      <td>No</td>\n",
       "      <td>No</td>\n",
       "      <td>No</td>\n",
       "      <td>No</td>\n",
       "      <td>No</td>\n",
       "      <td>No</td>\n",
       "    </tr>\n",
       "  </tbody>\n",
       "</table>\n",
       "</div>"
      ],
      "text/plain": [
       "   customerID InternetService OnlineSecurity OnlineBackup DeviceProtection  \\\n",
       "0  7590-VHVEG             DSL             No          Yes               No   \n",
       "1  5575-GNVDE             DSL            Yes           No              Yes   \n",
       "2  3668-QPYBK             DSL            Yes          Yes               No   \n",
       "3  7795-CFOCW             DSL            Yes           No              Yes   \n",
       "4  9237-HQITU     Fiber optic             No           No               No   \n",
       "\n",
       "  TechSupport StreamingTV StreamingMovies  \n",
       "0          No          No              No  \n",
       "1          No          No              No  \n",
       "2          No          No              No  \n",
       "3         Yes          No              No  \n",
       "4          No          No              No  "
      ]
     },
     "execution_count": 30,
     "metadata": {},
     "output_type": "execute_result"
    }
   ],
   "source": [
    "df_internet.info()\n",
    "df_internet.head()"
   ]
  },
  {
   "cell_type": "code",
   "execution_count": 31,
   "metadata": {},
   "outputs": [
    {
     "data": {
      "image/png": "[encoded data removed]",
      "text/plain": [
       "<Figure size 1600x900 with 1 Axes>"
      ]
     },
     "metadata": {},
     "output_type": "display_data"
    },
    {
     "name": "stdout",
     "output_type": "stream",
     "text": [
      "Процент людей которые используют тип интернета \"Fiber optic\": 56.1%\n"
     ]
    }
   ],
   "source": [
    "sns.countplot(data=df_internet, x='InternetService')\n",
    "plt.title('Тип интернета')\n",
    "plt.show()\n",
    "fiber = df_internet[\"InternetService\"].value_counts(normalize=True)[\"Fiber optic\"]\n",
    "print(f'Процент людей которые используют тип интернета \"Fiber optic\": {round(fiber * 100, 1)}%')"
   ]
  },
  {
   "cell_type": "markdown",
   "metadata": {},
   "source": [
    "Процент использования типа интернета *Fiber Optic* - 56.1%"
   ]
  },
  {
   "cell_type": "markdown",
   "metadata": {},
   "source": [
    "### 2.4 Информация по телефоным линиям"
   ]
  },
  {
   "cell_type": "code",
   "execution_count": 32,
   "metadata": {},
   "outputs": [
    {
     "name": "stdout",
     "output_type": "stream",
     "text": [
      "<class 'pandas.core.frame.DataFrame'>\n",
      "RangeIndex: 6361 entries, 0 to 6360\n",
      "Data columns (total 2 columns):\n",
      " #   Column         Non-Null Count  Dtype \n",
      "---  ------         --------------  ----- \n",
      " 0   customerID     6361 non-null   object\n",
      " 1   MultipleLines  6361 non-null   object\n",
      "dtypes: object(2)\n",
      "memory usage: 99.5+ KB\n"
     ]
    },
    {
     "data": {
      "text/html": [
       "<div>\n",
       "<style scoped>\n",
       "    .dataframe tbody tr th:only-of-type {\n",
       "        vertical-align: middle;\n",
       "    }\n",
       "\n",
       "    .dataframe tbody tr th {\n",
       "        vertical-align: top;\n",
       "    }\n",
       "\n",
       "    .dataframe thead th {\n",
       "        text-align: right;\n",
       "    }\n",
       "</style>\n",
       "<table border=\"1\" class=\"dataframe\">\n",
       "  <thead>\n",
       "    <tr style=\"text-align: right;\">\n",
       "      <th></th>\n",
       "      <th>customerID</th>\n",
       "      <th>MultipleLines</th>\n",
       "    </tr>\n",
       "  </thead>\n",
       "  <tbody>\n",
       "    <tr>\n",
       "      <th>0</th>\n",
       "      <td>5575-GNVDE</td>\n",
       "      <td>No</td>\n",
       "    </tr>\n",
       "    <tr>\n",
       "      <th>1</th>\n",
       "      <td>3668-QPYBK</td>\n",
       "      <td>No</td>\n",
       "    </tr>\n",
       "    <tr>\n",
       "      <th>2</th>\n",
       "      <td>9237-HQITU</td>\n",
       "      <td>No</td>\n",
       "    </tr>\n",
       "    <tr>\n",
       "      <th>3</th>\n",
       "      <td>9305-CDSKC</td>\n",
       "      <td>Yes</td>\n",
       "    </tr>\n",
       "    <tr>\n",
       "      <th>4</th>\n",
       "      <td>1452-KIOVK</td>\n",
       "      <td>Yes</td>\n",
       "    </tr>\n",
       "  </tbody>\n",
       "</table>\n",
       "</div>"
      ],
      "text/plain": [
       "   customerID MultipleLines\n",
       "0  5575-GNVDE            No\n",
       "1  3668-QPYBK            No\n",
       "2  9237-HQITU            No\n",
       "3  9305-CDSKC           Yes\n",
       "4  1452-KIOVK           Yes"
      ]
     },
     "execution_count": 32,
     "metadata": {},
     "output_type": "execute_result"
    }
   ],
   "source": [
    "df_phone.info()\n",
    "df_phone.head()"
   ]
  },
  {
   "cell_type": "code",
   "execution_count": 33,
   "metadata": {},
   "outputs": [
    {
     "data": {
      "image/png": "[encoded data removed]",
      "text/plain": [
       "<Figure size 1600x900 with 1 Axes>"
      ]
     },
     "metadata": {},
     "output_type": "display_data"
    },
    {
     "name": "stdout",
     "output_type": "stream",
     "text": [
      "Процент наличия нескольких линий: 46.7%\n"
     ]
    }
   ],
   "source": [
    "sns.countplot(data=df_phone, x='MultipleLines')\n",
    "plt.title('Наличие нескольких линий связи')\n",
    "plt.show()\n",
    "MultipleLines = round(df_phone['MultipleLines'].value_counts(normalize=True)['Yes'] * 100, 1)\n",
    "print(f\"Процент наличия нескольких линий: {MultipleLines}%\")"
   ]
  },
  {
   "cell_type": "markdown",
   "metadata": {},
   "source": [
    "У 53.3 процентов людей всего одна линия связи"
   ]
  },
  {
   "cell_type": "markdown",
   "metadata": {},
   "source": [
    "## 3 Исследования"
   ]
  },
  {
   "cell_type": "code",
   "execution_count": 34,
   "metadata": {},
   "outputs": [
    {
     "data": {
      "text/html": [
       "<div>\n",
       "<style scoped>\n",
       "    .dataframe tbody tr th:only-of-type {\n",
       "        vertical-align: middle;\n",
       "    }\n",
       "\n",
       "    .dataframe tbody tr th {\n",
       "        vertical-align: top;\n",
       "    }\n",
       "\n",
       "    .dataframe thead th {\n",
       "        text-align: right;\n",
       "    }\n",
       "</style>\n",
       "<table border=\"1\" class=\"dataframe\">\n",
       "  <thead>\n",
       "    <tr style=\"text-align: right;\">\n",
       "      <th></th>\n",
       "      <th>customerID</th>\n",
       "      <th>BeginDate</th>\n",
       "      <th>EndDate</th>\n",
       "      <th>Type</th>\n",
       "      <th>PaperlessBilling</th>\n",
       "      <th>PaymentMethod</th>\n",
       "      <th>MonthlyCharges</th>\n",
       "      <th>TotalCharges</th>\n",
       "      <th>InternetService</th>\n",
       "      <th>OnlineSecurity</th>\n",
       "      <th>OnlineBackup</th>\n",
       "      <th>DeviceProtection</th>\n",
       "      <th>TechSupport</th>\n",
       "      <th>StreamingTV</th>\n",
       "      <th>StreamingMovies</th>\n",
       "      <th>gender</th>\n",
       "      <th>SeniorCitizen</th>\n",
       "      <th>Partner</th>\n",
       "      <th>Dependents</th>\n",
       "      <th>MultipleLines</th>\n",
       "    </tr>\n",
       "  </thead>\n",
       "  <tbody>\n",
       "    <tr>\n",
       "      <th>0</th>\n",
       "      <td>7590-VHVEG</td>\n",
       "      <td>2020-01-01</td>\n",
       "      <td>No</td>\n",
       "      <td>Month-to-month</td>\n",
       "      <td>Yes</td>\n",
       "      <td>Electronic check</td>\n",
       "      <td>29.85</td>\n",
       "      <td>31.04</td>\n",
       "      <td>DSL</td>\n",
       "      <td>No</td>\n",
       "      <td>Yes</td>\n",
       "      <td>No</td>\n",
       "      <td>No</td>\n",
       "      <td>No</td>\n",
       "      <td>No</td>\n",
       "      <td>Female</td>\n",
       "      <td>0</td>\n",
       "      <td>Yes</td>\n",
       "      <td>No</td>\n",
       "      <td>No</td>\n",
       "    </tr>\n",
       "    <tr>\n",
       "      <th>1</th>\n",
       "      <td>5575-GNVDE</td>\n",
       "      <td>2017-04-01</td>\n",
       "      <td>No</td>\n",
       "      <td>One year</td>\n",
       "      <td>No</td>\n",
       "      <td>Mailed check</td>\n",
       "      <td>56.95</td>\n",
       "      <td>2071.84</td>\n",
       "      <td>DSL</td>\n",
       "      <td>Yes</td>\n",
       "      <td>No</td>\n",
       "      <td>Yes</td>\n",
       "      <td>No</td>\n",
       "      <td>No</td>\n",
       "      <td>No</td>\n",
       "      <td>Male</td>\n",
       "      <td>0</td>\n",
       "      <td>No</td>\n",
       "      <td>No</td>\n",
       "      <td>No</td>\n",
       "    </tr>\n",
       "    <tr>\n",
       "      <th>2</th>\n",
       "      <td>3668-QPYBK</td>\n",
       "      <td>2019-10-01</td>\n",
       "      <td>No</td>\n",
       "      <td>Month-to-month</td>\n",
       "      <td>Yes</td>\n",
       "      <td>Mailed check</td>\n",
       "      <td>53.85</td>\n",
       "      <td>226.17</td>\n",
       "      <td>DSL</td>\n",
       "      <td>Yes</td>\n",
       "      <td>Yes</td>\n",
       "      <td>No</td>\n",
       "      <td>No</td>\n",
       "      <td>No</td>\n",
       "      <td>No</td>\n",
       "      <td>Male</td>\n",
       "      <td>0</td>\n",
       "      <td>No</td>\n",
       "      <td>No</td>\n",
       "      <td>No</td>\n",
       "    </tr>\n",
       "    <tr>\n",
       "      <th>3</th>\n",
       "      <td>7795-CFOCW</td>\n",
       "      <td>2016-05-01</td>\n",
       "      <td>No</td>\n",
       "      <td>One year</td>\n",
       "      <td>No</td>\n",
       "      <td>Bank transfer (automatic)</td>\n",
       "      <td>42.30</td>\n",
       "      <td>1960.6</td>\n",
       "      <td>DSL</td>\n",
       "      <td>Yes</td>\n",
       "      <td>No</td>\n",
       "      <td>Yes</td>\n",
       "      <td>Yes</td>\n",
       "      <td>No</td>\n",
       "      <td>No</td>\n",
       "      <td>Male</td>\n",
       "      <td>0</td>\n",
       "      <td>No</td>\n",
       "      <td>No</td>\n",
       "      <td>Yes</td>\n",
       "    </tr>\n",
       "    <tr>\n",
       "      <th>4</th>\n",
       "      <td>9237-HQITU</td>\n",
       "      <td>2019-09-01</td>\n",
       "      <td>No</td>\n",
       "      <td>Month-to-month</td>\n",
       "      <td>Yes</td>\n",
       "      <td>Electronic check</td>\n",
       "      <td>70.70</td>\n",
       "      <td>353.5</td>\n",
       "      <td>Fiber optic</td>\n",
       "      <td>No</td>\n",
       "      <td>No</td>\n",
       "      <td>No</td>\n",
       "      <td>No</td>\n",
       "      <td>No</td>\n",
       "      <td>No</td>\n",
       "      <td>Female</td>\n",
       "      <td>0</td>\n",
       "      <td>No</td>\n",
       "      <td>No</td>\n",
       "      <td>Yes</td>\n",
       "    </tr>\n",
       "  </tbody>\n",
       "</table>\n",
       "</div>"
      ],
      "text/plain": [
       "   customerID   BeginDate EndDate            Type PaperlessBilling  \\\n",
       "0  7590-VHVEG  2020-01-01      No  Month-to-month              Yes   \n",
       "1  5575-GNVDE  2017-04-01      No        One year               No   \n",
       "2  3668-QPYBK  2019-10-01      No  Month-to-month              Yes   \n",
       "3  7795-CFOCW  2016-05-01      No        One year               No   \n",
       "4  9237-HQITU  2019-09-01      No  Month-to-month              Yes   \n",
       "\n",
       "               PaymentMethod  MonthlyCharges TotalCharges InternetService  \\\n",
       "0           Electronic check           29.85        31.04             DSL   \n",
       "1               Mailed check           56.95      2071.84             DSL   \n",
       "2               Mailed check           53.85       226.17             DSL   \n",
       "3  Bank transfer (automatic)           42.30       1960.6             DSL   \n",
       "4           Electronic check           70.70        353.5     Fiber optic   \n",
       "\n",
       "  OnlineSecurity OnlineBackup DeviceProtection TechSupport StreamingTV  \\\n",
       "0             No          Yes               No          No          No   \n",
       "1            Yes           No              Yes          No          No   \n",
       "2            Yes          Yes               No          No          No   \n",
       "3            Yes           No              Yes         Yes          No   \n",
       "4             No           No               No          No          No   \n",
       "\n",
       "  StreamingMovies  gender  SeniorCitizen Partner Dependents MultipleLines  \n",
       "0              No  Female              0     Yes         No            No  \n",
       "1              No    Male              0      No         No            No  \n",
       "2              No    Male              0      No         No            No  \n",
       "3              No    Male              0      No         No           Yes  \n",
       "4              No  Female              0      No         No           Yes  "
      ]
     },
     "metadata": {},
     "output_type": "display_data"
    },
    {
     "name": "stdout",
     "output_type": "stream",
     "text": [
      "Количество пропусков по столбцам\n"
     ]
    },
    {
     "data": {
      "text/plain": [
       "customerID             0\n",
       "BeginDate              0\n",
       "EndDate                0\n",
       "Type                   0\n",
       "PaperlessBilling       0\n",
       "PaymentMethod          0\n",
       "MonthlyCharges         0\n",
       "TotalCharges          11\n",
       "InternetService     1526\n",
       "OnlineSecurity      1526\n",
       "OnlineBackup        1526\n",
       "DeviceProtection    1526\n",
       "TechSupport         1526\n",
       "StreamingTV         1526\n",
       "StreamingMovies     1526\n",
       "gender                 0\n",
       "SeniorCitizen          0\n",
       "Partner                0\n",
       "Dependents             0\n",
       "MultipleLines        682\n",
       "dtype: int64"
      ]
     },
     "execution_count": 34,
     "metadata": {},
     "output_type": "execute_result"
    }
   ],
   "source": [
    "# Соеденияю все таблицы\n",
    "df = (\n",
    "    df_contract\n",
    "        .join(df_internet ,how='left', rsuffix='_').drop('customerID_', axis=1)\n",
    "        .join(df_personal, how='left', rsuffix='_').drop('customerID_', axis=1)\n",
    "        .join(df_phone, how='left', rsuffix='_').drop('customerID_', axis=1)\n",
    " )\n",
    "display(df.head())\n",
    "print('Количество пропусков по столбцам')\n",
    "df.isna().sum()"
   ]
  },
  {
   "cell_type": "code",
   "execution_count": 35,
   "metadata": {},
   "outputs": [
    {
     "name": "stdout",
     "output_type": "stream",
     "text": [
      "Процент оставшихся данных если убрать все значения Nan: 78.2%\n"
     ]
    }
   ],
   "source": [
    "print(f\"Процент оставшихся данных если убрать все значения Nan: {round((df.dropna().shape[0] / df.shape[0]) * 100, 1)}%\")"
   ]
  },
  {
   "cell_type": "code",
   "execution_count": 36,
   "metadata": {},
   "outputs": [
    {
     "data": {
      "text/html": [
       "<div>\n",
       "<style scoped>\n",
       "    .dataframe tbody tr th:only-of-type {\n",
       "        vertical-align: middle;\n",
       "    }\n",
       "\n",
       "    .dataframe tbody tr th {\n",
       "        vertical-align: top;\n",
       "    }\n",
       "\n",
       "    .dataframe thead th {\n",
       "        text-align: right;\n",
       "    }\n",
       "</style>\n",
       "<table border=\"1\" class=\"dataframe\">\n",
       "  <thead>\n",
       "    <tr style=\"text-align: right;\">\n",
       "      <th></th>\n",
       "      <th>Begin</th>\n",
       "      <th>End</th>\n",
       "      <th>diff</th>\n",
       "    </tr>\n",
       "  </thead>\n",
       "  <tbody>\n",
       "    <tr>\n",
       "      <th>9</th>\n",
       "      <td>2014-12-01</td>\n",
       "      <td>2017-05-01</td>\n",
       "      <td>882</td>\n",
       "    </tr>\n",
       "    <tr>\n",
       "      <th>15</th>\n",
       "      <td>2014-05-01</td>\n",
       "      <td>2016-03-01</td>\n",
       "      <td>670</td>\n",
       "    </tr>\n",
       "    <tr>\n",
       "      <th>25</th>\n",
       "      <td>2017-08-01</td>\n",
       "      <td>2018-09-01</td>\n",
       "      <td>396</td>\n",
       "    </tr>\n",
       "    <tr>\n",
       "      <th>30</th>\n",
       "      <td>2014-03-01</td>\n",
       "      <td>2018-11-01</td>\n",
       "      <td>1706</td>\n",
       "    </tr>\n",
       "    <tr>\n",
       "      <th>35</th>\n",
       "      <td>2014-02-01</td>\n",
       "      <td>2018-12-01</td>\n",
       "      <td>1764</td>\n",
       "    </tr>\n",
       "  </tbody>\n",
       "</table>\n",
       "</div>"
      ],
      "text/plain": [
       "        Begin        End  diff\n",
       "9  2014-12-01 2017-05-01   882\n",
       "15 2014-05-01 2016-03-01   670\n",
       "25 2017-08-01 2018-09-01   396\n",
       "30 2014-03-01 2018-11-01  1706\n",
       "35 2014-02-01 2018-12-01  1764"
      ]
     },
     "execution_count": 36,
     "metadata": {},
     "output_type": "execute_result"
    }
   ],
   "source": [
    "df_left = df.query(\"EndDate != 'No'\")\n",
    "# Сортирую данные что бы остались только записи с клиентами которые ушли\n",
    "df_dates = pd.DataFrame()\n",
    "df_dates['Begin'] = pd.to_datetime(df_left['BeginDate'], format='%Y-%m-%d') # Перевожу данные из типа str в datetime\n",
    "df_dates['End'] = pd.to_datetime(df_left['EndDate'], format='%Y-%m-%d') # Перевожу данные из типа str в datetime\n",
    "df_dates['diff'] = (df_dates['End'] - df_dates['Begin']).dt.days # Нахожу через сколько дней клиенты разорвали контракт\n",
    "df_dates.head()"
   ]
  },
  {
   "cell_type": "code",
   "execution_count": 37,
   "metadata": {},
   "outputs": [
    {
     "data": {
      "text/plain": [
       "mean     924.863760\n",
       "std      458.771309\n",
       "min       28.000000\n",
       "25%      577.000000\n",
       "50%      915.000000\n",
       "75%     1249.000000\n",
       "max     2129.000000\n",
       "Name: diff, dtype: float64"
      ]
     },
     "execution_count": 37,
     "metadata": {},
     "output_type": "execute_result"
    }
   ],
   "source": [
    "df_dates['diff'].describe().drop('count')\n",
    "# Информация по данным"
   ]
  },
  {
   "cell_type": "markdown",
   "metadata": {},
   "source": [
    "В среднем клиенты уходят через 915 дней"
   ]
  },
  {
   "cell_type": "code",
   "execution_count": 38,
   "metadata": {},
   "outputs": [
    {
     "data": {
      "image/png": "[encoded data removed]",
      "text/plain": [
       "<Figure size 500x500 with 1 Axes>"
      ]
     },
     "metadata": {},
     "output_type": "display_data"
    }
   ],
   "source": [
    "sns.displot(df_dates['diff'])\n",
    "plt.xlabel('Кол-во дней')\n",
    "plt.title('Кол-во дней через которые уходили клиенты')\n",
    "plt.show()"
   ]
  },
  {
   "cell_type": "code",
   "execution_count": 39,
   "metadata": {},
   "outputs": [
    {
     "data": {
      "image/png": "[encoded data removed]",
      "text/plain": [
       "<Figure size 500x500 with 1 Axes>"
      ]
     },
     "metadata": {},
     "output_type": "display_data"
    }
   ],
   "source": [
    "sns.displot(df_left['TotalCharges'].astype(float))\n",
    "plt.title(\"Общее количество денег которые заплатил клиент который ушел\")\n",
    "plt.xlabel(\"Потраченная сумма\")\n",
    "plt.show()"
   ]
  },
  {
   "cell_type": "code",
   "execution_count": 40,
   "metadata": {},
   "outputs": [
    {
     "data": {
      "text/plain": [
       "mean    2371.377275\n",
       "std     1581.862275\n",
       "min       77.840000\n",
       "25%     1048.050000\n",
       "50%     2139.030000\n",
       "75%     3404.910000\n",
       "max     7649.760000\n",
       "Name: TotalCharges, dtype: float64"
      ]
     },
     "execution_count": 40,
     "metadata": {},
     "output_type": "execute_result"
    }
   ],
   "source": [
    "df_left['TotalCharges'].astype(float).describe().drop('count')"
   ]
  },
  {
   "cell_type": "markdown",
   "metadata": {},
   "source": [
    "В среднем перед клиенты тратили 2,139 перед тем как ушли "
   ]
  },
  {
   "cell_type": "code",
   "execution_count": 41,
   "metadata": {},
   "outputs": [
    {
     "data": {
      "text/html": [
       "<div>\n",
       "<style scoped>\n",
       "    .dataframe tbody tr th:only-of-type {\n",
       "        vertical-align: middle;\n",
       "    }\n",
       "\n",
       "    .dataframe tbody tr th {\n",
       "        vertical-align: top;\n",
       "    }\n",
       "\n",
       "    .dataframe thead th {\n",
       "        text-align: right;\n",
       "    }\n",
       "</style>\n",
       "<table border=\"1\" class=\"dataframe\">\n",
       "  <thead>\n",
       "    <tr style=\"text-align: right;\">\n",
       "      <th></th>\n",
       "      <th>customerID</th>\n",
       "      <th>BeginDate</th>\n",
       "      <th>EndDate</th>\n",
       "      <th>Type</th>\n",
       "      <th>PaperlessBilling</th>\n",
       "      <th>PaymentMethod</th>\n",
       "      <th>MonthlyCharges</th>\n",
       "      <th>TotalCharges</th>\n",
       "      <th>InternetService</th>\n",
       "      <th>OnlineSecurity</th>\n",
       "      <th>...</th>\n",
       "      <th>DeviceProtection</th>\n",
       "      <th>TechSupport</th>\n",
       "      <th>StreamingTV</th>\n",
       "      <th>StreamingMovies</th>\n",
       "      <th>gender</th>\n",
       "      <th>SeniorCitizen</th>\n",
       "      <th>Partner</th>\n",
       "      <th>Dependents</th>\n",
       "      <th>MultipleLines</th>\n",
       "      <th>diff</th>\n",
       "    </tr>\n",
       "  </thead>\n",
       "  <tbody>\n",
       "    <tr>\n",
       "      <th>0</th>\n",
       "      <td>7590-VHVEG</td>\n",
       "      <td>2020-01-01</td>\n",
       "      <td>2020-02-01</td>\n",
       "      <td>Month-to-month</td>\n",
       "      <td>Yes</td>\n",
       "      <td>Electronic check</td>\n",
       "      <td>29.85</td>\n",
       "      <td>31.04</td>\n",
       "      <td>DSL</td>\n",
       "      <td>No</td>\n",
       "      <td>...</td>\n",
       "      <td>No</td>\n",
       "      <td>No</td>\n",
       "      <td>No</td>\n",
       "      <td>No</td>\n",
       "      <td>Female</td>\n",
       "      <td>0</td>\n",
       "      <td>Yes</td>\n",
       "      <td>No</td>\n",
       "      <td>No</td>\n",
       "      <td>31</td>\n",
       "    </tr>\n",
       "    <tr>\n",
       "      <th>1</th>\n",
       "      <td>5575-GNVDE</td>\n",
       "      <td>2017-04-01</td>\n",
       "      <td>2020-02-01</td>\n",
       "      <td>One year</td>\n",
       "      <td>No</td>\n",
       "      <td>Mailed check</td>\n",
       "      <td>56.95</td>\n",
       "      <td>2071.84</td>\n",
       "      <td>DSL</td>\n",
       "      <td>Yes</td>\n",
       "      <td>...</td>\n",
       "      <td>Yes</td>\n",
       "      <td>No</td>\n",
       "      <td>No</td>\n",
       "      <td>No</td>\n",
       "      <td>Male</td>\n",
       "      <td>0</td>\n",
       "      <td>No</td>\n",
       "      <td>No</td>\n",
       "      <td>No</td>\n",
       "      <td>1036</td>\n",
       "    </tr>\n",
       "    <tr>\n",
       "      <th>2</th>\n",
       "      <td>3668-QPYBK</td>\n",
       "      <td>2019-10-01</td>\n",
       "      <td>2020-02-01</td>\n",
       "      <td>Month-to-month</td>\n",
       "      <td>Yes</td>\n",
       "      <td>Mailed check</td>\n",
       "      <td>53.85</td>\n",
       "      <td>226.17</td>\n",
       "      <td>DSL</td>\n",
       "      <td>Yes</td>\n",
       "      <td>...</td>\n",
       "      <td>No</td>\n",
       "      <td>No</td>\n",
       "      <td>No</td>\n",
       "      <td>No</td>\n",
       "      <td>Male</td>\n",
       "      <td>0</td>\n",
       "      <td>No</td>\n",
       "      <td>No</td>\n",
       "      <td>No</td>\n",
       "      <td>123</td>\n",
       "    </tr>\n",
       "    <tr>\n",
       "      <th>3</th>\n",
       "      <td>7795-CFOCW</td>\n",
       "      <td>2016-05-01</td>\n",
       "      <td>2020-02-01</td>\n",
       "      <td>One year</td>\n",
       "      <td>No</td>\n",
       "      <td>Bank transfer (automatic)</td>\n",
       "      <td>42.30</td>\n",
       "      <td>1960.6</td>\n",
       "      <td>DSL</td>\n",
       "      <td>Yes</td>\n",
       "      <td>...</td>\n",
       "      <td>Yes</td>\n",
       "      <td>Yes</td>\n",
       "      <td>No</td>\n",
       "      <td>No</td>\n",
       "      <td>Male</td>\n",
       "      <td>0</td>\n",
       "      <td>No</td>\n",
       "      <td>No</td>\n",
       "      <td>Yes</td>\n",
       "      <td>1371</td>\n",
       "    </tr>\n",
       "    <tr>\n",
       "      <th>4</th>\n",
       "      <td>9237-HQITU</td>\n",
       "      <td>2019-09-01</td>\n",
       "      <td>2020-02-01</td>\n",
       "      <td>Month-to-month</td>\n",
       "      <td>Yes</td>\n",
       "      <td>Electronic check</td>\n",
       "      <td>70.70</td>\n",
       "      <td>353.5</td>\n",
       "      <td>Fiber optic</td>\n",
       "      <td>No</td>\n",
       "      <td>...</td>\n",
       "      <td>No</td>\n",
       "      <td>No</td>\n",
       "      <td>No</td>\n",
       "      <td>No</td>\n",
       "      <td>Female</td>\n",
       "      <td>0</td>\n",
       "      <td>No</td>\n",
       "      <td>No</td>\n",
       "      <td>Yes</td>\n",
       "      <td>153</td>\n",
       "    </tr>\n",
       "  </tbody>\n",
       "</table>\n",
       "<p>5 rows × 21 columns</p>\n",
       "</div>"
      ],
      "text/plain": [
       "   customerID  BeginDate    EndDate            Type PaperlessBilling  \\\n",
       "0  7590-VHVEG 2020-01-01 2020-02-01  Month-to-month              Yes   \n",
       "1  5575-GNVDE 2017-04-01 2020-02-01        One year               No   \n",
       "2  3668-QPYBK 2019-10-01 2020-02-01  Month-to-month              Yes   \n",
       "3  7795-CFOCW 2016-05-01 2020-02-01        One year               No   \n",
       "4  9237-HQITU 2019-09-01 2020-02-01  Month-to-month              Yes   \n",
       "\n",
       "               PaymentMethod  MonthlyCharges TotalCharges InternetService  \\\n",
       "0           Electronic check           29.85        31.04             DSL   \n",
       "1               Mailed check           56.95      2071.84             DSL   \n",
       "2               Mailed check           53.85       226.17             DSL   \n",
       "3  Bank transfer (automatic)           42.30       1960.6             DSL   \n",
       "4           Electronic check           70.70        353.5     Fiber optic   \n",
       "\n",
       "  OnlineSecurity  ... DeviceProtection TechSupport StreamingTV  \\\n",
       "0             No  ...               No          No          No   \n",
       "1            Yes  ...              Yes          No          No   \n",
       "2            Yes  ...               No          No          No   \n",
       "3            Yes  ...              Yes         Yes          No   \n",
       "4             No  ...               No          No          No   \n",
       "\n",
       "  StreamingMovies  gender SeniorCitizen  Partner Dependents MultipleLines  \\\n",
       "0              No  Female             0      Yes         No            No   \n",
       "1              No    Male             0       No         No            No   \n",
       "2              No    Male             0       No         No            No   \n",
       "3              No    Male             0       No         No           Yes   \n",
       "4              No  Female             0       No         No           Yes   \n",
       "\n",
       "   diff  \n",
       "0    31  \n",
       "1  1036  \n",
       "2   123  \n",
       "3  1371  \n",
       "4   153  \n",
       "\n",
       "[5 rows x 21 columns]"
      ]
     },
     "execution_count": 41,
     "metadata": {},
     "output_type": "execute_result"
    }
   ],
   "source": [
    "df_loyal = df.query('EndDate == \"No\"').copy()\n",
    "df_loyal['EndDate'] = datetime(2020, 2, 1)\n",
    "df_loyal['BeginDate'] = pd.to_datetime(df_loyal['BeginDate'], format='%Y-%m-%d')\n",
    "df_loyal['diff'] = (df_loyal['EndDate'] - df_loyal['BeginDate']).dt.days\n",
    "df_loyal.head()"
   ]
  },
  {
   "cell_type": "code",
   "execution_count": 42,
   "metadata": {},
   "outputs": [
    {
     "data": {
      "text/plain": [
       "mean     893.681084\n",
       "std      716.958551\n",
       "min        0.000000\n",
       "25%      245.000000\n",
       "50%      702.000000\n",
       "75%     1523.000000\n",
       "max     2314.000000\n",
       "Name: diff, dtype: float64"
      ]
     },
     "execution_count": 42,
     "metadata": {},
     "output_type": "execute_result"
    }
   ],
   "source": [
    "df_loyal['diff'].describe().drop('count')"
   ]
  },
  {
   "cell_type": "code",
   "execution_count": 43,
   "metadata": {},
   "outputs": [
    {
     "data": {
      "image/png": "[encoded data removed]",
      "text/plain": [
       "<Figure size 500x500 with 1 Axes>"
      ]
     },
     "metadata": {},
     "output_type": "display_data"
    }
   ],
   "source": [
    "sns.displot(df_loyal['diff'])\n",
    "plt.xlabel('Кол-во дней')\n",
    "plt.title('Кол-во дней активных клиентов')\n",
    "plt.show()"
   ]
  },
  {
   "cell_type": "code",
   "execution_count": 44,
   "metadata": {},
   "outputs": [
    {
     "data": {
      "text/plain": [
       "mean    2071.701614\n",
       "std     2194.122190\n",
       "min       19.050000\n",
       "25%      376.225000\n",
       "50%     1194.280000\n",
       "75%     3176.000000\n",
       "max     9221.380000\n",
       "Name: TotalCharges, dtype: float64"
      ]
     },
     "execution_count": 44,
     "metadata": {},
     "output_type": "execute_result"
    }
   ],
   "source": [
    "df_loyal['TotalCharges'].astype(float).describe().drop('count')"
   ]
  },
  {
   "cell_type": "code",
   "execution_count": 45,
   "metadata": {},
   "outputs": [
    {
     "data": {
      "image/png": "[encoded data removed]",
      "text/plain": [
       "<Figure size 500x500 with 1 Axes>"
      ]
     },
     "metadata": {},
     "output_type": "display_data"
    }
   ],
   "source": [
    "sns.displot(df_loyal['TotalCharges'].astype(float))\n",
    "plt.title(\"Общее количество денег которые заплатили отсавшиеся клиенты\")\n",
    "plt.xlabel(\"Потраченная сумма\")\n",
    "plt.show()"
   ]
  },
  {
   "cell_type": "markdown",
   "metadata": {},
   "source": [
    "Выводы:\n",
    "- В среднем время с компаней у активных клиентов - 702 дня\n",
    "- Средняя потраченная сумма - 1194"
   ]
  },
  {
   "cell_type": "markdown",
   "metadata": {},
   "source": [
    "## 4. Заключение"
   ]
  },
  {
   "cell_type": "markdown",
   "metadata": {},
   "source": [
    "Вопросы:\n",
    "\n",
    "- Как поступить с пропусками после присоединения всех таблиц? \n",
    "    - Если заменить, то какой логики придерживаться?\n",
    "    - Если убрать, то потеряется 22%. Много ли это? Будет ли это критично в дальнейшем?\n",
    "- Классификатором будет являться наличие даты в столбце *EndDate*?"
   ]
  },
  {
   "cell_type": "markdown",
   "metadata": {},
   "source": [
    "## Модели"
   ]
  },
  {
   "cell_type": "code",
   "execution_count": 46,
   "metadata": {},
   "outputs": [],
   "source": [
    "# Создаю копию датафрейма для подготовки данных\n",
    "df_prep = df.copy()\n",
    "# Создаю классификатор\n",
    "df_prep['target'] = df_prep.apply(lambda x: 0 if x['EndDate'] == 'No' else 1, axis=1)"
   ]
  },
  {
   "cell_type": "code",
   "execution_count": 47,
   "metadata": {},
   "outputs": [],
   "source": [
    "# Ставлю актуальную дату что бы найти длительность контракта в днях\n",
    "df_prep['EndDate'] = df_prep.apply(lambda x: '2020-02-01' if x['EndDate'] == 'No' else x['EndDate'], axis=1)"
   ]
  },
  {
   "cell_type": "code",
   "execution_count": 48,
   "metadata": {},
   "outputs": [],
   "source": [
    "# Перевожу столбцы из str в datetime\n",
    "df_prep['BeginDate'] = pd.to_datetime(df_prep['BeginDate'], format='%Y-%m-%d')\n",
    "df_prep['EndDate'] = pd.to_datetime(df_prep['EndDate'], format='%Y-%m-%d')"
   ]
  },
  {
   "cell_type": "code",
   "execution_count": 49,
   "metadata": {},
   "outputs": [],
   "source": [
    "# Нахожу длительность контракта\n",
    "df_prep['diff_days'] = df_prep.apply(lambda x: x['EndDate'] - x['BeginDate'], axis=1).dt.days"
   ]
  },
  {
   "cell_type": "code",
   "execution_count": 50,
   "metadata": {},
   "outputs": [],
   "source": [
    "# Заполняю пропуски\n",
    "fill_cols = ['InternetService'\n",
    "         , 'OnlineSecurity'\n",
    "         , 'OnlineBackup'\n",
    "         , 'DeviceProtection'\n",
    "         , 'TechSupport'\n",
    "         , 'StreamingTV'\n",
    "         , 'StreamingMovies'\n",
    "         , 'MultipleLines'\n",
    "         ]\n",
    "df_prep[fill_cols] = df_prep[fill_cols].fillna('Not used')"
   ]
  },
  {
   "cell_type": "code",
   "execution_count": 51,
   "metadata": {},
   "outputs": [],
   "source": [
    "df_prep['TotalCharges'] = df_prep['TotalCharges'].fillna(df_prep['MonthlyCharges'] * round(df_prep['diff_days'] / 30, 0))"
   ]
  },
  {
   "cell_type": "markdown",
   "metadata": {},
   "source": [
    "Не могу узнать точное кол-во трат, но зная кол-во дней клиента с компанией и плату за месяц могу, предположительно рассчитать траты за все время\n",
    "\n",
    "diff_days (время клиента с компанией в днях) / 30 = месяцев с компанией\n",
    "\n",
    "месяцы с компанией * ежемесячную плату = предположительные траты клиента"
   ]
  },
  {
   "cell_type": "code",
   "execution_count": 52,
   "metadata": {},
   "outputs": [],
   "source": [
    "df_prep['TotalCharges'] = df_prep['TotalCharges'].astype(float)"
   ]
  },
  {
   "cell_type": "code",
   "execution_count": 53,
   "metadata": {},
   "outputs": [
    {
     "name": "stdout",
     "output_type": "stream",
     "text": [
      "<class 'pandas.core.frame.DataFrame'>\n",
      "RangeIndex: 7043 entries, 0 to 7042\n",
      "Data columns (total 22 columns):\n",
      " #   Column            Non-Null Count  Dtype         \n",
      "---  ------            --------------  -----         \n",
      " 0   customerID        7043 non-null   object        \n",
      " 1   BeginDate         7043 non-null   datetime64[ns]\n",
      " 2   EndDate           7043 non-null   datetime64[ns]\n",
      " 3   Type              7043 non-null   object        \n",
      " 4   PaperlessBilling  7043 non-null   object        \n",
      " 5   PaymentMethod     7043 non-null   object        \n",
      " 6   MonthlyCharges    7043 non-null   float64       \n",
      " 7   TotalCharges      7043 non-null   float64       \n",
      " 8   InternetService   7043 non-null   object        \n",
      " 9   OnlineSecurity    7043 non-null   object        \n",
      " 10  OnlineBackup      7043 non-null   object        \n",
      " 11  DeviceProtection  7043 non-null   object        \n",
      " 12  TechSupport       7043 non-null   object        \n",
      " 13  StreamingTV       7043 non-null   object        \n",
      " 14  StreamingMovies   7043 non-null   object        \n",
      " 15  gender            7043 non-null   object        \n",
      " 16  SeniorCitizen     7043 non-null   int64         \n",
      " 17  Partner           7043 non-null   object        \n",
      " 18  Dependents        7043 non-null   object        \n",
      " 19  MultipleLines     7043 non-null   object        \n",
      " 20  target            7043 non-null   int64         \n",
      " 21  diff_days         7043 non-null   int64         \n",
      "dtypes: datetime64[ns](2), float64(2), int64(3), object(15)\n",
      "memory usage: 1.2+ MB\n"
     ]
    },
    {
     "data": {
      "text/html": [
       "<div>\n",
       "<style scoped>\n",
       "    .dataframe tbody tr th:only-of-type {\n",
       "        vertical-align: middle;\n",
       "    }\n",
       "\n",
       "    .dataframe tbody tr th {\n",
       "        vertical-align: top;\n",
       "    }\n",
       "\n",
       "    .dataframe thead th {\n",
       "        text-align: right;\n",
       "    }\n",
       "</style>\n",
       "<table border=\"1\" class=\"dataframe\">\n",
       "  <thead>\n",
       "    <tr style=\"text-align: right;\">\n",
       "      <th></th>\n",
       "      <th>customerID</th>\n",
       "      <th>BeginDate</th>\n",
       "      <th>EndDate</th>\n",
       "      <th>Type</th>\n",
       "      <th>PaperlessBilling</th>\n",
       "      <th>PaymentMethod</th>\n",
       "      <th>MonthlyCharges</th>\n",
       "      <th>TotalCharges</th>\n",
       "      <th>InternetService</th>\n",
       "      <th>OnlineSecurity</th>\n",
       "      <th>...</th>\n",
       "      <th>TechSupport</th>\n",
       "      <th>StreamingTV</th>\n",
       "      <th>StreamingMovies</th>\n",
       "      <th>gender</th>\n",
       "      <th>SeniorCitizen</th>\n",
       "      <th>Partner</th>\n",
       "      <th>Dependents</th>\n",
       "      <th>MultipleLines</th>\n",
       "      <th>target</th>\n",
       "      <th>diff_days</th>\n",
       "    </tr>\n",
       "  </thead>\n",
       "  <tbody>\n",
       "    <tr>\n",
       "      <th>0</th>\n",
       "      <td>7590-VHVEG</td>\n",
       "      <td>2020-01-01</td>\n",
       "      <td>2020-02-01</td>\n",
       "      <td>Month-to-month</td>\n",
       "      <td>Yes</td>\n",
       "      <td>Electronic check</td>\n",
       "      <td>29.85</td>\n",
       "      <td>31.04</td>\n",
       "      <td>DSL</td>\n",
       "      <td>No</td>\n",
       "      <td>...</td>\n",
       "      <td>No</td>\n",
       "      <td>No</td>\n",
       "      <td>No</td>\n",
       "      <td>Female</td>\n",
       "      <td>0</td>\n",
       "      <td>Yes</td>\n",
       "      <td>No</td>\n",
       "      <td>No</td>\n",
       "      <td>0</td>\n",
       "      <td>31</td>\n",
       "    </tr>\n",
       "    <tr>\n",
       "      <th>1</th>\n",
       "      <td>5575-GNVDE</td>\n",
       "      <td>2017-04-01</td>\n",
       "      <td>2020-02-01</td>\n",
       "      <td>One year</td>\n",
       "      <td>No</td>\n",
       "      <td>Mailed check</td>\n",
       "      <td>56.95</td>\n",
       "      <td>2071.84</td>\n",
       "      <td>DSL</td>\n",
       "      <td>Yes</td>\n",
       "      <td>...</td>\n",
       "      <td>No</td>\n",
       "      <td>No</td>\n",
       "      <td>No</td>\n",
       "      <td>Male</td>\n",
       "      <td>0</td>\n",
       "      <td>No</td>\n",
       "      <td>No</td>\n",
       "      <td>No</td>\n",
       "      <td>0</td>\n",
       "      <td>1036</td>\n",
       "    </tr>\n",
       "    <tr>\n",
       "      <th>2</th>\n",
       "      <td>3668-QPYBK</td>\n",
       "      <td>2019-10-01</td>\n",
       "      <td>2020-02-01</td>\n",
       "      <td>Month-to-month</td>\n",
       "      <td>Yes</td>\n",
       "      <td>Mailed check</td>\n",
       "      <td>53.85</td>\n",
       "      <td>226.17</td>\n",
       "      <td>DSL</td>\n",
       "      <td>Yes</td>\n",
       "      <td>...</td>\n",
       "      <td>No</td>\n",
       "      <td>No</td>\n",
       "      <td>No</td>\n",
       "      <td>Male</td>\n",
       "      <td>0</td>\n",
       "      <td>No</td>\n",
       "      <td>No</td>\n",
       "      <td>No</td>\n",
       "      <td>0</td>\n",
       "      <td>123</td>\n",
       "    </tr>\n",
       "    <tr>\n",
       "      <th>3</th>\n",
       "      <td>7795-CFOCW</td>\n",
       "      <td>2016-05-01</td>\n",
       "      <td>2020-02-01</td>\n",
       "      <td>One year</td>\n",
       "      <td>No</td>\n",
       "      <td>Bank transfer (automatic)</td>\n",
       "      <td>42.30</td>\n",
       "      <td>1960.60</td>\n",
       "      <td>DSL</td>\n",
       "      <td>Yes</td>\n",
       "      <td>...</td>\n",
       "      <td>Yes</td>\n",
       "      <td>No</td>\n",
       "      <td>No</td>\n",
       "      <td>Male</td>\n",
       "      <td>0</td>\n",
       "      <td>No</td>\n",
       "      <td>No</td>\n",
       "      <td>Yes</td>\n",
       "      <td>0</td>\n",
       "      <td>1371</td>\n",
       "    </tr>\n",
       "    <tr>\n",
       "      <th>4</th>\n",
       "      <td>9237-HQITU</td>\n",
       "      <td>2019-09-01</td>\n",
       "      <td>2020-02-01</td>\n",
       "      <td>Month-to-month</td>\n",
       "      <td>Yes</td>\n",
       "      <td>Electronic check</td>\n",
       "      <td>70.70</td>\n",
       "      <td>353.50</td>\n",
       "      <td>Fiber optic</td>\n",
       "      <td>No</td>\n",
       "      <td>...</td>\n",
       "      <td>No</td>\n",
       "      <td>No</td>\n",
       "      <td>No</td>\n",
       "      <td>Female</td>\n",
       "      <td>0</td>\n",
       "      <td>No</td>\n",
       "      <td>No</td>\n",
       "      <td>Yes</td>\n",
       "      <td>0</td>\n",
       "      <td>153</td>\n",
       "    </tr>\n",
       "  </tbody>\n",
       "</table>\n",
       "<p>5 rows × 22 columns</p>\n",
       "</div>"
      ],
      "text/plain": [
       "   customerID  BeginDate    EndDate            Type PaperlessBilling  \\\n",
       "0  7590-VHVEG 2020-01-01 2020-02-01  Month-to-month              Yes   \n",
       "1  5575-GNVDE 2017-04-01 2020-02-01        One year               No   \n",
       "2  3668-QPYBK 2019-10-01 2020-02-01  Month-to-month              Yes   \n",
       "3  7795-CFOCW 2016-05-01 2020-02-01        One year               No   \n",
       "4  9237-HQITU 2019-09-01 2020-02-01  Month-to-month              Yes   \n",
       "\n",
       "               PaymentMethod  MonthlyCharges  TotalCharges InternetService  \\\n",
       "0           Electronic check           29.85         31.04             DSL   \n",
       "1               Mailed check           56.95       2071.84             DSL   \n",
       "2               Mailed check           53.85        226.17             DSL   \n",
       "3  Bank transfer (automatic)           42.30       1960.60             DSL   \n",
       "4           Electronic check           70.70        353.50     Fiber optic   \n",
       "\n",
       "  OnlineSecurity  ... TechSupport StreamingTV StreamingMovies  gender  \\\n",
       "0             No  ...          No          No              No  Female   \n",
       "1            Yes  ...          No          No              No    Male   \n",
       "2            Yes  ...          No          No              No    Male   \n",
       "3            Yes  ...         Yes          No              No    Male   \n",
       "4             No  ...          No          No              No  Female   \n",
       "\n",
       "  SeniorCitizen Partner  Dependents MultipleLines target diff_days  \n",
       "0             0     Yes          No            No      0        31  \n",
       "1             0      No          No            No      0      1036  \n",
       "2             0      No          No            No      0       123  \n",
       "3             0      No          No           Yes      0      1371  \n",
       "4             0      No          No           Yes      0       153  \n",
       "\n",
       "[5 rows x 22 columns]"
      ]
     },
     "execution_count": 53,
     "metadata": {},
     "output_type": "execute_result"
    }
   ],
   "source": [
    "df_prep.info()\n",
    "df_prep.head()"
   ]
  },
  {
   "cell_type": "code",
   "execution_count": 54,
   "metadata": {},
   "outputs": [
    {
     "data": {
      "text/plain": [
       "target\n",
       "0    0.843675\n",
       "1    0.156325\n",
       "Name: proportion, dtype: float64"
      ]
     },
     "execution_count": 54,
     "metadata": {},
     "output_type": "execute_result"
    }
   ],
   "source": [
    "df_prep['target'].value_counts(normalize=True)"
   ]
  },
  {
   "cell_type": "markdown",
   "metadata": {},
   "source": [
    "Наблюдается сильный дисбаланс классов, 84% c классом *0*, 16 с классом *1*"
   ]
  },
  {
   "cell_type": "markdown",
   "metadata": {},
   "source": [
    "## Корреляция"
   ]
  },
  {
   "cell_type": "code",
   "execution_count": 55,
   "metadata": {},
   "outputs": [
    {
     "data": {
      "text/html": [
       "<div>\n",
       "<style scoped>\n",
       "    .dataframe tbody tr th:only-of-type {\n",
       "        vertical-align: middle;\n",
       "    }\n",
       "\n",
       "    .dataframe tbody tr th {\n",
       "        vertical-align: top;\n",
       "    }\n",
       "\n",
       "    .dataframe thead th {\n",
       "        text-align: right;\n",
       "    }\n",
       "</style>\n",
       "<table border=\"1\" class=\"dataframe\">\n",
       "  <thead>\n",
       "    <tr style=\"text-align: right;\">\n",
       "      <th></th>\n",
       "      <th>Type</th>\n",
       "      <th>PaperlessBilling</th>\n",
       "      <th>PaymentMethod</th>\n",
       "      <th>MonthlyCharges</th>\n",
       "      <th>TotalCharges</th>\n",
       "      <th>InternetService</th>\n",
       "      <th>OnlineSecurity</th>\n",
       "      <th>OnlineBackup</th>\n",
       "      <th>DeviceProtection</th>\n",
       "      <th>TechSupport</th>\n",
       "      <th>StreamingTV</th>\n",
       "      <th>StreamingMovies</th>\n",
       "      <th>gender</th>\n",
       "      <th>SeniorCitizen</th>\n",
       "      <th>Partner</th>\n",
       "      <th>Dependents</th>\n",
       "      <th>MultipleLines</th>\n",
       "      <th>target</th>\n",
       "      <th>diff_days</th>\n",
       "    </tr>\n",
       "  </thead>\n",
       "  <tbody>\n",
       "    <tr>\n",
       "      <th>Type</th>\n",
       "      <td>1.000000</td>\n",
       "      <td>0.106860</td>\n",
       "      <td>0.277462</td>\n",
       "      <td>0.388266</td>\n",
       "      <td>0.470860</td>\n",
       "      <td>0.063434</td>\n",
       "      <td>0.000000</td>\n",
       "      <td>0.000000</td>\n",
       "      <td>0.000000</td>\n",
       "      <td>0.035059</td>\n",
       "      <td>0.075085</td>\n",
       "      <td>0.014170</td>\n",
       "      <td>0.000000</td>\n",
       "      <td>0.086231</td>\n",
       "      <td>0.179736</td>\n",
       "      <td>0.147680</td>\n",
       "      <td>0.000000</td>\n",
       "      <td>0.094015</td>\n",
       "      <td>0.634155</td>\n",
       "    </tr>\n",
       "    <tr>\n",
       "      <th>PaperlessBilling</th>\n",
       "      <td>0.106860</td>\n",
       "      <td>1.000000</td>\n",
       "      <td>0.370495</td>\n",
       "      <td>0.467783</td>\n",
       "      <td>0.201703</td>\n",
       "      <td>0.000000</td>\n",
       "      <td>0.000000</td>\n",
       "      <td>0.000000</td>\n",
       "      <td>0.000000</td>\n",
       "      <td>0.000000</td>\n",
       "      <td>0.000000</td>\n",
       "      <td>0.000000</td>\n",
       "      <td>0.000000</td>\n",
       "      <td>0.242133</td>\n",
       "      <td>0.013218</td>\n",
       "      <td>0.172593</td>\n",
       "      <td>0.000000</td>\n",
       "      <td>0.083398</td>\n",
       "      <td>0.026799</td>\n",
       "    </tr>\n",
       "    <tr>\n",
       "      <th>PaymentMethod</th>\n",
       "      <td>0.277462</td>\n",
       "      <td>0.370495</td>\n",
       "      <td>1.000000</td>\n",
       "      <td>0.399536</td>\n",
       "      <td>0.335666</td>\n",
       "      <td>0.000000</td>\n",
       "      <td>0.000000</td>\n",
       "      <td>0.000000</td>\n",
       "      <td>0.000000</td>\n",
       "      <td>0.000000</td>\n",
       "      <td>0.000000</td>\n",
       "      <td>0.000000</td>\n",
       "      <td>0.000000</td>\n",
       "      <td>0.292725</td>\n",
       "      <td>0.243008</td>\n",
       "      <td>0.224903</td>\n",
       "      <td>0.011925</td>\n",
       "      <td>0.214832</td>\n",
       "      <td>0.350964</td>\n",
       "    </tr>\n",
       "    <tr>\n",
       "      <th>MonthlyCharges</th>\n",
       "      <td>0.388266</td>\n",
       "      <td>0.467783</td>\n",
       "      <td>0.399536</td>\n",
       "      <td>1.000000</td>\n",
       "      <td>0.711035</td>\n",
       "      <td>0.000000</td>\n",
       "      <td>0.000000</td>\n",
       "      <td>0.000000</td>\n",
       "      <td>0.000000</td>\n",
       "      <td>0.003184</td>\n",
       "      <td>0.000000</td>\n",
       "      <td>0.000000</td>\n",
       "      <td>0.009025</td>\n",
       "      <td>0.304691</td>\n",
       "      <td>0.203237</td>\n",
       "      <td>0.184213</td>\n",
       "      <td>0.028295</td>\n",
       "      <td>0.225925</td>\n",
       "      <td>0.387579</td>\n",
       "    </tr>\n",
       "    <tr>\n",
       "      <th>TotalCharges</th>\n",
       "      <td>0.470860</td>\n",
       "      <td>0.201703</td>\n",
       "      <td>0.335666</td>\n",
       "      <td>0.711035</td>\n",
       "      <td>1.000000</td>\n",
       "      <td>0.012002</td>\n",
       "      <td>0.000000</td>\n",
       "      <td>0.000000</td>\n",
       "      <td>0.000000</td>\n",
       "      <td>0.032761</td>\n",
       "      <td>0.000000</td>\n",
       "      <td>0.000000</td>\n",
       "      <td>0.000000</td>\n",
       "      <td>0.135650</td>\n",
       "      <td>0.381958</td>\n",
       "      <td>0.084247</td>\n",
       "      <td>0.000000</td>\n",
       "      <td>0.302890</td>\n",
       "      <td>0.848337</td>\n",
       "    </tr>\n",
       "    <tr>\n",
       "      <th>InternetService</th>\n",
       "      <td>0.063434</td>\n",
       "      <td>0.000000</td>\n",
       "      <td>0.000000</td>\n",
       "      <td>0.000000</td>\n",
       "      <td>0.012002</td>\n",
       "      <td>1.000000</td>\n",
       "      <td>0.949498</td>\n",
       "      <td>0.942842</td>\n",
       "      <td>0.942811</td>\n",
       "      <td>0.948914</td>\n",
       "      <td>0.946713</td>\n",
       "      <td>0.946294</td>\n",
       "      <td>0.000000</td>\n",
       "      <td>0.000000</td>\n",
       "      <td>0.000000</td>\n",
       "      <td>0.000000</td>\n",
       "      <td>0.779233</td>\n",
       "      <td>0.000000</td>\n",
       "      <td>0.000000</td>\n",
       "    </tr>\n",
       "    <tr>\n",
       "      <th>OnlineSecurity</th>\n",
       "      <td>0.000000</td>\n",
       "      <td>0.000000</td>\n",
       "      <td>0.000000</td>\n",
       "      <td>0.000000</td>\n",
       "      <td>0.000000</td>\n",
       "      <td>0.949498</td>\n",
       "      <td>1.000000</td>\n",
       "      <td>0.947224</td>\n",
       "      <td>0.946787</td>\n",
       "      <td>0.952651</td>\n",
       "      <td>0.943082</td>\n",
       "      <td>0.943248</td>\n",
       "      <td>0.004351</td>\n",
       "      <td>0.000000</td>\n",
       "      <td>0.000000</td>\n",
       "      <td>0.000701</td>\n",
       "      <td>0.779311</td>\n",
       "      <td>0.000000</td>\n",
       "      <td>0.000000</td>\n",
       "    </tr>\n",
       "    <tr>\n",
       "      <th>OnlineBackup</th>\n",
       "      <td>0.000000</td>\n",
       "      <td>0.000000</td>\n",
       "      <td>0.000000</td>\n",
       "      <td>0.000000</td>\n",
       "      <td>0.000000</td>\n",
       "      <td>0.942842</td>\n",
       "      <td>0.947224</td>\n",
       "      <td>1.000000</td>\n",
       "      <td>0.947487</td>\n",
       "      <td>0.947756</td>\n",
       "      <td>0.945789</td>\n",
       "      <td>0.945395</td>\n",
       "      <td>0.000000</td>\n",
       "      <td>0.000000</td>\n",
       "      <td>0.000000</td>\n",
       "      <td>0.000000</td>\n",
       "      <td>0.779200</td>\n",
       "      <td>0.000000</td>\n",
       "      <td>0.000000</td>\n",
       "    </tr>\n",
       "    <tr>\n",
       "      <th>DeviceProtection</th>\n",
       "      <td>0.000000</td>\n",
       "      <td>0.000000</td>\n",
       "      <td>0.000000</td>\n",
       "      <td>0.000000</td>\n",
       "      <td>0.000000</td>\n",
       "      <td>0.942811</td>\n",
       "      <td>0.946787</td>\n",
       "      <td>0.947487</td>\n",
       "      <td>1.000000</td>\n",
       "      <td>0.950247</td>\n",
       "      <td>0.952863</td>\n",
       "      <td>0.953717</td>\n",
       "      <td>0.000000</td>\n",
       "      <td>0.000000</td>\n",
       "      <td>0.000000</td>\n",
       "      <td>0.000000</td>\n",
       "      <td>0.779211</td>\n",
       "      <td>0.005480</td>\n",
       "      <td>0.000000</td>\n",
       "    </tr>\n",
       "    <tr>\n",
       "      <th>TechSupport</th>\n",
       "      <td>0.035059</td>\n",
       "      <td>0.000000</td>\n",
       "      <td>0.000000</td>\n",
       "      <td>0.003184</td>\n",
       "      <td>0.032761</td>\n",
       "      <td>0.948914</td>\n",
       "      <td>0.952651</td>\n",
       "      <td>0.947756</td>\n",
       "      <td>0.950247</td>\n",
       "      <td>1.000000</td>\n",
       "      <td>0.946393</td>\n",
       "      <td>0.946417</td>\n",
       "      <td>0.010291</td>\n",
       "      <td>0.005750</td>\n",
       "      <td>0.000000</td>\n",
       "      <td>0.000000</td>\n",
       "      <td>0.779247</td>\n",
       "      <td>0.000000</td>\n",
       "      <td>0.000000</td>\n",
       "    </tr>\n",
       "    <tr>\n",
       "      <th>StreamingTV</th>\n",
       "      <td>0.075085</td>\n",
       "      <td>0.000000</td>\n",
       "      <td>0.000000</td>\n",
       "      <td>0.000000</td>\n",
       "      <td>0.000000</td>\n",
       "      <td>0.946713</td>\n",
       "      <td>0.943082</td>\n",
       "      <td>0.945789</td>\n",
       "      <td>0.952863</td>\n",
       "      <td>0.946393</td>\n",
       "      <td>1.000000</td>\n",
       "      <td>0.965306</td>\n",
       "      <td>0.000000</td>\n",
       "      <td>0.000000</td>\n",
       "      <td>0.000000</td>\n",
       "      <td>0.000000</td>\n",
       "      <td>0.779201</td>\n",
       "      <td>0.000000</td>\n",
       "      <td>0.000000</td>\n",
       "    </tr>\n",
       "    <tr>\n",
       "      <th>StreamingMovies</th>\n",
       "      <td>0.014170</td>\n",
       "      <td>0.000000</td>\n",
       "      <td>0.000000</td>\n",
       "      <td>0.000000</td>\n",
       "      <td>0.000000</td>\n",
       "      <td>0.946294</td>\n",
       "      <td>0.943248</td>\n",
       "      <td>0.945395</td>\n",
       "      <td>0.953717</td>\n",
       "      <td>0.946417</td>\n",
       "      <td>0.965306</td>\n",
       "      <td>1.000000</td>\n",
       "      <td>0.000000</td>\n",
       "      <td>0.006296</td>\n",
       "      <td>0.000000</td>\n",
       "      <td>0.000000</td>\n",
       "      <td>0.779204</td>\n",
       "      <td>0.000000</td>\n",
       "      <td>0.000000</td>\n",
       "    </tr>\n",
       "    <tr>\n",
       "      <th>gender</th>\n",
       "      <td>0.000000</td>\n",
       "      <td>0.000000</td>\n",
       "      <td>0.000000</td>\n",
       "      <td>0.009025</td>\n",
       "      <td>0.000000</td>\n",
       "      <td>0.000000</td>\n",
       "      <td>0.004351</td>\n",
       "      <td>0.000000</td>\n",
       "      <td>0.000000</td>\n",
       "      <td>0.010291</td>\n",
       "      <td>0.000000</td>\n",
       "      <td>0.000000</td>\n",
       "      <td>1.000000</td>\n",
       "      <td>0.000000</td>\n",
       "      <td>0.000000</td>\n",
       "      <td>0.000000</td>\n",
       "      <td>0.000000</td>\n",
       "      <td>0.008581</td>\n",
       "      <td>0.000000</td>\n",
       "    </tr>\n",
       "    <tr>\n",
       "      <th>SeniorCitizen</th>\n",
       "      <td>0.086231</td>\n",
       "      <td>0.242133</td>\n",
       "      <td>0.292725</td>\n",
       "      <td>0.304691</td>\n",
       "      <td>0.135650</td>\n",
       "      <td>0.000000</td>\n",
       "      <td>0.000000</td>\n",
       "      <td>0.000000</td>\n",
       "      <td>0.000000</td>\n",
       "      <td>0.005750</td>\n",
       "      <td>0.000000</td>\n",
       "      <td>0.006296</td>\n",
       "      <td>0.000000</td>\n",
       "      <td>1.000000</td>\n",
       "      <td>0.016992</td>\n",
       "      <td>0.324576</td>\n",
       "      <td>0.000000</td>\n",
       "      <td>0.086159</td>\n",
       "      <td>0.063315</td>\n",
       "    </tr>\n",
       "    <tr>\n",
       "      <th>Partner</th>\n",
       "      <td>0.179736</td>\n",
       "      <td>0.013218</td>\n",
       "      <td>0.243008</td>\n",
       "      <td>0.203237</td>\n",
       "      <td>0.381958</td>\n",
       "      <td>0.000000</td>\n",
       "      <td>0.000000</td>\n",
       "      <td>0.000000</td>\n",
       "      <td>0.000000</td>\n",
       "      <td>0.000000</td>\n",
       "      <td>0.000000</td>\n",
       "      <td>0.000000</td>\n",
       "      <td>0.000000</td>\n",
       "      <td>0.016992</td>\n",
       "      <td>1.000000</td>\n",
       "      <td>0.652122</td>\n",
       "      <td>0.000000</td>\n",
       "      <td>0.226688</td>\n",
       "      <td>0.453688</td>\n",
       "    </tr>\n",
       "    <tr>\n",
       "      <th>Dependents</th>\n",
       "      <td>0.147680</td>\n",
       "      <td>0.172593</td>\n",
       "      <td>0.224903</td>\n",
       "      <td>0.184213</td>\n",
       "      <td>0.084247</td>\n",
       "      <td>0.000000</td>\n",
       "      <td>0.000701</td>\n",
       "      <td>0.000000</td>\n",
       "      <td>0.000000</td>\n",
       "      <td>0.000000</td>\n",
       "      <td>0.000000</td>\n",
       "      <td>0.000000</td>\n",
       "      <td>0.000000</td>\n",
       "      <td>0.324576</td>\n",
       "      <td>0.652122</td>\n",
       "      <td>1.000000</td>\n",
       "      <td>0.010464</td>\n",
       "      <td>0.046871</td>\n",
       "      <td>0.198729</td>\n",
       "    </tr>\n",
       "    <tr>\n",
       "      <th>MultipleLines</th>\n",
       "      <td>0.000000</td>\n",
       "      <td>0.000000</td>\n",
       "      <td>0.011925</td>\n",
       "      <td>0.028295</td>\n",
       "      <td>0.000000</td>\n",
       "      <td>0.779233</td>\n",
       "      <td>0.779311</td>\n",
       "      <td>0.779200</td>\n",
       "      <td>0.779211</td>\n",
       "      <td>0.779247</td>\n",
       "      <td>0.779201</td>\n",
       "      <td>0.779204</td>\n",
       "      <td>0.000000</td>\n",
       "      <td>0.000000</td>\n",
       "      <td>0.000000</td>\n",
       "      <td>0.010464</td>\n",
       "      <td>1.000000</td>\n",
       "      <td>0.000000</td>\n",
       "      <td>0.000000</td>\n",
       "    </tr>\n",
       "    <tr>\n",
       "      <th>target</th>\n",
       "      <td>0.094015</td>\n",
       "      <td>0.083398</td>\n",
       "      <td>0.214832</td>\n",
       "      <td>0.225925</td>\n",
       "      <td>0.302890</td>\n",
       "      <td>0.000000</td>\n",
       "      <td>0.000000</td>\n",
       "      <td>0.000000</td>\n",
       "      <td>0.005480</td>\n",
       "      <td>0.000000</td>\n",
       "      <td>0.000000</td>\n",
       "      <td>0.000000</td>\n",
       "      <td>0.008581</td>\n",
       "      <td>0.086159</td>\n",
       "      <td>0.226688</td>\n",
       "      <td>0.046871</td>\n",
       "      <td>0.000000</td>\n",
       "      <td>1.000000</td>\n",
       "      <td>0.374569</td>\n",
       "    </tr>\n",
       "    <tr>\n",
       "      <th>diff_days</th>\n",
       "      <td>0.634155</td>\n",
       "      <td>0.026799</td>\n",
       "      <td>0.350964</td>\n",
       "      <td>0.387579</td>\n",
       "      <td>0.848337</td>\n",
       "      <td>0.000000</td>\n",
       "      <td>0.000000</td>\n",
       "      <td>0.000000</td>\n",
       "      <td>0.000000</td>\n",
       "      <td>0.000000</td>\n",
       "      <td>0.000000</td>\n",
       "      <td>0.000000</td>\n",
       "      <td>0.000000</td>\n",
       "      <td>0.063315</td>\n",
       "      <td>0.453688</td>\n",
       "      <td>0.198729</td>\n",
       "      <td>0.000000</td>\n",
       "      <td>0.374569</td>\n",
       "      <td>1.000000</td>\n",
       "    </tr>\n",
       "  </tbody>\n",
       "</table>\n",
       "</div>"
      ],
      "text/plain": [
       "                      Type  PaperlessBilling  PaymentMethod  MonthlyCharges  \\\n",
       "Type              1.000000          0.106860       0.277462        0.388266   \n",
       "PaperlessBilling  0.106860          1.000000       0.370495        0.467783   \n",
       "PaymentMethod     0.277462          0.370495       1.000000        0.399536   \n",
       "MonthlyCharges    0.388266          0.467783       0.399536        1.000000   \n",
       "TotalCharges      0.470860          0.201703       0.335666        0.711035   \n",
       "InternetService   0.063434          0.000000       0.000000        0.000000   \n",
       "OnlineSecurity    0.000000          0.000000       0.000000        0.000000   \n",
       "OnlineBackup      0.000000          0.000000       0.000000        0.000000   \n",
       "DeviceProtection  0.000000          0.000000       0.000000        0.000000   \n",
       "TechSupport       0.035059          0.000000       0.000000        0.003184   \n",
       "StreamingTV       0.075085          0.000000       0.000000        0.000000   \n",
       "StreamingMovies   0.014170          0.000000       0.000000        0.000000   \n",
       "gender            0.000000          0.000000       0.000000        0.009025   \n",
       "SeniorCitizen     0.086231          0.242133       0.292725        0.304691   \n",
       "Partner           0.179736          0.013218       0.243008        0.203237   \n",
       "Dependents        0.147680          0.172593       0.224903        0.184213   \n",
       "MultipleLines     0.000000          0.000000       0.011925        0.028295   \n",
       "target            0.094015          0.083398       0.214832        0.225925   \n",
       "diff_days         0.634155          0.026799       0.350964        0.387579   \n",
       "\n",
       "                  TotalCharges  InternetService  OnlineSecurity  OnlineBackup  \\\n",
       "Type                  0.470860         0.063434        0.000000      0.000000   \n",
       "PaperlessBilling      0.201703         0.000000        0.000000      0.000000   \n",
       "PaymentMethod         0.335666         0.000000        0.000000      0.000000   \n",
       "MonthlyCharges        0.711035         0.000000        0.000000      0.000000   \n",
       "TotalCharges          1.000000         0.012002        0.000000      0.000000   \n",
       "InternetService       0.012002         1.000000        0.949498      0.942842   \n",
       "OnlineSecurity        0.000000         0.949498        1.000000      0.947224   \n",
       "OnlineBackup          0.000000         0.942842        0.947224      1.000000   \n",
       "DeviceProtection      0.000000         0.942811        0.946787      0.947487   \n",
       "TechSupport           0.032761         0.948914        0.952651      0.947756   \n",
       "StreamingTV           0.000000         0.946713        0.943082      0.945789   \n",
       "StreamingMovies       0.000000         0.946294        0.943248      0.945395   \n",
       "gender                0.000000         0.000000        0.004351      0.000000   \n",
       "SeniorCitizen         0.135650         0.000000        0.000000      0.000000   \n",
       "Partner               0.381958         0.000000        0.000000      0.000000   \n",
       "Dependents            0.084247         0.000000        0.000701      0.000000   \n",
       "MultipleLines         0.000000         0.779233        0.779311      0.779200   \n",
       "target                0.302890         0.000000        0.000000      0.000000   \n",
       "diff_days             0.848337         0.000000        0.000000      0.000000   \n",
       "\n",
       "                  DeviceProtection  TechSupport  StreamingTV  StreamingMovies  \\\n",
       "Type                      0.000000     0.035059     0.075085         0.014170   \n",
       "PaperlessBilling          0.000000     0.000000     0.000000         0.000000   \n",
       "PaymentMethod             0.000000     0.000000     0.000000         0.000000   \n",
       "MonthlyCharges            0.000000     0.003184     0.000000         0.000000   \n",
       "TotalCharges              0.000000     0.032761     0.000000         0.000000   \n",
       "InternetService           0.942811     0.948914     0.946713         0.946294   \n",
       "OnlineSecurity            0.946787     0.952651     0.943082         0.943248   \n",
       "OnlineBackup              0.947487     0.947756     0.945789         0.945395   \n",
       "DeviceProtection          1.000000     0.950247     0.952863         0.953717   \n",
       "TechSupport               0.950247     1.000000     0.946393         0.946417   \n",
       "StreamingTV               0.952863     0.946393     1.000000         0.965306   \n",
       "StreamingMovies           0.953717     0.946417     0.965306         1.000000   \n",
       "gender                    0.000000     0.010291     0.000000         0.000000   \n",
       "SeniorCitizen             0.000000     0.005750     0.000000         0.006296   \n",
       "Partner                   0.000000     0.000000     0.000000         0.000000   \n",
       "Dependents                0.000000     0.000000     0.000000         0.000000   \n",
       "MultipleLines             0.779211     0.779247     0.779201         0.779204   \n",
       "target                    0.005480     0.000000     0.000000         0.000000   \n",
       "diff_days                 0.000000     0.000000     0.000000         0.000000   \n",
       "\n",
       "                    gender  SeniorCitizen   Partner  Dependents  \\\n",
       "Type              0.000000       0.086231  0.179736    0.147680   \n",
       "PaperlessBilling  0.000000       0.242133  0.013218    0.172593   \n",
       "PaymentMethod     0.000000       0.292725  0.243008    0.224903   \n",
       "MonthlyCharges    0.009025       0.304691  0.203237    0.184213   \n",
       "TotalCharges      0.000000       0.135650  0.381958    0.084247   \n",
       "InternetService   0.000000       0.000000  0.000000    0.000000   \n",
       "OnlineSecurity    0.004351       0.000000  0.000000    0.000701   \n",
       "OnlineBackup      0.000000       0.000000  0.000000    0.000000   \n",
       "DeviceProtection  0.000000       0.000000  0.000000    0.000000   \n",
       "TechSupport       0.010291       0.005750  0.000000    0.000000   \n",
       "StreamingTV       0.000000       0.000000  0.000000    0.000000   \n",
       "StreamingMovies   0.000000       0.006296  0.000000    0.000000   \n",
       "gender            1.000000       0.000000  0.000000    0.000000   \n",
       "SeniorCitizen     0.000000       1.000000  0.016992    0.324576   \n",
       "Partner           0.000000       0.016992  1.000000    0.652122   \n",
       "Dependents        0.000000       0.324576  0.652122    1.000000   \n",
       "MultipleLines     0.000000       0.000000  0.000000    0.010464   \n",
       "target            0.008581       0.086159  0.226688    0.046871   \n",
       "diff_days         0.000000       0.063315  0.453688    0.198729   \n",
       "\n",
       "                  MultipleLines    target  diff_days  \n",
       "Type                   0.000000  0.094015   0.634155  \n",
       "PaperlessBilling       0.000000  0.083398   0.026799  \n",
       "PaymentMethod          0.011925  0.214832   0.350964  \n",
       "MonthlyCharges         0.028295  0.225925   0.387579  \n",
       "TotalCharges           0.000000  0.302890   0.848337  \n",
       "InternetService        0.779233  0.000000   0.000000  \n",
       "OnlineSecurity         0.779311  0.000000   0.000000  \n",
       "OnlineBackup           0.779200  0.000000   0.000000  \n",
       "DeviceProtection       0.779211  0.005480   0.000000  \n",
       "TechSupport            0.779247  0.000000   0.000000  \n",
       "StreamingTV            0.779201  0.000000   0.000000  \n",
       "StreamingMovies        0.779204  0.000000   0.000000  \n",
       "gender                 0.000000  0.008581   0.000000  \n",
       "SeniorCitizen          0.000000  0.086159   0.063315  \n",
       "Partner                0.000000  0.226688   0.453688  \n",
       "Dependents             0.010464  0.046871   0.198729  \n",
       "MultipleLines          1.000000  0.000000   0.000000  \n",
       "target                 0.000000  1.000000   0.374569  \n",
       "diff_days              0.000000  0.374569   1.000000  "
      ]
     },
     "execution_count": 55,
     "metadata": {},
     "output_type": "execute_result"
    }
   ],
   "source": [
    "phik_matrix(df_prep.drop(['customerID', 'BeginDate', 'EndDate'], axis=1)\n",
    "            , interval_cols=['MonthlyCharges', 'TotalCharges', 'diff_days']\n",
    "            )"
   ]
  },
  {
   "cell_type": "markdown",
   "metadata": {},
   "source": [
    "Есть проблемы с мультиколлениарностью с которыми я справлюсь в будущем убрав лишние столбцы"
   ]
  },
  {
   "cell_type": "markdown",
   "metadata": {},
   "source": [
    "## Кодирование признаков"
   ]
  },
  {
   "cell_type": "code",
   "execution_count": 56,
   "metadata": {},
   "outputs": [],
   "source": [
    "drop = [\n",
    "    'customerID'\n",
    "    , 'BeginDate'\n",
    "    , 'EndDate'\n",
    "    , 'target'\n",
    "    , 'OnlineSecurity'\n",
    "    , 'TechSupport'\n",
    "    , 'StreamingMovies'\n",
    "    , 'Dependents'\n",
    "    , 'MonthlyCharges'\n",
    "    , 'PaperlessBilling'\n",
    "    , 'PaymentMethod'\n",
    "    , 'TotalCharges'\n",
    "]\n",
    "x = df_prep.drop(drop, axis=1)\n",
    "y = df_prep['target']"
   ]
  },
  {
   "cell_type": "code",
   "execution_count": 57,
   "metadata": {},
   "outputs": [],
   "source": [
    "x_train_prep, x_test_prep, y_train, y_test = train_test_split(\n",
    "    x, y, train_size=.75, random_state=RANDOM_STATE)"
   ]
  },
  {
   "cell_type": "code",
   "execution_count": 58,
   "metadata": {},
   "outputs": [],
   "source": [
    "category_cols = list(df_prep\n",
    "                .drop(drop, axis=1)\n",
    "                .select_dtypes('object')\n",
    "                .columns)\n",
    "\n",
    "x_train_cat = x_train_prep[category_cols]\n",
    "x_test_cat = x_test_prep[category_cols]\n",
    "\n",
    "x_train_num = x_train_prep.drop(category_cols, axis=1)\n",
    "x_test_num = x_test_prep.drop(category_cols, axis=1)\n",
    "\n",
    "# OneHotEncoder\n",
    "encoder = OrdinalEncoder()#handle_unknown='ignore')"
   ]
  },
  {
   "cell_type": "code",
   "execution_count": 59,
   "metadata": {},
   "outputs": [],
   "source": [
    "x_train_encoded = encoder.fit_transform(x_train_cat)\n",
    "x_test_encoded = encoder.transform(x_test_cat)"
   ]
  },
  {
   "cell_type": "code",
   "execution_count": 60,
   "metadata": {},
   "outputs": [],
   "source": [
    "# StandardScaler\n",
    "scaler = StandardScaler()\n",
    "x_train_num_encoded = scaler.fit_transform(x_train_num)\n",
    "x_test_num_encoded = scaler.transform(x_test_num)"
   ]
  },
  {
   "cell_type": "code",
   "execution_count": 61,
   "metadata": {},
   "outputs": [],
   "source": [
    "# Соединяю данные\n",
    "x_train = np.concatenate([x_train_encoded, x_train_num_encoded], axis=1)\n",
    "x_test = np.concatenate([x_test_encoded, x_test_num_encoded], axis=1)"
   ]
  },
  {
   "cell_type": "code",
   "execution_count": 62,
   "metadata": {},
   "outputs": [],
   "source": [
    "classes = np.unique(y_train)\n",
    "weights = compute_class_weight(class_weight='balanced', classes=classes, y=y_train)\n",
    "class_weights = dict(zip(classes, weights))"
   ]
  },
  {
   "cell_type": "markdown",
   "metadata": {},
   "source": [
    "## Обучение модели"
   ]
  },
  {
   "cell_type": "code",
   "execution_count": 63,
   "metadata": {},
   "outputs": [
    {
     "ename": "LightGBMError",
     "evalue": "scikit-learn is required for lightgbm.sklearn. You must install scikit-learn and restart your session to use this module.",
     "output_type": "error",
     "traceback": [
      "\u001b[1;31m---------------------------------------------------------------------------\u001b[0m",
      "\u001b[1;31mLightGBMError\u001b[0m                             Traceback (most recent call last)",
      "Cell \u001b[1;32mIn[63], line 12\u001b[0m\n\u001b[0;32m      1\u001b[0m \u001b[38;5;66;03m# Параметры для моделей для GridSearchCV\u001b[39;00m\n\u001b[0;32m      2\u001b[0m grid_settings \u001b[38;5;241m=\u001b[39m {\n\u001b[0;32m      3\u001b[0m     \u001b[38;5;124m'\u001b[39m\u001b[38;5;124mCatBoostClassifier\u001b[39m\u001b[38;5;124m'\u001b[39m: (\n\u001b[0;32m      4\u001b[0m         CatBoostClassifier(random_state\u001b[38;5;241m=\u001b[39mRANDOM_STATE, silent\u001b[38;5;241m=\u001b[39m\u001b[38;5;28;01mTrue\u001b[39;00m, class_weights\u001b[38;5;241m=\u001b[39mclass_weights),\n\u001b[0;32m      5\u001b[0m         {\n\u001b[0;32m      6\u001b[0m             \u001b[38;5;124m'\u001b[39m\u001b[38;5;124mn_estimators\u001b[39m\u001b[38;5;124m'\u001b[39m: [i \u001b[38;5;28;01mfor\u001b[39;00m i \u001b[38;5;129;01min\u001b[39;00m \u001b[38;5;28mrange\u001b[39m(\u001b[38;5;241m150\u001b[39m, \u001b[38;5;241m301\u001b[39m, \u001b[38;5;241m50\u001b[39m)]\n\u001b[0;32m      7\u001b[0m             , \u001b[38;5;124m'\u001b[39m\u001b[38;5;124mdepth\u001b[39m\u001b[38;5;124m'\u001b[39m: [i \u001b[38;5;28;01mfor\u001b[39;00m i \u001b[38;5;129;01min\u001b[39;00m \u001b[38;5;28mrange\u001b[39m(\u001b[38;5;241m3\u001b[39m, \u001b[38;5;241m7\u001b[39m)]\n\u001b[0;32m      8\u001b[0m             , \u001b[38;5;124m'\u001b[39m\u001b[38;5;124mlearning_rate\u001b[39m\u001b[38;5;124m'\u001b[39m: [\u001b[38;5;241m.1\u001b[39m, \u001b[38;5;241m.2\u001b[39m]\n\u001b[0;32m      9\u001b[0m         } \n\u001b[0;32m     10\u001b[0m         )\n\u001b[0;32m     11\u001b[0m     , \u001b[38;5;124m'\u001b[39m\u001b[38;5;124mLGBMClassifier\u001b[39m\u001b[38;5;124m'\u001b[39m: (\n\u001b[1;32m---> 12\u001b[0m         \u001b[43mLGBMClassifier\u001b[49m\u001b[43m(\u001b[49m\u001b[43mrandom_state\u001b[49m\u001b[38;5;241;43m=\u001b[39;49m\u001b[43mRANDOM_STATE\u001b[49m\u001b[43m,\u001b[49m\u001b[43m \u001b[49m\u001b[43mverbose\u001b[49m\u001b[38;5;241;43m=\u001b[39;49m\u001b[38;5;241;43m-\u001b[39;49m\u001b[38;5;241;43m1\u001b[39;49m\u001b[43m,\u001b[49m\u001b[43m \u001b[49m\u001b[43mclass_weight\u001b[49m\u001b[38;5;241;43m=\u001b[39;49m\u001b[43mclass_weights\u001b[49m\u001b[43m)\u001b[49m,\n\u001b[0;32m     13\u001b[0m         {\n\u001b[0;32m     14\u001b[0m             \u001b[38;5;124m'\u001b[39m\u001b[38;5;124mn_estimators\u001b[39m\u001b[38;5;124m'\u001b[39m: [i \u001b[38;5;28;01mfor\u001b[39;00m i \u001b[38;5;129;01min\u001b[39;00m \u001b[38;5;28mrange\u001b[39m(\u001b[38;5;241m150\u001b[39m, \u001b[38;5;241m301\u001b[39m, \u001b[38;5;241m50\u001b[39m)]\n\u001b[0;32m     15\u001b[0m             , \u001b[38;5;124m'\u001b[39m\u001b[38;5;124mmax_depth\u001b[39m\u001b[38;5;124m'\u001b[39m: [\u001b[38;5;241m-\u001b[39m\u001b[38;5;241m1\u001b[39m, \u001b[38;5;241m3\u001b[39m, \u001b[38;5;241m4\u001b[39m]\n\u001b[0;32m     16\u001b[0m             , \u001b[38;5;124m'\u001b[39m\u001b[38;5;124mlearning_rate\u001b[39m\u001b[38;5;124m'\u001b[39m: [\u001b[38;5;241m.1\u001b[39m, \u001b[38;5;241m.2\u001b[39m]\n\u001b[0;32m     17\u001b[0m         } \n\u001b[0;32m     18\u001b[0m         )\n\u001b[0;32m     19\u001b[0m     , \u001b[38;5;124m'\u001b[39m\u001b[38;5;124mRandomForestClassifier\u001b[39m\u001b[38;5;124m'\u001b[39m: (\n\u001b[0;32m     20\u001b[0m         RandomForestClassifier(random_state\u001b[38;5;241m=\u001b[39mRANDOM_STATE, class_weight\u001b[38;5;241m=\u001b[39mclass_weights),\n\u001b[0;32m     21\u001b[0m         {\n\u001b[0;32m     22\u001b[0m             \u001b[38;5;124m'\u001b[39m\u001b[38;5;124mn_estimators\u001b[39m\u001b[38;5;124m'\u001b[39m: [i \u001b[38;5;28;01mfor\u001b[39;00m i \u001b[38;5;129;01min\u001b[39;00m \u001b[38;5;28mrange\u001b[39m(\u001b[38;5;241m150\u001b[39m, \u001b[38;5;241m401\u001b[39m, \u001b[38;5;241m50\u001b[39m)]\n\u001b[0;32m     23\u001b[0m             , \u001b[38;5;124m'\u001b[39m\u001b[38;5;124mmax_depth\u001b[39m\u001b[38;5;124m'\u001b[39m: [\u001b[38;5;28;01mNone\u001b[39;00m] \u001b[38;5;241m+\u001b[39m [i \u001b[38;5;28;01mfor\u001b[39;00m i \u001b[38;5;129;01min\u001b[39;00m \u001b[38;5;28mrange\u001b[39m(\u001b[38;5;241m3\u001b[39m,\u001b[38;5;241m6\u001b[39m)]\n\u001b[0;32m     24\u001b[0m         }\n\u001b[0;32m     25\u001b[0m         )\n\u001b[0;32m     26\u001b[0m     , \u001b[38;5;124m'\u001b[39m\u001b[38;5;124mDecisionTreeClassifier\u001b[39m\u001b[38;5;124m'\u001b[39m: (\n\u001b[0;32m     27\u001b[0m         DecisionTreeClassifier(random_state\u001b[38;5;241m=\u001b[39mRANDOM_STATE, class_weight\u001b[38;5;241m=\u001b[39mclass_weights),\n\u001b[0;32m     28\u001b[0m         {\n\u001b[0;32m     29\u001b[0m             \u001b[38;5;124m'\u001b[39m\u001b[38;5;124mmax_depth\u001b[39m\u001b[38;5;124m'\u001b[39m: [i \u001b[38;5;28;01mfor\u001b[39;00m i \u001b[38;5;129;01min\u001b[39;00m \u001b[38;5;28mrange\u001b[39m(\u001b[38;5;241m3\u001b[39m, \u001b[38;5;241m6\u001b[39m)]\n\u001b[0;32m     30\u001b[0m             , \u001b[38;5;124m'\u001b[39m\u001b[38;5;124mmin_samples_leaf\u001b[39m\u001b[38;5;124m'\u001b[39m: [i \u001b[38;5;28;01mfor\u001b[39;00m i \u001b[38;5;129;01min\u001b[39;00m \u001b[38;5;28mrange\u001b[39m(\u001b[38;5;241m2\u001b[39m, \u001b[38;5;241m5\u001b[39m)]\n\u001b[0;32m     31\u001b[0m         }\n\u001b[0;32m     32\u001b[0m                         )\n\u001b[0;32m     33\u001b[0m }\n",
      "File \u001b[1;32mc:\\Users\\monov\\AppData\\Local\\Programs\\Python\\Python312\\Lib\\site-packages\\lightgbm\\sklearn.py:574\u001b[0m, in \u001b[0;36mLGBMModel.__init__\u001b[1;34m(self, boosting_type, num_leaves, max_depth, learning_rate, n_estimators, subsample_for_bin, objective, class_weight, min_split_gain, min_child_weight, min_child_samples, subsample, subsample_freq, colsample_bytree, reg_alpha, reg_lambda, random_state, n_jobs, importance_type, **kwargs)\u001b[0m\n\u001b[0;32m    456\u001b[0m \u001b[38;5;250m\u001b[39m\u001b[38;5;124mr\u001b[39m\u001b[38;5;124;03m\"\"\"Construct a gradient boosting model.\u001b[39;00m\n\u001b[0;32m    457\u001b[0m \n\u001b[0;32m    458\u001b[0m \u001b[38;5;124;03mParameters\u001b[39;00m\n\u001b[1;32m   (...)\u001b[0m\n\u001b[0;32m    571\u001b[0m \u001b[38;5;124;03mand grad and hess should be returned in the same format.\u001b[39;00m\n\u001b[0;32m    572\u001b[0m \u001b[38;5;124;03m\"\"\"\u001b[39;00m\n\u001b[0;32m    573\u001b[0m \u001b[38;5;28;01mif\u001b[39;00m \u001b[38;5;129;01mnot\u001b[39;00m SKLEARN_INSTALLED:\n\u001b[1;32m--> 574\u001b[0m     \u001b[38;5;28;01mraise\u001b[39;00m LightGBMError(\u001b[38;5;124m'\u001b[39m\u001b[38;5;124mscikit-learn is required for lightgbm.sklearn. \u001b[39m\u001b[38;5;124m'\u001b[39m\n\u001b[0;32m    575\u001b[0m                         \u001b[38;5;124m'\u001b[39m\u001b[38;5;124mYou must install scikit-learn and restart your session to use this module.\u001b[39m\u001b[38;5;124m'\u001b[39m)\n\u001b[0;32m    577\u001b[0m \u001b[38;5;28mself\u001b[39m\u001b[38;5;241m.\u001b[39mboosting_type \u001b[38;5;241m=\u001b[39m boosting_type\n\u001b[0;32m    578\u001b[0m \u001b[38;5;28mself\u001b[39m\u001b[38;5;241m.\u001b[39mobjective \u001b[38;5;241m=\u001b[39m objective\n",
      "\u001b[1;31mLightGBMError\u001b[0m: scikit-learn is required for lightgbm.sklearn. You must install scikit-learn and restart your session to use this module."
     ]
    }
   ],
   "source": [
    "# Параметры для моделей для GridSearchCV\n",
    "grid_settings = {\n",
    "    'CatBoostClassifier': (\n",
    "        CatBoostClassifier(random_state=RANDOM_STATE, silent=True, class_weights=class_weights),\n",
    "        {\n",
    "            'n_estimators': [i for i in range(150, 301, 50)]\n",
    "            , 'depth': [i for i in range(3, 7)]\n",
    "            , 'learning_rate': [.1, .2]\n",
    "        } \n",
    "        )\n",
    "    , 'LGBMClassifier': (\n",
    "        LGBMClassifier(random_state=RANDOM_STATE, verbose=-1, class_weight=class_weights),\n",
    "        {\n",
    "            'n_estimators': [i for i in range(150, 301, 50)]\n",
    "            , 'max_depth': [-1, 3, 4]\n",
    "            , 'learning_rate': [.1, .2]\n",
    "        } \n",
    "        )\n",
    "    , 'RandomForestClassifier': (\n",
    "        RandomForestClassifier(random_state=RANDOM_STATE, class_weight=class_weights),\n",
    "        {\n",
    "            'n_estimators': [i for i in range(150, 401, 50)]\n",
    "            , 'max_depth': [None] + [i for i in range(3,6)]\n",
    "        }\n",
    "        )\n",
    "    , 'DecisionTreeClassifier': (\n",
    "        DecisionTreeClassifier(random_state=RANDOM_STATE, class_weight=class_weights),\n",
    "        {\n",
    "            'max_depth': [i for i in range(3, 6)]\n",
    "            , 'min_samples_leaf': [i for i in range(2, 5)]\n",
    "        }\n",
    "                        )\n",
    "}"
   ]
  },
  {
   "cell_type": "markdown",
   "metadata": {},
   "source": [
    "## GridSearchCV"
   ]
  },
  {
   "cell_type": "code",
   "execution_count": null,
   "metadata": {
    "scrolled": true
   },
   "outputs": [
    {
     "name": "stdout",
     "output_type": "stream",
     "text": [
      "Fitting 3 folds for each of 32 candidates, totalling 96 fits\n"
     ]
    },
    {
     "name": "stdout",
     "output_type": "stream",
     "text": [
      "Best params for CatBoostClassifier\n",
      "{'depth': 3, 'learning_rate': 0.2, 'n_estimators': 300}\n",
      "Best roc_auc_score: 0.92\n",
      "\n",
      "Fitting 3 folds for each of 24 candidates, totalling 72 fits\n",
      "Best params for LGBMClassifier\n",
      "{'learning_rate': 0.2, 'max_depth': 3, 'n_estimators': 300}\n",
      "Best roc_auc_score: 0.89\n",
      "\n",
      "Fitting 3 folds for each of 24 candidates, totalling 72 fits\n",
      "Best params for RandomForestClassifier\n",
      "{'max_depth': 5, 'n_estimators': 200}\n",
      "Best roc_auc_score: 0.79\n",
      "\n",
      "Fitting 3 folds for each of 9 candidates, totalling 27 fits\n",
      "Best params for DecisionTreeClassifier\n",
      "{'max_depth': 5, 'min_samples_leaf': 3}\n",
      "Best roc_auc_score: 0.77\n",
      "\n",
      "CPU times: total: 12.2 s\n",
      "Wall time: 1min 26s\n"
     ]
    }
   ],
   "source": [
    "%%time\n",
    "for model_name, (model, settings) in grid_settings.items():\n",
    "    search = GridSearchCV(estimator=model\n",
    "                          , param_grid=settings\n",
    "                          , scoring='roc_auc'\n",
    "                          , cv=3\n",
    "                          , n_jobs=-1\n",
    "                          , verbose=10\n",
    "                         )\n",
    "    search.fit(x_train, y_train)\n",
    "    print(f'Best params for {model_name}')\n",
    "    print(search.best_params_)\n",
    "    print(f'Best roc_auc_score: {round(search.best_score_, 2)}')\n",
    "    print()"
   ]
  },
  {
   "cell_type": "markdown",
   "metadata": {},
   "source": [
    "Лучшая модель - `CatBoostClassifier`:\n",
    "- roc_auc_score - 0.92\n",
    "\n",
    "Лучшие гиперпараметры:\n",
    "- n_estimators - 300\n",
    "- depth - 4\n",
    "- learning_rate - 0.2"
   ]
  },
  {
   "cell_type": "code",
   "execution_count": null,
   "metadata": {},
   "outputs": [
    {
     "name": "stdout",
     "output_type": "stream",
     "text": [
      "Feature Importance\n",
      "Type                 3.571133\n",
      "InternetService      0.495959\n",
      "OnlineBackup         1.194729\n",
      "DeviceProtection     0.983664\n",
      "StreamingTV          0.875667\n",
      "gender               0.411607\n",
      "SeniorCitizen        1.345387\n",
      "Partner              0.437266\n",
      "MultipleLines        0.946874\n",
      "diff_days           89.737713\n",
      "dtype: float64\n"
     ]
    }
   ],
   "source": [
    "model = CatBoostClassifier(learning_rate=.2, depth=3, n_estimators=300\n",
    "                           , silent=True, class_weights=class_weights)\n",
    "model.fit(x_train, y_train)\n",
    "print('Feature Importance')\n",
    "print(pd.Series(model.feature_importances_, index=x.columns))"
   ]
  },
  {
   "cell_type": "code",
   "execution_count": null,
   "metadata": {},
   "outputs": [
    {
     "name": "stdout",
     "output_type": "stream",
     "text": [
      "Scores\n",
      "Accuracy_score 0.8694\n",
      "Roc_auc_score 0.912\n"
     ]
    }
   ],
   "source": [
    "pred = model.predict(x_test)\n",
    "print('Scores')\n",
    "print(f'Accuracy_score {round(accuracy_score(y_test, pred), 4)}')\n",
    "print(f'Roc_auc_score {round(roc_auc_score(y_test, model.predict_proba(x_test)[:, 1]), 4)}')"
   ]
  },
  {
   "cell_type": "markdown",
   "metadata": {},
   "source": [
    "Метрика Accuracy score показывает процент правильно предсказанных ответов (ушёл клиент или нет). 0.8694 обозначают что модель правильно предсказала ушел клиент или остался в 86.94% случаев"
   ]
  },
  {
   "cell_type": "code",
   "execution_count": null,
   "metadata": {},
   "outputs": [
    {
     "data": {
      "image/png": "[encoded data removed]",
      "text/plain": [
       "<Figure size 1600x900 with 2 Axes>"
      ]
     },
     "metadata": {},
     "output_type": "display_data"
    }
   ],
   "source": [
    "sns.heatmap(confusion_matrix(y_test, pred) / pred.shape[0], annot=True)\n",
    "plt.ylabel('Предсказание')\n",
    "plt.xlabel('Факт')\n",
    "plt.title('Матрица ошибок')\n",
    "plt.show()"
   ]
  },
  {
   "cell_type": "markdown",
   "metadata": {},
   "source": [
    "Самый важный признак - столбец diff_days"
   ]
  },
  {
   "cell_type": "markdown",
   "metadata": {},
   "source": [
    "Точное описание:\n",
    "\n",
    "Модель:\n",
    "- предсказала 0, факт 0 (модель предсказала что клиент остался, фактически он остался). Таких правильных предсказаний большинство (74%) так как большинство данных это клиенты которые остались, поэтому модель хорошо эти случаи предсказывает\n",
    "- предсказала 0, факт 1 (модель предсказала что клиент остался, фактически он ушел). Таких ошибочных предсказаний большинство (9.5%) так как, в данных есть дисбаланс данных (клиентов которые остались больше чем которых ушли), поэтому модель хуже предсказывает случаи с ушедшими клиентами\n",
    "- предсказала 1, факт 0 (модель предсказала что клиент ушел, фактически он остался). Таких предсказаний меньше всего (3.6%), модель хорошо обучена предсказывать оставшихся клиентов\n",
    "- предсказала 1, факт 1 (модель предсказала что клиент ушел, фактически он ушел). Таких предсказаний (13%), потому что данных с ушедшими клиентами мало и ситуаций мало, поэтому предсказания редки\n",
    "\n",
    "Описание для заказчика:\n",
    "\n",
    "Ключевая задача проекта была помочь компании в предсказании потенциального желания клиента уйти.\n",
    "На основании ретро-данных была построена модель. \n",
    "Однако с учётом того, что доля клиентов сохранивших взаимоотношения с компанией значительно выше, чем расторгнувших контракт, обучающая выборка изначально была существенно больше для оставшихся клиентов. Соответственно качество предсказания клиента остаться в построенной модели выше качества предсказания ухода клиента из компании.\n",
    "Построенная модель продемонстрировала следующие результаты:\n",
    "- модель предсказала сохранение клиентов в 1305 случаев, 88,6% предсказание было корректно, в 11,4% - ошибочно, а с точки зрения оценки доли сохранившихся клиентов, от тех кого предсказала модель, она составляет - выше 94%. Исходя из этого можно сделать вывод, что модель с высоким уровнем точности предсказывает вероятность того, что клиент останется в компании, если за базу брать общее количество клиентов.\n",
    "- модель предсказала уход клиентов в 226 случаев, 78% предсказание было корректно, в 28% - ошибочно, с точки зрения оценки доли ушедших клиентов, от тех кого предсказала модель, она составляет - 60%. Исходя из этого можно сделать вывод, что модель с предсказывает вероятность ухода клиента с более высоким уровнем погрешности."
   ]
  },
  {
   "cell_type": "markdown",
   "metadata": {},
   "source": [
    "`roc_auc_score` - 0.91 что достаточно для проекта\n",
    "\n",
    "`accuracy_score` - 0.88 как показательная метрика"
   ]
  },
  {
   "cell_type": "markdown",
   "metadata": {},
   "source": [
    "## Заключение"
   ]
  },
  {
   "cell_type": "markdown",
   "metadata": {},
   "source": [
    "### 1. Определена цель и задачи проекта\n",
    "1. Обработать данные\n",
    "    - Соеденить все таблицы\n",
    "    - Избавиться от Nan (заменить/убрать)\n",
    "2. Построить модель\n",
    "    - С помощью энкодеров перевести данные из str в int/float\n",
    "    - Найти лучшую модель и параметры для нее. Модели которые я собираюсь использовать\n",
    "    - CatBoostClassifier\n",
    "    - LGBMClassifier\n",
    "    - RandomForestClassifier\n",
    "    - SGDClassifier\n",
    "3. Оценить модели\n",
    "4. Сделать выводы"
   ]
  },
  {
   "cell_type": "markdown",
   "metadata": {},
   "source": [
    "### 2. Анализ соответсвие фактической работы запланированным шагам\n",
    "- Вся работа соответствовала изначальному плану кроме:\n",
    "    - решил отказаться от *SGDClassifier* так как он так же представляет модели бустинга. Я решил исользовать *DecisionTreeClassifier* для большего разнообразия алгоритмов "
   ]
  },
  {
   "cell_type": "markdown",
   "metadata": {},
   "source": [
    "### 3. Рефлексия над сложностями и описание путей их решения\n",
    "- Больших сложностей я не встретил\n",
    "- Из наиболее трудных задач были\n",
    "    - Поиск логики замены пропусков у клиентов которые не использовали пакет с услугами\n",
    "        - Создал новое значение для клиентов которые не использовали пакет\n",
    "    - Поиск логики замены пропусков в столбце отвечающем за общу потраченную сумму клиентом\n",
    "        - нашел количесво месяцев клиентов с компанией и умножив на ежемесячную плату нашел предположительные траты"
   ]
  },
  {
   "cell_type": "markdown",
   "metadata": {},
   "source": [
    "### 4. Предобработка данных\n",
    "- Все таблицы из разных файлов соеденены в единую таблицу\n",
    "    - Добавлен столбец отвечающий за время клиента с команией в днях (\"diff_days\")\n",
    "    - Сформулирован признак классификации проекта\n",
    "    - Возникли пропуски у клиентов которые не пользовались пакетом услуг\n",
    "        - Были заменены значением \"Not used\", что бы показать разницу между исользованием пакета, но не использованием некоторых услуг по сравнению с не использованием пакета совсем\n",
    "    - Найдены пропуски в столбце \"Total Charges\" отвечающим за общие траты клиента за все время.\n",
    "        - Заменил пропуски\n",
    "            - нашел количество месяцев с компанией клиента\n",
    "            - умножил на ежемесячную плату\n",
    "            - получил предположительные траты\n",
    "- Изменил типы данных в столбцах для правильной работы с данными"
   ]
  },
  {
   "cell_type": "markdown",
   "metadata": {},
   "source": [
    "### 5. Итоговый список признаков для обучения моделей:\n",
    "\n",
    "- Список признаков с расшифровкой:\n",
    "    - Type - тип контракта с клиентом (\"Month-to-Month\" - ежемесячный, \"One Year\" - на один год, \"Two year\" - на два года)\n",
    "    - InternetService - пользование интернетом\n",
    "    - OnlineBackup - пользование данной услугой\n",
    "    - DeviceProtection - пользование данной услугой\n",
    "    - StreamingTV - пользование услугой TV\n",
    "    - gender - пол клиента\n",
    "    - SeniorCitizen - наличие пенсионного статуса по возрасту\n",
    "    - Partner - наличие партнера у клиента\n",
    "    - MultipleLines - наличие возможности ведения параллельных линий во время звонка\n",
    "    - diff_days - времня клиента с компанией в днях\n",
    "- Способы обработки данных/кодировки/стандартизация/преобразование:\n",
    "    - Для числовых данных использовался - *StandardScaler*\n",
    "    - Для категориальных данных исользовался - *OrdinalEncoder*"
   ]
  },
  {
   "cell_type": "markdown",
   "metadata": {},
   "source": [
    "### 6. Сводная таблица исследованных модолей и их метрика на кросс-валидации"
   ]
  },
  {
   "cell_type": "code",
   "execution_count": null,
   "metadata": {},
   "outputs": [
    {
     "name": "stdout",
     "output_type": "stream",
     "text": [
      "Сводная таблица\n"
     ]
    },
    {
     "data": {
      "text/html": [
       "<div>\n",
       "<style scoped>\n",
       "    .dataframe tbody tr th:only-of-type {\n",
       "        vertical-align: middle;\n",
       "    }\n",
       "\n",
       "    .dataframe tbody tr th {\n",
       "        vertical-align: top;\n",
       "    }\n",
       "\n",
       "    .dataframe thead th {\n",
       "        text-align: right;\n",
       "    }\n",
       "</style>\n",
       "<table border=\"1\" class=\"dataframe\">\n",
       "  <thead>\n",
       "    <tr style=\"text-align: right;\">\n",
       "      <th></th>\n",
       "      <th>score</th>\n",
       "    </tr>\n",
       "  </thead>\n",
       "  <tbody>\n",
       "    <tr>\n",
       "      <th>CatBoostClassifier</th>\n",
       "      <td>0.92</td>\n",
       "    </tr>\n",
       "    <tr>\n",
       "      <th>LGBMClassifier</th>\n",
       "      <td>0.89</td>\n",
       "    </tr>\n",
       "    <tr>\n",
       "      <th>RandomForestClassifier</th>\n",
       "      <td>0.79</td>\n",
       "    </tr>\n",
       "    <tr>\n",
       "      <th>DecisionTreeClassifier</th>\n",
       "      <td>0.77</td>\n",
       "    </tr>\n",
       "  </tbody>\n",
       "</table>\n",
       "</div>"
      ],
      "text/plain": [
       "                        score\n",
       "CatBoostClassifier       0.92\n",
       "LGBMClassifier           0.89\n",
       "RandomForestClassifier   0.79\n",
       "DecisionTreeClassifier   0.77"
      ]
     },
     "metadata": {},
     "output_type": "display_data"
    },
    {
     "name": "stdout",
     "output_type": "stream",
     "text": [
      "\n"
     ]
    },
    {
     "data": {
      "image/png": "[encoded data removed]",
      "text/plain": [
       "<Figure size 1600x900 with 1 Axes>"
      ]
     },
     "metadata": {},
     "output_type": "display_data"
    }
   ],
   "source": [
    "models_name = ['CatBoostClassifier', 'LGBMClassifier', 'RandomForestClassifier', 'DecisionTreeClassifier']\n",
    "models_scores =  [.92, .89, .79, .77]\n",
    "models_summary = pd.DataFrame(models_scores, models_name, columns=['score'])\n",
    "\n",
    "print('Сводная таблица')\n",
    "display(models_summary)\n",
    "print('')\n",
    "sns.barplot(x=models_summary.index, y=models_summary['score'])\n",
    "plt.title('Оценки моделей')\n",
    "plt.xlabel('Название модели')\n",
    "plt.ylabel('Оценка (макс. 1)')\n",
    "plt.show()"
   ]
  },
  {
   "cell_type": "markdown",
   "metadata": {},
   "source": [
    "### 7. Лучше всего себя показала модель - ***CatboostClassifier***, с параметрами:\n",
    "    - 'depth' = 3\n",
    "    - 'learning_rate' = 0.2\n",
    "    - 'n_estimators' = 300\n",
    "    - AUC_ROC на кросс-валидации - 0.92"
   ]
  },
  {
   "cell_type": "markdown",
   "metadata": {},
   "source": [
    "### 8. На тестовой выборке модель показала:\n",
    " - Accuracy_score =  0.8694\n",
    " - Roc_auc_score = 0.912"
   ]
  },
  {
   "cell_type": "markdown",
   "metadata": {},
   "source": [
    "### 9. Матрица ошибок"
   ]
  },
  {
   "cell_type": "code",
   "execution_count": null,
   "metadata": {},
   "outputs": [
    {
     "data": {
      "image/png": "[encoded data removed]",
      "text/plain": [
       "<Figure size 1600x900 with 2 Axes>"
      ]
     },
     "metadata": {},
     "output_type": "display_data"
    }
   ],
   "source": [
    "sns.heatmap(confusion_matrix(y_test, pred) / pred.shape[0] * 100, annot=True)\n",
    "plt.ylabel('Предсказание')\n",
    "plt.xlabel('Факт')\n",
    "plt.title('Матрица ошибок')\n",
    "plt.show()"
   ]
  },
  {
   "cell_type": "markdown",
   "metadata": {},
   "source": [
    "Ключевая задача проекта была помочь компании в предсказании потенциального желания клиента уйти.\n",
    "На основании ретро-данных была построена модель. \n",
    "Однако с учётом того, что доля клиентов сохранивших взаимоотношения с компанией значительно выше, чем расторгнувших контракт, обучающая выборка изначально была существенно больше для оставшихся клиентов. Соответственно качество предсказания клиента остаться в построенной модели выше качества предсказания ухода клиента из компании.\n",
    "Построенная модель продемонстрировала следующие результаты:\n",
    "- модель предсказала сохранение клиентов в 1305 случаев, 88,6% предсказание было корректно, в 11,4% - ошибочно, а с точки зрения оценки доли сохранившихся клиентов, от тех кого предсказала модель, она составляет - выше 94%. Исходя из этого можно сделать вывод, что модель с высоким уровнем точности предсказывает вероятность того, что клиент останется в компании, если за базу брать общее количество клиентов.\n",
    "- модель предсказала уход клиентов в 226 случаев, 78% предсказание было корректно, в 28% - ошибочно, с точки зрения оценки доли ушедших клиентов, от тех кого предсказала модель, она составляет - 60%. Исходя из этого можно сделать вывод, что модель с предсказывает вероятность ухода клиента с более высоким уровнем погрешности."
   ]
  },
  {
   "cell_type": "markdown",
   "metadata": {},
   "source": [
    "### 10. Важность признаков"
   ]
  },
  {
   "cell_type": "code",
   "execution_count": null,
   "metadata": {},
   "outputs": [
    {
     "data": {
      "image/png": "[encoded data removed]",
      "text/plain": [
       "<Figure size 1600x900 with 1 Axes>"
      ]
     },
     "metadata": {},
     "output_type": "display_data"
    }
   ],
   "source": [
    "df_total = pd.DataFrame(model.feature_importances_, index=x.columns)\n",
    "sns.barplot(x=df_total.index, y=df_total[0])\n",
    "plt.title('Важность признаков')\n",
    "plt.xlabel('Признак')\n",
    "plt.ylabel('Важность в %')\n",
    "plt.show()"
   ]
  },
  {
   "cell_type": "markdown",
   "metadata": {},
   "source": [
    "Самый важный признак - diff_days"
   ]
  }
 ],
 "metadata": {
  "ExecuteTimeLog": [
   {
    "duration": 50,
    "start_time": "2023-10-18T14:31:53.266Z"
   },
   {
    "duration": 1913,
    "start_time": "2023-10-18T14:32:05.648Z"
   },
   {
    "duration": 0,
    "start_time": "2023-10-18T14:32:07.567Z"
   },
   {
    "duration": 0,
    "start_time": "2023-10-18T14:32:07.568Z"
   },
   {
    "duration": 0,
    "start_time": "2023-10-18T14:32:07.569Z"
   },
   {
    "duration": 0,
    "start_time": "2023-10-18T14:32:07.571Z"
   },
   {
    "duration": 0,
    "start_time": "2023-10-18T14:32:07.572Z"
   },
   {
    "duration": 0,
    "start_time": "2023-10-18T14:32:07.573Z"
   },
   {
    "duration": 0,
    "start_time": "2023-10-18T14:32:07.574Z"
   },
   {
    "duration": 0,
    "start_time": "2023-10-18T14:32:07.575Z"
   },
   {
    "duration": 0,
    "start_time": "2023-10-18T14:32:07.576Z"
   },
   {
    "duration": 0,
    "start_time": "2023-10-18T14:32:07.578Z"
   },
   {
    "duration": 0,
    "start_time": "2023-10-18T14:32:07.579Z"
   },
   {
    "duration": 0,
    "start_time": "2023-10-18T14:32:07.580Z"
   },
   {
    "duration": 0,
    "start_time": "2023-10-18T14:32:07.581Z"
   },
   {
    "duration": 0,
    "start_time": "2023-10-18T14:32:07.582Z"
   },
   {
    "duration": 0,
    "start_time": "2023-10-18T14:32:07.583Z"
   },
   {
    "duration": 0,
    "start_time": "2023-10-18T14:32:07.584Z"
   },
   {
    "duration": 0,
    "start_time": "2023-10-18T14:32:07.585Z"
   },
   {
    "duration": 0,
    "start_time": "2023-10-18T14:32:07.586Z"
   },
   {
    "duration": 0,
    "start_time": "2023-10-18T14:32:07.587Z"
   },
   {
    "duration": 0,
    "start_time": "2023-10-18T14:32:07.588Z"
   },
   {
    "duration": 0,
    "start_time": "2023-10-18T14:32:07.589Z"
   },
   {
    "duration": 0,
    "start_time": "2023-10-18T14:32:07.590Z"
   },
   {
    "duration": 0,
    "start_time": "2023-10-18T14:32:07.591Z"
   },
   {
    "duration": 0,
    "start_time": "2023-10-18T14:32:07.592Z"
   },
   {
    "duration": 0,
    "start_time": "2023-10-18T14:32:07.594Z"
   },
   {
    "duration": 0,
    "start_time": "2023-10-18T14:32:07.595Z"
   },
   {
    "duration": 0,
    "start_time": "2023-10-18T14:32:07.596Z"
   },
   {
    "duration": 0,
    "start_time": "2023-10-18T14:32:07.597Z"
   },
   {
    "duration": 0,
    "start_time": "2023-10-18T14:32:07.599Z"
   },
   {
    "duration": 0,
    "start_time": "2023-10-18T14:32:07.599Z"
   },
   {
    "duration": 0,
    "start_time": "2023-10-18T14:32:07.600Z"
   },
   {
    "duration": 0,
    "start_time": "2023-10-18T14:32:07.602Z"
   },
   {
    "duration": 0,
    "start_time": "2023-10-18T14:32:07.603Z"
   },
   {
    "duration": 0,
    "start_time": "2023-10-18T14:32:07.604Z"
   },
   {
    "duration": 3282,
    "start_time": "2023-10-18T14:34:22.052Z"
   },
   {
    "duration": 22,
    "start_time": "2023-10-18T14:34:35.705Z"
   },
   {
    "duration": 1558,
    "start_time": "2023-10-18T14:35:06.371Z"
   },
   {
    "duration": 3,
    "start_time": "2023-10-18T14:35:07.931Z"
   },
   {
    "duration": 78,
    "start_time": "2023-10-18T14:35:07.936Z"
   },
   {
    "duration": 116,
    "start_time": "2023-10-18T14:35:08.016Z"
   },
   {
    "duration": 0,
    "start_time": "2023-10-18T14:35:08.134Z"
   },
   {
    "duration": 0,
    "start_time": "2023-10-18T14:35:08.135Z"
   },
   {
    "duration": 0,
    "start_time": "2023-10-18T14:35:08.137Z"
   },
   {
    "duration": 0,
    "start_time": "2023-10-18T14:35:08.138Z"
   },
   {
    "duration": 0,
    "start_time": "2023-10-18T14:35:08.139Z"
   },
   {
    "duration": 0,
    "start_time": "2023-10-18T14:35:08.140Z"
   },
   {
    "duration": 0,
    "start_time": "2023-10-18T14:35:08.140Z"
   },
   {
    "duration": 0,
    "start_time": "2023-10-18T14:35:08.141Z"
   },
   {
    "duration": 0,
    "start_time": "2023-10-18T14:35:08.142Z"
   },
   {
    "duration": 0,
    "start_time": "2023-10-18T14:35:08.143Z"
   },
   {
    "duration": 0,
    "start_time": "2023-10-18T14:35:08.144Z"
   },
   {
    "duration": 0,
    "start_time": "2023-10-18T14:35:08.145Z"
   },
   {
    "duration": 0,
    "start_time": "2023-10-18T14:35:08.146Z"
   },
   {
    "duration": 0,
    "start_time": "2023-10-18T14:35:08.147Z"
   },
   {
    "duration": 0,
    "start_time": "2023-10-18T14:35:08.148Z"
   },
   {
    "duration": 0,
    "start_time": "2023-10-18T14:35:08.167Z"
   },
   {
    "duration": 0,
    "start_time": "2023-10-18T14:35:08.168Z"
   },
   {
    "duration": 0,
    "start_time": "2023-10-18T14:35:08.169Z"
   },
   {
    "duration": 0,
    "start_time": "2023-10-18T14:35:08.170Z"
   },
   {
    "duration": 0,
    "start_time": "2023-10-18T14:35:08.171Z"
   },
   {
    "duration": 0,
    "start_time": "2023-10-18T14:35:08.172Z"
   },
   {
    "duration": 0,
    "start_time": "2023-10-18T14:35:08.173Z"
   },
   {
    "duration": 0,
    "start_time": "2023-10-18T14:35:08.174Z"
   },
   {
    "duration": 0,
    "start_time": "2023-10-18T14:35:08.174Z"
   },
   {
    "duration": 0,
    "start_time": "2023-10-18T14:35:08.175Z"
   },
   {
    "duration": 0,
    "start_time": "2023-10-18T14:35:08.176Z"
   },
   {
    "duration": 0,
    "start_time": "2023-10-18T14:35:08.177Z"
   },
   {
    "duration": 0,
    "start_time": "2023-10-18T14:35:08.180Z"
   },
   {
    "duration": 0,
    "start_time": "2023-10-18T14:35:08.181Z"
   },
   {
    "duration": 0,
    "start_time": "2023-10-18T14:35:08.182Z"
   },
   {
    "duration": 0,
    "start_time": "2023-10-18T14:35:08.182Z"
   },
   {
    "duration": 5,
    "start_time": "2023-10-18T14:35:32.448Z"
   },
   {
    "duration": 4,
    "start_time": "2023-10-18T14:35:33.125Z"
   },
   {
    "duration": 53,
    "start_time": "2023-10-18T14:35:34.353Z"
   },
   {
    "duration": 10,
    "start_time": "2023-10-18T14:35:35.863Z"
   },
   {
    "duration": 10,
    "start_time": "2023-10-18T14:35:36.127Z"
   },
   {
    "duration": 56,
    "start_time": "2023-10-18T14:37:24.882Z"
   },
   {
    "duration": 370,
    "start_time": "2023-10-18T14:37:34.933Z"
   },
   {
    "duration": 28,
    "start_time": "2023-10-18T14:37:39.051Z"
   },
   {
    "duration": 189,
    "start_time": "2023-10-18T14:37:39.759Z"
   },
   {
    "duration": 167,
    "start_time": "2023-10-18T14:37:40.193Z"
   },
   {
    "duration": 5,
    "start_time": "2023-10-18T14:37:40.725Z"
   },
   {
    "duration": 403,
    "start_time": "2023-10-18T14:37:41.648Z"
   },
   {
    "duration": 19,
    "start_time": "2023-10-18T14:37:42.199Z"
   },
   {
    "duration": 237,
    "start_time": "2023-10-18T14:37:42.338Z"
   },
   {
    "duration": 162,
    "start_time": "2023-10-18T14:37:42.824Z"
   },
   {
    "duration": 21,
    "start_time": "2023-10-18T14:37:43.578Z"
   },
   {
    "duration": 151,
    "start_time": "2023-10-18T14:37:43.697Z"
   },
   {
    "duration": 16,
    "start_time": "2023-10-18T14:37:44.458Z"
   },
   {
    "duration": 157,
    "start_time": "2023-10-18T14:37:44.616Z"
   },
   {
    "duration": 45,
    "start_time": "2023-10-18T14:37:45.526Z"
   },
   {
    "duration": 14,
    "start_time": "2023-10-18T14:37:45.791Z"
   },
   {
    "duration": 20,
    "start_time": "2023-10-18T14:37:46.005Z"
   },
   {
    "duration": 9,
    "start_time": "2023-10-18T14:37:46.643Z"
   },
   {
    "duration": 338,
    "start_time": "2023-10-18T14:37:46.977Z"
   },
   {
    "duration": 410,
    "start_time": "2023-10-18T14:37:47.317Z"
   },
   {
    "duration": 10,
    "start_time": "2023-10-18T14:37:47.729Z"
   },
   {
    "duration": 39,
    "start_time": "2023-10-18T14:37:47.857Z"
   },
   {
    "duration": 9,
    "start_time": "2023-10-18T14:37:48.215Z"
   },
   {
    "duration": 350,
    "start_time": "2023-10-18T14:37:48.385Z"
   },
   {
    "duration": 12,
    "start_time": "2023-10-18T14:37:48.737Z"
   },
   {
    "duration": 399,
    "start_time": "2023-10-18T14:37:48.751Z"
   },
   {
    "duration": 344,
    "start_time": "2023-10-18T14:37:50.559Z"
   },
   {
    "duration": 7,
    "start_time": "2023-10-18T14:37:50.906Z"
   },
   {
    "duration": 1093,
    "start_time": "2023-10-18T14:37:51.280Z"
   },
   {
    "duration": 24,
    "start_time": "2023-10-18T14:37:52.376Z"
   },
   {
    "duration": 0,
    "start_time": "2023-10-18T14:37:52.402Z"
   },
   {
    "duration": 13,
    "start_time": "2023-10-18T14:37:52.443Z"
   },
   {
    "duration": 91,
    "start_time": "2023-10-18T14:37:52.801Z"
   },
   {
    "duration": 13,
    "start_time": "2023-10-18T14:37:53.275Z"
   },
   {
    "duration": 37,
    "start_time": "2023-10-18T14:38:19.484Z"
   },
   {
    "duration": 40,
    "start_time": "2023-10-18T14:38:21.080Z"
   },
   {
    "duration": 5,
    "start_time": "2023-10-18T14:38:21.576Z"
   },
   {
    "duration": 7,
    "start_time": "2023-10-18T14:38:22.633Z"
   },
   {
    "duration": 278557,
    "start_time": "2023-10-18T14:38:23.488Z"
   },
   {
    "duration": 1643,
    "start_time": "2023-10-18T14:43:02.047Z"
   },
   {
    "duration": 1678,
    "start_time": "2023-10-18T15:00:06.929Z"
   },
   {
    "duration": 1733,
    "start_time": "2023-10-18T15:02:35.418Z"
   },
   {
    "duration": 1583,
    "start_time": "2023-10-18T15:24:49.755Z"
   },
   {
    "duration": 4,
    "start_time": "2023-10-18T15:24:51.340Z"
   },
   {
    "duration": 115,
    "start_time": "2023-10-18T15:24:51.346Z"
   },
   {
    "duration": 29,
    "start_time": "2023-10-18T15:24:51.464Z"
   },
   {
    "duration": 196,
    "start_time": "2023-10-18T15:24:51.495Z"
   },
   {
    "duration": 177,
    "start_time": "2023-10-18T15:24:51.693Z"
   },
   {
    "duration": 6,
    "start_time": "2023-10-18T15:24:51.872Z"
   },
   {
    "duration": 446,
    "start_time": "2023-10-18T15:24:51.880Z"
   },
   {
    "duration": 28,
    "start_time": "2023-10-18T15:24:52.328Z"
   },
   {
    "duration": 269,
    "start_time": "2023-10-18T15:24:52.368Z"
   },
   {
    "duration": 187,
    "start_time": "2023-10-18T15:24:52.638Z"
   },
   {
    "duration": 21,
    "start_time": "2023-10-18T15:24:52.827Z"
   },
   {
    "duration": 167,
    "start_time": "2023-10-18T15:24:52.867Z"
   },
   {
    "duration": 17,
    "start_time": "2023-10-18T15:24:53.035Z"
   },
   {
    "duration": 195,
    "start_time": "2023-10-18T15:24:53.053Z"
   },
   {
    "duration": 54,
    "start_time": "2023-10-18T15:24:53.250Z"
   },
   {
    "duration": 13,
    "start_time": "2023-10-18T15:24:53.305Z"
   },
   {
    "duration": 20,
    "start_time": "2023-10-18T15:24:53.320Z"
   },
   {
    "duration": 10,
    "start_time": "2023-10-18T15:24:53.366Z"
   },
   {
    "duration": 350,
    "start_time": "2023-10-18T15:24:53.377Z"
   },
   {
    "duration": 397,
    "start_time": "2023-10-18T15:24:53.728Z"
   },
   {
    "duration": 10,
    "start_time": "2023-10-18T15:24:54.126Z"
   },
   {
    "duration": 56,
    "start_time": "2023-10-18T15:24:54.138Z"
   },
   {
    "duration": 9,
    "start_time": "2023-10-18T15:24:54.196Z"
   },
   {
    "duration": 388,
    "start_time": "2023-10-18T15:24:54.206Z"
   },
   {
    "duration": 13,
    "start_time": "2023-10-18T15:24:54.596Z"
   },
   {
    "duration": 429,
    "start_time": "2023-10-18T15:24:54.611Z"
   },
   {
    "duration": 330,
    "start_time": "2023-10-18T15:24:55.044Z"
   },
   {
    "duration": 6,
    "start_time": "2023-10-18T15:24:55.376Z"
   },
   {
    "duration": 1060,
    "start_time": "2023-10-18T15:24:55.384Z"
   },
   {
    "duration": 49,
    "start_time": "2023-10-18T15:24:56.445Z"
   },
   {
    "duration": 4,
    "start_time": "2023-10-18T15:24:56.496Z"
   },
   {
    "duration": 9,
    "start_time": "2023-10-18T15:24:56.502Z"
   },
   {
    "duration": 224202,
    "start_time": "2023-10-18T15:24:56.513Z"
   },
   {
    "duration": 1562,
    "start_time": "2023-10-18T15:28:40.717Z"
   }
  ],
  "kernelspec": {
   "display_name": "Python 3 (ipykernel)",
   "language": "python",
   "name": "python3"
  },
  "language_info": {
   "codemirror_mode": {
    "name": "ipython",
    "version": 3
   },
   "file_extension": ".py",
   "mimetype": "text/x-python",
   "name": "python",
   "nbconvert_exporter": "python",
   "pygments_lexer": "ipython3",
   "version": "3.12.2"
  },
  "toc": {
   "base_numbering": 1,
   "nav_menu": {},
   "number_sections": true,
   "sideBar": true,
   "skip_h1_title": true,
   "title_cell": "Table of Contents",
   "title_sidebar": "Contents",
   "toc_cell": false,
   "toc_position": {},
   "toc_section_display": true,
   "toc_window_display": false
  }
 },
 "nbformat": 4,
 "nbformat_minor": 2
}
