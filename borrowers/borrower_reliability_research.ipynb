{
 "cells": [
  {
   "cell_type": "markdown",
   "id": "ff43239c",
   "metadata": {
    "deletable": false,
    "editable": false,
    "id": "c81daeeb"
   },
   "source": [
    "# Исследование надежности заемщиков\n"
   ]
  },
  {
   "cell_type": "markdown",
   "id": "9c8be416",
   "metadata": {
    "deletable": false,
    "editable": false,
    "id": "744d7639"
   },
   "source": [
    "## Изучаю общую информацию о данных"
   ]
  },
  {
   "cell_type": "code",
   "execution_count": null,
   "id": "1bffceb8",
   "metadata": {
    "deletable": false,
    "id": "7bcf75c9"
   },
   "outputs": [],
   "source": [
    "import pandas as pd\n",
    "\n",
    "try:\n",
    "    data = pd.read_csv('/datasets/data.csv')\n",
    "except:\n",
    "    print('Data was not found')"
   ]
  },
  {
   "cell_type": "code",
   "execution_count": 93,
   "id": "439aff90",
   "metadata": {
    "deletable": false,
    "id": "2a7cab99",
    "outputId": "1a8f3ef2-d323-4ec2-ddf7-89670b5944c4"
   },
   "outputs": [
    {
     "data": {
      "text/html": [
       "<div>\n",
       "<style scoped>\n",
       "    .dataframe tbody tr th:only-of-type {\n",
       "        vertical-align: middle;\n",
       "    }\n",
       "\n",
       "    .dataframe tbody tr th {\n",
       "        vertical-align: top;\n",
       "    }\n",
       "\n",
       "    .dataframe thead th {\n",
       "        text-align: right;\n",
       "    }\n",
       "</style>\n",
       "<table border=\"1\" class=\"dataframe\">\n",
       "  <thead>\n",
       "    <tr style=\"text-align: right;\">\n",
       "      <th></th>\n",
       "      <th>children</th>\n",
       "      <th>days_employed</th>\n",
       "      <th>dob_years</th>\n",
       "      <th>education</th>\n",
       "      <th>education_id</th>\n",
       "      <th>family_status</th>\n",
       "      <th>family_status_id</th>\n",
       "      <th>gender</th>\n",
       "      <th>income_type</th>\n",
       "      <th>debt</th>\n",
       "      <th>total_income</th>\n",
       "      <th>purpose</th>\n",
       "    </tr>\n",
       "  </thead>\n",
       "  <tbody>\n",
       "    <tr>\n",
       "      <th>0</th>\n",
       "      <td>1</td>\n",
       "      <td>-8437.673028</td>\n",
       "      <td>42</td>\n",
       "      <td>высшее</td>\n",
       "      <td>0</td>\n",
       "      <td>женат / замужем</td>\n",
       "      <td>0</td>\n",
       "      <td>F</td>\n",
       "      <td>сотрудник</td>\n",
       "      <td>0</td>\n",
       "      <td>253875.639453</td>\n",
       "      <td>покупка жилья</td>\n",
       "    </tr>\n",
       "    <tr>\n",
       "      <th>1</th>\n",
       "      <td>1</td>\n",
       "      <td>-4024.803754</td>\n",
       "      <td>36</td>\n",
       "      <td>среднее</td>\n",
       "      <td>1</td>\n",
       "      <td>женат / замужем</td>\n",
       "      <td>0</td>\n",
       "      <td>F</td>\n",
       "      <td>сотрудник</td>\n",
       "      <td>0</td>\n",
       "      <td>112080.014102</td>\n",
       "      <td>приобретение автомобиля</td>\n",
       "    </tr>\n",
       "    <tr>\n",
       "      <th>2</th>\n",
       "      <td>0</td>\n",
       "      <td>-5623.422610</td>\n",
       "      <td>33</td>\n",
       "      <td>Среднее</td>\n",
       "      <td>1</td>\n",
       "      <td>женат / замужем</td>\n",
       "      <td>0</td>\n",
       "      <td>M</td>\n",
       "      <td>сотрудник</td>\n",
       "      <td>0</td>\n",
       "      <td>145885.952297</td>\n",
       "      <td>покупка жилья</td>\n",
       "    </tr>\n",
       "    <tr>\n",
       "      <th>3</th>\n",
       "      <td>3</td>\n",
       "      <td>-4124.747207</td>\n",
       "      <td>32</td>\n",
       "      <td>среднее</td>\n",
       "      <td>1</td>\n",
       "      <td>женат / замужем</td>\n",
       "      <td>0</td>\n",
       "      <td>M</td>\n",
       "      <td>сотрудник</td>\n",
       "      <td>0</td>\n",
       "      <td>267628.550329</td>\n",
       "      <td>дополнительное образование</td>\n",
       "    </tr>\n",
       "    <tr>\n",
       "      <th>4</th>\n",
       "      <td>0</td>\n",
       "      <td>340266.072047</td>\n",
       "      <td>53</td>\n",
       "      <td>среднее</td>\n",
       "      <td>1</td>\n",
       "      <td>гражданский брак</td>\n",
       "      <td>1</td>\n",
       "      <td>F</td>\n",
       "      <td>пенсионер</td>\n",
       "      <td>0</td>\n",
       "      <td>158616.077870</td>\n",
       "      <td>сыграть свадьбу</td>\n",
       "    </tr>\n",
       "    <tr>\n",
       "      <th>5</th>\n",
       "      <td>0</td>\n",
       "      <td>-926.185831</td>\n",
       "      <td>27</td>\n",
       "      <td>высшее</td>\n",
       "      <td>0</td>\n",
       "      <td>гражданский брак</td>\n",
       "      <td>1</td>\n",
       "      <td>M</td>\n",
       "      <td>компаньон</td>\n",
       "      <td>0</td>\n",
       "      <td>255763.565419</td>\n",
       "      <td>покупка жилья</td>\n",
       "    </tr>\n",
       "    <tr>\n",
       "      <th>6</th>\n",
       "      <td>0</td>\n",
       "      <td>-2879.202052</td>\n",
       "      <td>43</td>\n",
       "      <td>высшее</td>\n",
       "      <td>0</td>\n",
       "      <td>женат / замужем</td>\n",
       "      <td>0</td>\n",
       "      <td>F</td>\n",
       "      <td>компаньон</td>\n",
       "      <td>0</td>\n",
       "      <td>240525.971920</td>\n",
       "      <td>операции с жильем</td>\n",
       "    </tr>\n",
       "    <tr>\n",
       "      <th>7</th>\n",
       "      <td>0</td>\n",
       "      <td>-152.779569</td>\n",
       "      <td>50</td>\n",
       "      <td>СРЕДНЕЕ</td>\n",
       "      <td>1</td>\n",
       "      <td>женат / замужем</td>\n",
       "      <td>0</td>\n",
       "      <td>M</td>\n",
       "      <td>сотрудник</td>\n",
       "      <td>0</td>\n",
       "      <td>135823.934197</td>\n",
       "      <td>образование</td>\n",
       "    </tr>\n",
       "    <tr>\n",
       "      <th>8</th>\n",
       "      <td>2</td>\n",
       "      <td>-6929.865299</td>\n",
       "      <td>35</td>\n",
       "      <td>ВЫСШЕЕ</td>\n",
       "      <td>0</td>\n",
       "      <td>гражданский брак</td>\n",
       "      <td>1</td>\n",
       "      <td>F</td>\n",
       "      <td>сотрудник</td>\n",
       "      <td>0</td>\n",
       "      <td>95856.832424</td>\n",
       "      <td>на проведение свадьбы</td>\n",
       "    </tr>\n",
       "    <tr>\n",
       "      <th>9</th>\n",
       "      <td>0</td>\n",
       "      <td>-2188.756445</td>\n",
       "      <td>41</td>\n",
       "      <td>среднее</td>\n",
       "      <td>1</td>\n",
       "      <td>женат / замужем</td>\n",
       "      <td>0</td>\n",
       "      <td>M</td>\n",
       "      <td>сотрудник</td>\n",
       "      <td>0</td>\n",
       "      <td>144425.938277</td>\n",
       "      <td>покупка жилья для семьи</td>\n",
       "    </tr>\n",
       "  </tbody>\n",
       "</table>\n",
       "</div>"
      ],
      "text/plain": [
       "   children  days_employed  dob_years education  education_id  \\\n",
       "0         1   -8437.673028         42    высшее             0   \n",
       "1         1   -4024.803754         36   среднее             1   \n",
       "2         0   -5623.422610         33   Среднее             1   \n",
       "3         3   -4124.747207         32   среднее             1   \n",
       "4         0  340266.072047         53   среднее             1   \n",
       "5         0    -926.185831         27    высшее             0   \n",
       "6         0   -2879.202052         43    высшее             0   \n",
       "7         0    -152.779569         50   СРЕДНЕЕ             1   \n",
       "8         2   -6929.865299         35    ВЫСШЕЕ             0   \n",
       "9         0   -2188.756445         41   среднее             1   \n",
       "\n",
       "      family_status  family_status_id gender income_type  debt   total_income  \\\n",
       "0   женат / замужем                 0      F   сотрудник     0  253875.639453   \n",
       "1   женат / замужем                 0      F   сотрудник     0  112080.014102   \n",
       "2   женат / замужем                 0      M   сотрудник     0  145885.952297   \n",
       "3   женат / замужем                 0      M   сотрудник     0  267628.550329   \n",
       "4  гражданский брак                 1      F   пенсионер     0  158616.077870   \n",
       "5  гражданский брак                 1      M   компаньон     0  255763.565419   \n",
       "6   женат / замужем                 0      F   компаньон     0  240525.971920   \n",
       "7   женат / замужем                 0      M   сотрудник     0  135823.934197   \n",
       "8  гражданский брак                 1      F   сотрудник     0   95856.832424   \n",
       "9   женат / замужем                 0      M   сотрудник     0  144425.938277   \n",
       "\n",
       "                      purpose  \n",
       "0               покупка жилья  \n",
       "1     приобретение автомобиля  \n",
       "2               покупка жилья  \n",
       "3  дополнительное образование  \n",
       "4             сыграть свадьбу  \n",
       "5               покупка жилья  \n",
       "6           операции с жильем  \n",
       "7                 образование  \n",
       "8       на проведение свадьбы  \n",
       "9     покупка жилья для семьи  "
      ]
     },
     "execution_count": 93,
     "metadata": {},
     "output_type": "execute_result"
    }
   ],
   "source": [
    "data.head(10)"
   ]
  },
  {
   "cell_type": "code",
   "execution_count": 94,
   "id": "537b97df",
   "metadata": {
    "deletable": false,
    "id": "2b757bca",
    "outputId": "15376089-8dad-46c9-b520-c05248d43158"
   },
   "outputs": [
    {
     "name": "stdout",
     "output_type": "stream",
     "text": [
      "<class 'pandas.core.frame.DataFrame'>\n",
      "RangeIndex: 21525 entries, 0 to 21524\n",
      "Data columns (total 12 columns):\n",
      " #   Column            Non-Null Count  Dtype  \n",
      "---  ------            --------------  -----  \n",
      " 0   children          21525 non-null  int64  \n",
      " 1   days_employed     19351 non-null  float64\n",
      " 2   dob_years         21525 non-null  int64  \n",
      " 3   education         21525 non-null  object \n",
      " 4   education_id      21525 non-null  int64  \n",
      " 5   family_status     21525 non-null  object \n",
      " 6   family_status_id  21525 non-null  int64  \n",
      " 7   gender            21525 non-null  object \n",
      " 8   income_type       21525 non-null  object \n",
      " 9   debt              21525 non-null  int64  \n",
      " 10  total_income      19351 non-null  float64\n",
      " 11  purpose           21525 non-null  object \n",
      "dtypes: float64(2), int64(5), object(5)\n",
      "memory usage: 2.0+ MB\n"
     ]
    }
   ],
   "source": [
    "data.info()"
   ]
  },
  {
   "cell_type": "markdown",
   "id": "cc1ee15c",
   "metadata": {
    "deletable": false,
    "editable": false,
    "id": "333ec665"
   },
   "source": [
    "## Предобработка данных"
   ]
  },
  {
   "cell_type": "markdown",
   "id": "d6ae0a4a",
   "metadata": {
    "deletable": false,
    "editable": false,
    "id": "02d92d53"
   },
   "source": [
    "### Удаление пропусков"
   ]
  },
  {
   "cell_type": "code",
   "execution_count": 95,
   "id": "0a22f9f4",
   "metadata": {
    "deletable": false,
    "id": "7f9b2309",
    "outputId": "81f4d817-781c-465c-ed15-91ce4446810d"
   },
   "outputs": [
    {
     "data": {
      "text/plain": [
       "children               0\n",
       "days_employed       2174\n",
       "dob_years              0\n",
       "education              0\n",
       "education_id           0\n",
       "family_status          0\n",
       "family_status_id       0\n",
       "gender                 0\n",
       "income_type            0\n",
       "debt                   0\n",
       "total_income        2174\n",
       "purpose                0\n",
       "dtype: int64"
      ]
     },
     "execution_count": 95,
     "metadata": {},
     "output_type": "execute_result"
    }
   ],
   "source": [
    "data.isna().sum()"
   ]
  },
  {
   "cell_type": "code",
   "execution_count": 96,
   "id": "9daf0d6c",
   "metadata": {
    "deletable": false,
    "id": "42006a93"
   },
   "outputs": [],
   "source": [
    "for t in data['income_type'].unique():\n",
    "    data.loc[(data['income_type'] == t) & (data['total_income'].isna()), 'total_income'] = \\\n",
    "    data.loc[(data['income_type'] == t), 'total_income'].median()"
   ]
  },
  {
   "cell_type": "markdown",
   "id": "59f812c9",
   "metadata": {
    "deletable": false,
    "editable": false,
    "id": "89da5ece"
   },
   "source": [
    "### Обработка аномальных значений"
   ]
  },
  {
   "cell_type": "markdown",
   "id": "79a0ffb8",
   "metadata": {},
   "source": [
    "Заменяю аномальные значения с помощью медианы"
   ]
  },
  {
   "cell_type": "code",
   "execution_count": 97,
   "id": "c780db4b",
   "metadata": {
    "deletable": false,
    "id": "f6f055bf"
   },
   "outputs": [
    {
     "data": {
      "text/html": [
       "<div>\n",
       "<style scoped>\n",
       "    .dataframe tbody tr th:only-of-type {\n",
       "        vertical-align: middle;\n",
       "    }\n",
       "\n",
       "    .dataframe tbody tr th {\n",
       "        vertical-align: top;\n",
       "    }\n",
       "\n",
       "    .dataframe thead th {\n",
       "        text-align: right;\n",
       "    }\n",
       "</style>\n",
       "<table border=\"1\" class=\"dataframe\">\n",
       "  <thead>\n",
       "    <tr style=\"text-align: right;\">\n",
       "      <th></th>\n",
       "      <th>children</th>\n",
       "      <th>days_employed</th>\n",
       "      <th>dob_years</th>\n",
       "      <th>education</th>\n",
       "      <th>education_id</th>\n",
       "      <th>family_status</th>\n",
       "      <th>family_status_id</th>\n",
       "      <th>gender</th>\n",
       "      <th>income_type</th>\n",
       "      <th>debt</th>\n",
       "      <th>total_income</th>\n",
       "      <th>purpose</th>\n",
       "    </tr>\n",
       "  </thead>\n",
       "  <tbody>\n",
       "    <tr>\n",
       "      <th>0</th>\n",
       "      <td>1</td>\n",
       "      <td>8437.673028</td>\n",
       "      <td>42</td>\n",
       "      <td>высшее</td>\n",
       "      <td>0</td>\n",
       "      <td>женат / замужем</td>\n",
       "      <td>0</td>\n",
       "      <td>F</td>\n",
       "      <td>сотрудник</td>\n",
       "      <td>0</td>\n",
       "      <td>253875.639453</td>\n",
       "      <td>покупка жилья</td>\n",
       "    </tr>\n",
       "    <tr>\n",
       "      <th>1</th>\n",
       "      <td>1</td>\n",
       "      <td>4024.803754</td>\n",
       "      <td>36</td>\n",
       "      <td>среднее</td>\n",
       "      <td>1</td>\n",
       "      <td>женат / замужем</td>\n",
       "      <td>0</td>\n",
       "      <td>F</td>\n",
       "      <td>сотрудник</td>\n",
       "      <td>0</td>\n",
       "      <td>112080.014102</td>\n",
       "      <td>приобретение автомобиля</td>\n",
       "    </tr>\n",
       "    <tr>\n",
       "      <th>2</th>\n",
       "      <td>0</td>\n",
       "      <td>5623.422610</td>\n",
       "      <td>33</td>\n",
       "      <td>Среднее</td>\n",
       "      <td>1</td>\n",
       "      <td>женат / замужем</td>\n",
       "      <td>0</td>\n",
       "      <td>M</td>\n",
       "      <td>сотрудник</td>\n",
       "      <td>0</td>\n",
       "      <td>145885.952297</td>\n",
       "      <td>покупка жилья</td>\n",
       "    </tr>\n",
       "    <tr>\n",
       "      <th>3</th>\n",
       "      <td>3</td>\n",
       "      <td>4124.747207</td>\n",
       "      <td>32</td>\n",
       "      <td>среднее</td>\n",
       "      <td>1</td>\n",
       "      <td>женат / замужем</td>\n",
       "      <td>0</td>\n",
       "      <td>M</td>\n",
       "      <td>сотрудник</td>\n",
       "      <td>0</td>\n",
       "      <td>267628.550329</td>\n",
       "      <td>дополнительное образование</td>\n",
       "    </tr>\n",
       "    <tr>\n",
       "      <th>4</th>\n",
       "      <td>0</td>\n",
       "      <td>340266.072047</td>\n",
       "      <td>53</td>\n",
       "      <td>среднее</td>\n",
       "      <td>1</td>\n",
       "      <td>гражданский брак</td>\n",
       "      <td>1</td>\n",
       "      <td>F</td>\n",
       "      <td>пенсионер</td>\n",
       "      <td>0</td>\n",
       "      <td>158616.077870</td>\n",
       "      <td>сыграть свадьбу</td>\n",
       "    </tr>\n",
       "  </tbody>\n",
       "</table>\n",
       "</div>"
      ],
      "text/plain": [
       "   children  days_employed  dob_years education  education_id  \\\n",
       "0         1    8437.673028         42    высшее             0   \n",
       "1         1    4024.803754         36   среднее             1   \n",
       "2         0    5623.422610         33   Среднее             1   \n",
       "3         3    4124.747207         32   среднее             1   \n",
       "4         0  340266.072047         53   среднее             1   \n",
       "\n",
       "      family_status  family_status_id gender income_type  debt   total_income  \\\n",
       "0   женат / замужем                 0      F   сотрудник     0  253875.639453   \n",
       "1   женат / замужем                 0      F   сотрудник     0  112080.014102   \n",
       "2   женат / замужем                 0      M   сотрудник     0  145885.952297   \n",
       "3   женат / замужем                 0      M   сотрудник     0  267628.550329   \n",
       "4  гражданский брак                 1      F   пенсионер     0  158616.077870   \n",
       "\n",
       "                      purpose  \n",
       "0               покупка жилья  \n",
       "1     приобретение автомобиля  \n",
       "2               покупка жилья  \n",
       "3  дополнительное образование  \n",
       "4             сыграть свадьбу  "
      ]
     },
     "execution_count": 97,
     "metadata": {},
     "output_type": "execute_result"
    }
   ],
   "source": [
    "data['days_employed'] = data['days_employed'].abs()\n",
    "data.head()"
   ]
  },
  {
   "cell_type": "code",
   "execution_count": 98,
   "id": "6eae65a0",
   "metadata": {
    "deletable": false,
    "id": "85a5faf6",
    "outputId": "801ef80e-522b-4668-f34e-565af7432bcf"
   },
   "outputs": [
    {
     "data": {
      "text/plain": [
       "income_type\n",
       "безработный        366413.652744\n",
       "в декрете            3296.759962\n",
       "госслужащий          2689.368353\n",
       "компаньон            1547.382223\n",
       "пенсионер          365213.306266\n",
       "предприниматель       520.848083\n",
       "сотрудник            1574.202821\n",
       "студент               578.751554\n",
       "Name: days_employed, dtype: float64"
      ]
     },
     "execution_count": 98,
     "metadata": {},
     "output_type": "execute_result"
    }
   ],
   "source": [
    "data.groupby('income_type')['days_employed'].agg('median')"
   ]
  },
  {
   "cell_type": "markdown",
   "id": "65414b7c",
   "metadata": {},
   "source": [
    "Безработные и пенсионеры имеют аномально большие значения"
   ]
  },
  {
   "cell_type": "code",
   "execution_count": 99,
   "id": "62c6a008",
   "metadata": {
    "deletable": false,
    "id": "ef5056eb",
    "outputId": "6975b15c-7f95-4697-d16d-a0c79b657b03"
   },
   "outputs": [
    {
     "data": {
      "text/plain": [
       "array([ 1,  0,  3,  2, -1,  4, 20,  5], dtype=int64)"
      ]
     },
     "execution_count": 99,
     "metadata": {},
     "output_type": "execute_result"
    }
   ],
   "source": [
    "data['children'].unique()"
   ]
  },
  {
   "cell_type": "code",
   "execution_count": 100,
   "id": "bd508367",
   "metadata": {
    "deletable": false,
    "id": "3ff9801d"
   },
   "outputs": [],
   "source": [
    "data = data[(data['children'] != -1) & (data['children'] != 20)]"
   ]
  },
  {
   "cell_type": "markdown",
   "id": "19a1e9bc",
   "metadata": {},
   "source": [
    "Заменяю аномальные значения"
   ]
  },
  {
   "cell_type": "code",
   "execution_count": 101,
   "id": "3c401ef8",
   "metadata": {
    "deletable": false,
    "id": "ad4fa8b7",
    "outputId": "b2097101-d49d-44d9-901b-32a65c9463d1"
   },
   "outputs": [
    {
     "data": {
      "text/plain": [
       "array([1, 0, 3, 2, 4, 5], dtype=int64)"
      ]
     },
     "execution_count": 101,
     "metadata": {},
     "output_type": "execute_result"
    }
   ],
   "source": [
    "data['children'].unique()"
   ]
  },
  {
   "cell_type": "code",
   "execution_count": 102,
   "id": "37cf4bc1",
   "metadata": {
    "deletable": false,
    "id": "af6b1a7e"
   },
   "outputs": [],
   "source": [
    "for t in data['income_type'].unique():\n",
    "    data.loc[(data['income_type'] == t) & (data['days_employed'].isna()), 'days_employed'] = \\\n",
    "    data.loc[(data['income_type'] == t), 'days_employed'].median()"
   ]
  },
  {
   "cell_type": "code",
   "execution_count": 103,
   "id": "2a792359",
   "metadata": {
    "deletable": false,
    "id": "55f78bc2",
    "outputId": "8da1e4e1-358e-4e87-98c9-f261bce0a7b2"
   },
   "outputs": [
    {
     "data": {
      "text/plain": [
       "children            0\n",
       "days_employed       0\n",
       "dob_years           0\n",
       "education           0\n",
       "education_id        0\n",
       "family_status       0\n",
       "family_status_id    0\n",
       "gender              0\n",
       "income_type         0\n",
       "debt                0\n",
       "total_income        0\n",
       "purpose             0\n",
       "dtype: int64"
      ]
     },
     "execution_count": 103,
     "metadata": {},
     "output_type": "execute_result"
    }
   ],
   "source": [
    "data.isna().sum()"
   ]
  },
  {
   "cell_type": "markdown",
   "id": "a024206f",
   "metadata": {},
   "source": [
    "Значения `None` отсутсвуют"
   ]
  },
  {
   "cell_type": "markdown",
   "id": "f414fc23",
   "metadata": {
    "deletable": false,
    "editable": false,
    "id": "ddc81e43"
   },
   "source": [
    "### Изменение типов данных"
   ]
  },
  {
   "cell_type": "code",
   "execution_count": 104,
   "id": "5a695375",
   "metadata": {
    "deletable": false,
    "id": "920b65ad"
   },
   "outputs": [],
   "source": [
    "data['total_income'] = data['total_income'].astype(int)"
   ]
  },
  {
   "cell_type": "markdown",
   "id": "8ca121fa",
   "metadata": {
    "deletable": false,
    "editable": false,
    "id": "80c420ba"
   },
   "source": [
    "### Обработка дубликатов"
   ]
  },
  {
   "cell_type": "code",
   "execution_count": 105,
   "id": "5d4c4e45",
   "metadata": {
    "deletable": false
   },
   "outputs": [],
   "source": [
    "data['education'] = data['education'].str.lower()"
   ]
  },
  {
   "cell_type": "code",
   "execution_count": 106,
   "id": "ab077a44",
   "metadata": {
    "deletable": false,
    "id": "3ee445e4",
    "outputId": "9684deba-1934-42d1-99e1-cda61740f822"
   },
   "outputs": [
    {
     "data": {
      "text/plain": [
       "71"
      ]
     },
     "execution_count": 106,
     "metadata": {},
     "output_type": "execute_result"
    }
   ],
   "source": [
    "data.duplicated().sum()"
   ]
  },
  {
   "cell_type": "code",
   "execution_count": 107,
   "id": "50d6dc67",
   "metadata": {
    "deletable": false,
    "id": "8575fe05"
   },
   "outputs": [
    {
     "data": {
      "text/html": [
       "<div>\n",
       "<style scoped>\n",
       "    .dataframe tbody tr th:only-of-type {\n",
       "        vertical-align: middle;\n",
       "    }\n",
       "\n",
       "    .dataframe tbody tr th {\n",
       "        vertical-align: top;\n",
       "    }\n",
       "\n",
       "    .dataframe thead th {\n",
       "        text-align: right;\n",
       "    }\n",
       "</style>\n",
       "<table border=\"1\" class=\"dataframe\">\n",
       "  <thead>\n",
       "    <tr style=\"text-align: right;\">\n",
       "      <th></th>\n",
       "      <th>children</th>\n",
       "      <th>days_employed</th>\n",
       "      <th>dob_years</th>\n",
       "      <th>education</th>\n",
       "      <th>education_id</th>\n",
       "      <th>family_status</th>\n",
       "      <th>family_status_id</th>\n",
       "      <th>gender</th>\n",
       "      <th>income_type</th>\n",
       "      <th>debt</th>\n",
       "      <th>total_income</th>\n",
       "      <th>purpose</th>\n",
       "    </tr>\n",
       "  </thead>\n",
       "  <tbody>\n",
       "    <tr>\n",
       "      <th>0</th>\n",
       "      <td>1</td>\n",
       "      <td>8437.673028</td>\n",
       "      <td>42</td>\n",
       "      <td>высшее</td>\n",
       "      <td>0</td>\n",
       "      <td>женат / замужем</td>\n",
       "      <td>0</td>\n",
       "      <td>F</td>\n",
       "      <td>сотрудник</td>\n",
       "      <td>0</td>\n",
       "      <td>253875</td>\n",
       "      <td>покупка жилья</td>\n",
       "    </tr>\n",
       "    <tr>\n",
       "      <th>1</th>\n",
       "      <td>1</td>\n",
       "      <td>4024.803754</td>\n",
       "      <td>36</td>\n",
       "      <td>среднее</td>\n",
       "      <td>1</td>\n",
       "      <td>женат / замужем</td>\n",
       "      <td>0</td>\n",
       "      <td>F</td>\n",
       "      <td>сотрудник</td>\n",
       "      <td>0</td>\n",
       "      <td>112080</td>\n",
       "      <td>приобретение автомобиля</td>\n",
       "    </tr>\n",
       "    <tr>\n",
       "      <th>2</th>\n",
       "      <td>0</td>\n",
       "      <td>5623.422610</td>\n",
       "      <td>33</td>\n",
       "      <td>среднее</td>\n",
       "      <td>1</td>\n",
       "      <td>женат / замужем</td>\n",
       "      <td>0</td>\n",
       "      <td>M</td>\n",
       "      <td>сотрудник</td>\n",
       "      <td>0</td>\n",
       "      <td>145885</td>\n",
       "      <td>покупка жилья</td>\n",
       "    </tr>\n",
       "    <tr>\n",
       "      <th>3</th>\n",
       "      <td>3</td>\n",
       "      <td>4124.747207</td>\n",
       "      <td>32</td>\n",
       "      <td>среднее</td>\n",
       "      <td>1</td>\n",
       "      <td>женат / замужем</td>\n",
       "      <td>0</td>\n",
       "      <td>M</td>\n",
       "      <td>сотрудник</td>\n",
       "      <td>0</td>\n",
       "      <td>267628</td>\n",
       "      <td>дополнительное образование</td>\n",
       "    </tr>\n",
       "    <tr>\n",
       "      <th>4</th>\n",
       "      <td>0</td>\n",
       "      <td>340266.072047</td>\n",
       "      <td>53</td>\n",
       "      <td>среднее</td>\n",
       "      <td>1</td>\n",
       "      <td>гражданский брак</td>\n",
       "      <td>1</td>\n",
       "      <td>F</td>\n",
       "      <td>пенсионер</td>\n",
       "      <td>0</td>\n",
       "      <td>158616</td>\n",
       "      <td>сыграть свадьбу</td>\n",
       "    </tr>\n",
       "  </tbody>\n",
       "</table>\n",
       "</div>"
      ],
      "text/plain": [
       "   children  days_employed  dob_years education  education_id  \\\n",
       "0         1    8437.673028         42    высшее             0   \n",
       "1         1    4024.803754         36   среднее             1   \n",
       "2         0    5623.422610         33   среднее             1   \n",
       "3         3    4124.747207         32   среднее             1   \n",
       "4         0  340266.072047         53   среднее             1   \n",
       "\n",
       "      family_status  family_status_id gender income_type  debt  total_income  \\\n",
       "0   женат / замужем                 0      F   сотрудник     0        253875   \n",
       "1   женат / замужем                 0      F   сотрудник     0        112080   \n",
       "2   женат / замужем                 0      M   сотрудник     0        145885   \n",
       "3   женат / замужем                 0      M   сотрудник     0        267628   \n",
       "4  гражданский брак                 1      F   пенсионер     0        158616   \n",
       "\n",
       "                      purpose  \n",
       "0               покупка жилья  \n",
       "1     приобретение автомобиля  \n",
       "2               покупка жилья  \n",
       "3  дополнительное образование  \n",
       "4             сыграть свадьбу  "
      ]
     },
     "execution_count": 107,
     "metadata": {},
     "output_type": "execute_result"
    }
   ],
   "source": [
    "data = data.drop_duplicates()\n",
    "data.head()"
   ]
  },
  {
   "cell_type": "markdown",
   "id": "631a2031",
   "metadata": {
    "deletable": false,
    "editable": false,
    "id": "9904cf55"
   },
   "source": [
    "### Категоризация данных"
   ]
  },
  {
   "cell_type": "code",
   "execution_count": 108,
   "id": "4efd8ad5",
   "metadata": {
    "deletable": false,
    "id": "e1771346"
   },
   "outputs": [],
   "source": [
    "def categorize_income(income):\n",
    "    try:\n",
    "        if 0 <= income <= 30000:\n",
    "            return 'E'\n",
    "        elif 30001 <= income <= 50000:\n",
    "            return 'D'\n",
    "        elif 50001 <= income <= 200000:\n",
    "            return 'C'\n",
    "        elif 200001 <= income <= 1000000:\n",
    "            return 'B'\n",
    "        elif income >= 1000001:\n",
    "            return 'A'\n",
    "    except:\n",
    "        pass"
   ]
  },
  {
   "cell_type": "code",
   "execution_count": 109,
   "id": "ce35803a",
   "metadata": {
    "deletable": false,
    "id": "d5f3586d"
   },
   "outputs": [
    {
     "data": {
      "text/html": [
       "<div>\n",
       "<style scoped>\n",
       "    .dataframe tbody tr th:only-of-type {\n",
       "        vertical-align: middle;\n",
       "    }\n",
       "\n",
       "    .dataframe tbody tr th {\n",
       "        vertical-align: top;\n",
       "    }\n",
       "\n",
       "    .dataframe thead th {\n",
       "        text-align: right;\n",
       "    }\n",
       "</style>\n",
       "<table border=\"1\" class=\"dataframe\">\n",
       "  <thead>\n",
       "    <tr style=\"text-align: right;\">\n",
       "      <th></th>\n",
       "      <th>children</th>\n",
       "      <th>days_employed</th>\n",
       "      <th>dob_years</th>\n",
       "      <th>education</th>\n",
       "      <th>education_id</th>\n",
       "      <th>family_status</th>\n",
       "      <th>family_status_id</th>\n",
       "      <th>gender</th>\n",
       "      <th>income_type</th>\n",
       "      <th>debt</th>\n",
       "      <th>total_income</th>\n",
       "      <th>purpose</th>\n",
       "      <th>total_income_category</th>\n",
       "    </tr>\n",
       "  </thead>\n",
       "  <tbody>\n",
       "    <tr>\n",
       "      <th>0</th>\n",
       "      <td>1</td>\n",
       "      <td>8437.673028</td>\n",
       "      <td>42</td>\n",
       "      <td>высшее</td>\n",
       "      <td>0</td>\n",
       "      <td>женат / замужем</td>\n",
       "      <td>0</td>\n",
       "      <td>F</td>\n",
       "      <td>сотрудник</td>\n",
       "      <td>0</td>\n",
       "      <td>253875</td>\n",
       "      <td>покупка жилья</td>\n",
       "      <td>B</td>\n",
       "    </tr>\n",
       "    <tr>\n",
       "      <th>1</th>\n",
       "      <td>1</td>\n",
       "      <td>4024.803754</td>\n",
       "      <td>36</td>\n",
       "      <td>среднее</td>\n",
       "      <td>1</td>\n",
       "      <td>женат / замужем</td>\n",
       "      <td>0</td>\n",
       "      <td>F</td>\n",
       "      <td>сотрудник</td>\n",
       "      <td>0</td>\n",
       "      <td>112080</td>\n",
       "      <td>приобретение автомобиля</td>\n",
       "      <td>C</td>\n",
       "    </tr>\n",
       "    <tr>\n",
       "      <th>2</th>\n",
       "      <td>0</td>\n",
       "      <td>5623.422610</td>\n",
       "      <td>33</td>\n",
       "      <td>среднее</td>\n",
       "      <td>1</td>\n",
       "      <td>женат / замужем</td>\n",
       "      <td>0</td>\n",
       "      <td>M</td>\n",
       "      <td>сотрудник</td>\n",
       "      <td>0</td>\n",
       "      <td>145885</td>\n",
       "      <td>покупка жилья</td>\n",
       "      <td>C</td>\n",
       "    </tr>\n",
       "    <tr>\n",
       "      <th>3</th>\n",
       "      <td>3</td>\n",
       "      <td>4124.747207</td>\n",
       "      <td>32</td>\n",
       "      <td>среднее</td>\n",
       "      <td>1</td>\n",
       "      <td>женат / замужем</td>\n",
       "      <td>0</td>\n",
       "      <td>M</td>\n",
       "      <td>сотрудник</td>\n",
       "      <td>0</td>\n",
       "      <td>267628</td>\n",
       "      <td>дополнительное образование</td>\n",
       "      <td>B</td>\n",
       "    </tr>\n",
       "    <tr>\n",
       "      <th>4</th>\n",
       "      <td>0</td>\n",
       "      <td>340266.072047</td>\n",
       "      <td>53</td>\n",
       "      <td>среднее</td>\n",
       "      <td>1</td>\n",
       "      <td>гражданский брак</td>\n",
       "      <td>1</td>\n",
       "      <td>F</td>\n",
       "      <td>пенсионер</td>\n",
       "      <td>0</td>\n",
       "      <td>158616</td>\n",
       "      <td>сыграть свадьбу</td>\n",
       "      <td>C</td>\n",
       "    </tr>\n",
       "  </tbody>\n",
       "</table>\n",
       "</div>"
      ],
      "text/plain": [
       "   children  days_employed  dob_years education  education_id  \\\n",
       "0         1    8437.673028         42    высшее             0   \n",
       "1         1    4024.803754         36   среднее             1   \n",
       "2         0    5623.422610         33   среднее             1   \n",
       "3         3    4124.747207         32   среднее             1   \n",
       "4         0  340266.072047         53   среднее             1   \n",
       "\n",
       "      family_status  family_status_id gender income_type  debt  total_income  \\\n",
       "0   женат / замужем                 0      F   сотрудник     0        253875   \n",
       "1   женат / замужем                 0      F   сотрудник     0        112080   \n",
       "2   женат / замужем                 0      M   сотрудник     0        145885   \n",
       "3   женат / замужем                 0      M   сотрудник     0        267628   \n",
       "4  гражданский брак                 1      F   пенсионер     0        158616   \n",
       "\n",
       "                      purpose total_income_category  \n",
       "0               покупка жилья                     B  \n",
       "1     приобретение автомобиля                     C  \n",
       "2               покупка жилья                     C  \n",
       "3  дополнительное образование                     B  \n",
       "4             сыграть свадьбу                     C  "
      ]
     },
     "execution_count": 109,
     "metadata": {},
     "output_type": "execute_result"
    }
   ],
   "source": [
    "data['total_income_category'] = data['total_income'].apply(categorize_income)\n",
    "data.head()"
   ]
  },
  {
   "cell_type": "code",
   "execution_count": 110,
   "id": "6d1a9435",
   "metadata": {
    "deletable": false,
    "id": "f67ce9b3",
    "outputId": "673c12d9-7d7e-4ae0-9812-c622c89dd244"
   },
   "outputs": [
    {
     "data": {
      "text/plain": [
       "array(['покупка жилья', 'приобретение автомобиля',\n",
       "       'дополнительное образование', 'сыграть свадьбу',\n",
       "       'операции с жильем', 'образование', 'на проведение свадьбы',\n",
       "       'покупка жилья для семьи', 'покупка недвижимости',\n",
       "       'покупка коммерческой недвижимости', 'покупка жилой недвижимости',\n",
       "       'строительство собственной недвижимости', 'недвижимость',\n",
       "       'строительство недвижимости', 'на покупку подержанного автомобиля',\n",
       "       'на покупку своего автомобиля',\n",
       "       'операции с коммерческой недвижимостью',\n",
       "       'строительство жилой недвижимости', 'жилье',\n",
       "       'операции со своей недвижимостью', 'автомобили',\n",
       "       'заняться образованием', 'сделка с подержанным автомобилем',\n",
       "       'получение образования', 'автомобиль', 'свадьба',\n",
       "       'получение дополнительного образования', 'покупка своего жилья',\n",
       "       'операции с недвижимостью', 'получение высшего образования',\n",
       "       'свой автомобиль', 'сделка с автомобилем',\n",
       "       'профильное образование', 'высшее образование',\n",
       "       'покупка жилья для сдачи', 'на покупку автомобиля', 'ремонт жилью',\n",
       "       'заняться высшим образованием'], dtype=object)"
      ]
     },
     "execution_count": 110,
     "metadata": {},
     "output_type": "execute_result"
    }
   ],
   "source": [
    "data['purpose'].unique()"
   ]
  },
  {
   "cell_type": "markdown",
   "id": "e9ce694a",
   "metadata": {},
   "source": [
    "Создаю функцию которая на основании данных из столбца `'purpose'`, создаст новый столбец `'purpose category'` в котором будут следующие категории:\n",
    "- `'операции с автомобилем'`,\n",
    "- `'операции с недвижимостью'`,\n",
    "- `'проведение свадьбы'`,\n",
    "- `'получение образования'`."
   ]
  },
  {
   "cell_type": "code",
   "execution_count": 111,
   "id": "95a480a6",
   "metadata": {
    "deletable": false,
    "id": "e149fab4"
   },
   "outputs": [],
   "source": [
    "def categorize_purpose(row):\n",
    "    try:\n",
    "        if 'автом' in row:\n",
    "            return 'операции с автомобилем'\n",
    "        elif 'жил' in row or 'недвиж' in row:\n",
    "            return 'операции с недвижимостью'\n",
    "        elif 'свад' in row:\n",
    "            return 'проведение свадьбы'\n",
    "        elif 'образов' in row:\n",
    "            return 'получение образования'\n",
    "    except:\n",
    "        return 'нет категории'"
   ]
  },
  {
   "cell_type": "code",
   "execution_count": 112,
   "id": "62f3518d",
   "metadata": {
    "deletable": false,
    "id": "bf36e69b"
   },
   "outputs": [
    {
     "data": {
      "text/html": [
       "<div>\n",
       "<style scoped>\n",
       "    .dataframe tbody tr th:only-of-type {\n",
       "        vertical-align: middle;\n",
       "    }\n",
       "\n",
       "    .dataframe tbody tr th {\n",
       "        vertical-align: top;\n",
       "    }\n",
       "\n",
       "    .dataframe thead th {\n",
       "        text-align: right;\n",
       "    }\n",
       "</style>\n",
       "<table border=\"1\" class=\"dataframe\">\n",
       "  <thead>\n",
       "    <tr style=\"text-align: right;\">\n",
       "      <th></th>\n",
       "      <th>children</th>\n",
       "      <th>days_employed</th>\n",
       "      <th>dob_years</th>\n",
       "      <th>education</th>\n",
       "      <th>education_id</th>\n",
       "      <th>family_status</th>\n",
       "      <th>family_status_id</th>\n",
       "      <th>gender</th>\n",
       "      <th>income_type</th>\n",
       "      <th>debt</th>\n",
       "      <th>total_income</th>\n",
       "      <th>purpose</th>\n",
       "      <th>total_income_category</th>\n",
       "      <th>purpose_category</th>\n",
       "    </tr>\n",
       "  </thead>\n",
       "  <tbody>\n",
       "    <tr>\n",
       "      <th>0</th>\n",
       "      <td>1</td>\n",
       "      <td>8437.673028</td>\n",
       "      <td>42</td>\n",
       "      <td>высшее</td>\n",
       "      <td>0</td>\n",
       "      <td>женат / замужем</td>\n",
       "      <td>0</td>\n",
       "      <td>F</td>\n",
       "      <td>сотрудник</td>\n",
       "      <td>0</td>\n",
       "      <td>253875</td>\n",
       "      <td>покупка жилья</td>\n",
       "      <td>B</td>\n",
       "      <td>операции с недвижимостью</td>\n",
       "    </tr>\n",
       "    <tr>\n",
       "      <th>1</th>\n",
       "      <td>1</td>\n",
       "      <td>4024.803754</td>\n",
       "      <td>36</td>\n",
       "      <td>среднее</td>\n",
       "      <td>1</td>\n",
       "      <td>женат / замужем</td>\n",
       "      <td>0</td>\n",
       "      <td>F</td>\n",
       "      <td>сотрудник</td>\n",
       "      <td>0</td>\n",
       "      <td>112080</td>\n",
       "      <td>приобретение автомобиля</td>\n",
       "      <td>C</td>\n",
       "      <td>операции с автомобилем</td>\n",
       "    </tr>\n",
       "    <tr>\n",
       "      <th>2</th>\n",
       "      <td>0</td>\n",
       "      <td>5623.422610</td>\n",
       "      <td>33</td>\n",
       "      <td>среднее</td>\n",
       "      <td>1</td>\n",
       "      <td>женат / замужем</td>\n",
       "      <td>0</td>\n",
       "      <td>M</td>\n",
       "      <td>сотрудник</td>\n",
       "      <td>0</td>\n",
       "      <td>145885</td>\n",
       "      <td>покупка жилья</td>\n",
       "      <td>C</td>\n",
       "      <td>операции с недвижимостью</td>\n",
       "    </tr>\n",
       "    <tr>\n",
       "      <th>3</th>\n",
       "      <td>3</td>\n",
       "      <td>4124.747207</td>\n",
       "      <td>32</td>\n",
       "      <td>среднее</td>\n",
       "      <td>1</td>\n",
       "      <td>женат / замужем</td>\n",
       "      <td>0</td>\n",
       "      <td>M</td>\n",
       "      <td>сотрудник</td>\n",
       "      <td>0</td>\n",
       "      <td>267628</td>\n",
       "      <td>дополнительное образование</td>\n",
       "      <td>B</td>\n",
       "      <td>получение образования</td>\n",
       "    </tr>\n",
       "    <tr>\n",
       "      <th>4</th>\n",
       "      <td>0</td>\n",
       "      <td>340266.072047</td>\n",
       "      <td>53</td>\n",
       "      <td>среднее</td>\n",
       "      <td>1</td>\n",
       "      <td>гражданский брак</td>\n",
       "      <td>1</td>\n",
       "      <td>F</td>\n",
       "      <td>пенсионер</td>\n",
       "      <td>0</td>\n",
       "      <td>158616</td>\n",
       "      <td>сыграть свадьбу</td>\n",
       "      <td>C</td>\n",
       "      <td>проведение свадьбы</td>\n",
       "    </tr>\n",
       "  </tbody>\n",
       "</table>\n",
       "</div>"
      ],
      "text/plain": [
       "   children  days_employed  dob_years education  education_id  \\\n",
       "0         1    8437.673028         42    высшее             0   \n",
       "1         1    4024.803754         36   среднее             1   \n",
       "2         0    5623.422610         33   среднее             1   \n",
       "3         3    4124.747207         32   среднее             1   \n",
       "4         0  340266.072047         53   среднее             1   \n",
       "\n",
       "      family_status  family_status_id gender income_type  debt  total_income  \\\n",
       "0   женат / замужем                 0      F   сотрудник     0        253875   \n",
       "1   женат / замужем                 0      F   сотрудник     0        112080   \n",
       "2   женат / замужем                 0      M   сотрудник     0        145885   \n",
       "3   женат / замужем                 0      M   сотрудник     0        267628   \n",
       "4  гражданский брак                 1      F   пенсионер     0        158616   \n",
       "\n",
       "                      purpose total_income_category          purpose_category  \n",
       "0               покупка жилья                     B  операции с недвижимостью  \n",
       "1     приобретение автомобиля                     C    операции с автомобилем  \n",
       "2               покупка жилья                     C  операции с недвижимостью  \n",
       "3  дополнительное образование                     B     получение образования  \n",
       "4             сыграть свадьбу                     C        проведение свадьбы  "
      ]
     },
     "execution_count": 112,
     "metadata": {},
     "output_type": "execute_result"
    }
   ],
   "source": [
    "data['purpose_category'] = data['purpose'].apply(categorize_purpose)\n",
    "data.head()"
   ]
  },
  {
   "cell_type": "markdown",
   "id": "8a44893a",
   "metadata": {
    "deletable": false,
    "editable": false,
    "id": "09b242bf"
   },
   "source": [
    "### Шаг 3. Исследование данных"
   ]
  },
  {
   "cell_type": "markdown",
   "id": "3cafc8ef",
   "metadata": {
    "deletable": false,
    "editable": false,
    "id": "c5d66278"
   },
   "source": [
    "#### 3.1 Есть ли зависимость между количеством детей и возвратом кредита в срок?"
   ]
  },
  {
   "cell_type": "code",
   "execution_count": 113,
   "id": "5f82c519",
   "metadata": {},
   "outputs": [],
   "source": [
    "import matplotlib.pyplot as plt\n",
    "import seaborn as sns\n",
    "\n",
    "sns.set_theme(style='darkgrid', palette='pastel')\n",
    "plt.rcParams['figure.figsize'] = 14,7\n",
    "\n",
    "def pivot(data, index):\n",
    "\n",
    "    pivot = data.pivot_table(index = index, values = 'debt', aggfunc = ['count', 'sum', 'mean']).reset_index()\n",
    "    pivot.columns = [index, 'Кол-во клиентов', 'Кол-во должников', 'Доля невозврата']\n",
    "    pivot['Доля невозврата'] = round(pivot['Доля невозврата'], 4)\n",
    "    display(pivot.sort_values('Доля невозврата', ascending = False))\n",
    "\n",
    "    fig = sns.barplot(pivot, x=index, y='Доля невозврата')\n",
    "    plt.title('Доля невозврата в зависимости от кол-ва детей')\n",
    "    plt.xlabel('Кол-во детей')\n",
    "    plt.show()"
   ]
  },
  {
   "cell_type": "code",
   "execution_count": 114,
   "id": "ff9000df",
   "metadata": {
    "deletable": false,
    "id": "2cacfc4a"
   },
   "outputs": [
    {
     "data": {
      "text/html": [
       "<div>\n",
       "<style scoped>\n",
       "    .dataframe tbody tr th:only-of-type {\n",
       "        vertical-align: middle;\n",
       "    }\n",
       "\n",
       "    .dataframe tbody tr th {\n",
       "        vertical-align: top;\n",
       "    }\n",
       "\n",
       "    .dataframe thead th {\n",
       "        text-align: right;\n",
       "    }\n",
       "</style>\n",
       "<table border=\"1\" class=\"dataframe\">\n",
       "  <thead>\n",
       "    <tr style=\"text-align: right;\">\n",
       "      <th></th>\n",
       "      <th>children</th>\n",
       "      <th>Кол-во клиентов</th>\n",
       "      <th>Кол-во должников</th>\n",
       "      <th>Доля невозврата</th>\n",
       "    </tr>\n",
       "  </thead>\n",
       "  <tbody>\n",
       "    <tr>\n",
       "      <th>4</th>\n",
       "      <td>4</td>\n",
       "      <td>41</td>\n",
       "      <td>4</td>\n",
       "      <td>0.0976</td>\n",
       "    </tr>\n",
       "    <tr>\n",
       "      <th>2</th>\n",
       "      <td>2</td>\n",
       "      <td>2052</td>\n",
       "      <td>194</td>\n",
       "      <td>0.0945</td>\n",
       "    </tr>\n",
       "    <tr>\n",
       "      <th>1</th>\n",
       "      <td>1</td>\n",
       "      <td>4808</td>\n",
       "      <td>444</td>\n",
       "      <td>0.0923</td>\n",
       "    </tr>\n",
       "    <tr>\n",
       "      <th>3</th>\n",
       "      <td>3</td>\n",
       "      <td>330</td>\n",
       "      <td>27</td>\n",
       "      <td>0.0818</td>\n",
       "    </tr>\n",
       "    <tr>\n",
       "      <th>0</th>\n",
       "      <td>0</td>\n",
       "      <td>14091</td>\n",
       "      <td>1063</td>\n",
       "      <td>0.0754</td>\n",
       "    </tr>\n",
       "    <tr>\n",
       "      <th>5</th>\n",
       "      <td>5</td>\n",
       "      <td>9</td>\n",
       "      <td>0</td>\n",
       "      <td>0.0000</td>\n",
       "    </tr>\n",
       "  </tbody>\n",
       "</table>\n",
       "</div>"
      ],
      "text/plain": [
       "   children  Кол-во клиентов  Кол-во должников  Доля невозврата\n",
       "4         4               41                 4           0.0976\n",
       "2         2             2052               194           0.0945\n",
       "1         1             4808               444           0.0923\n",
       "3         3              330                27           0.0818\n",
       "0         0            14091              1063           0.0754\n",
       "5         5                9                 0           0.0000"
      ]
     },
     "metadata": {},
     "output_type": "display_data"
    },
    {
     "data": {
      "image/png": "[encoded data removed]",
      "text/plain": [
       "<Figure size 1400x700 with 1 Axes>"
      ]
     },
     "metadata": {},
     "output_type": "display_data"
    }
   ],
   "source": [
    "#датафрейм с количеством детей и информмации о задолжностях кредита\n",
    "pivot(data, 'children')"
   ]
  },
  {
   "cell_type": "markdown",
   "id": "6902f7a9",
   "metadata": {
    "deletable": false,
    "id": "3a6b99ec"
   },
   "source": [
    "**Вывод:** \n",
    "Как видно в таблице лли без детей имеют меньший процент невозврата кредита. Для многодетных мало информации для корректного вывода"
   ]
  },
  {
   "cell_type": "markdown",
   "id": "c4919bab",
   "metadata": {
    "deletable": false,
    "editable": false,
    "id": "97be82ca"
   },
   "source": [
    "#### 3.2 Есть ли зависимость между семейным положением и возвратом кредита в срок?"
   ]
  },
  {
   "cell_type": "code",
   "execution_count": 115,
   "id": "4f9823ba",
   "metadata": {
    "deletable": false,
    "id": "dc3f7ee8"
   },
   "outputs": [
    {
     "data": {
      "text/html": [
       "<div>\n",
       "<style scoped>\n",
       "    .dataframe tbody tr th:only-of-type {\n",
       "        vertical-align: middle;\n",
       "    }\n",
       "\n",
       "    .dataframe tbody tr th {\n",
       "        vertical-align: top;\n",
       "    }\n",
       "\n",
       "    .dataframe thead th {\n",
       "        text-align: right;\n",
       "    }\n",
       "</style>\n",
       "<table border=\"1\" class=\"dataframe\">\n",
       "  <thead>\n",
       "    <tr style=\"text-align: right;\">\n",
       "      <th></th>\n",
       "      <th>family_status</th>\n",
       "      <th>Кол-во клиентов</th>\n",
       "      <th>Кол-во должников</th>\n",
       "      <th>Доля невозврата</th>\n",
       "    </tr>\n",
       "  </thead>\n",
       "  <tbody>\n",
       "    <tr>\n",
       "      <th>0</th>\n",
       "      <td>Не женат / не замужем</td>\n",
       "      <td>2796</td>\n",
       "      <td>273</td>\n",
       "      <td>0.0976</td>\n",
       "    </tr>\n",
       "    <tr>\n",
       "      <th>3</th>\n",
       "      <td>гражданский брак</td>\n",
       "      <td>4134</td>\n",
       "      <td>385</td>\n",
       "      <td>0.0931</td>\n",
       "    </tr>\n",
       "    <tr>\n",
       "      <th>4</th>\n",
       "      <td>женат / замужем</td>\n",
       "      <td>12261</td>\n",
       "      <td>927</td>\n",
       "      <td>0.0756</td>\n",
       "    </tr>\n",
       "    <tr>\n",
       "      <th>1</th>\n",
       "      <td>в разводе</td>\n",
       "      <td>1189</td>\n",
       "      <td>84</td>\n",
       "      <td>0.0706</td>\n",
       "    </tr>\n",
       "    <tr>\n",
       "      <th>2</th>\n",
       "      <td>вдовец / вдова</td>\n",
       "      <td>951</td>\n",
       "      <td>63</td>\n",
       "      <td>0.0662</td>\n",
       "    </tr>\n",
       "  </tbody>\n",
       "</table>\n",
       "</div>"
      ],
      "text/plain": [
       "           family_status  Кол-во клиентов  Кол-во должников  Доля невозврата\n",
       "0  Не женат / не замужем             2796               273           0.0976\n",
       "3       гражданский брак             4134               385           0.0931\n",
       "4        женат / замужем            12261               927           0.0756\n",
       "1              в разводе             1189                84           0.0706\n",
       "2         вдовец / вдова              951                63           0.0662"
      ]
     },
     "metadata": {},
     "output_type": "display_data"
    },
    {
     "data": {
      "image/png": "[encoded data removed]",
      "text/plain": [
       "<Figure size 1400x700 with 1 Axes>"
      ]
     },
     "metadata": {},
     "output_type": "display_data"
    }
   ],
   "source": [
    "#датафрейм с семейным положением и информации о задолженности\n",
    "pivot(data, 'family_status')"
   ]
  },
  {
   "cell_type": "markdown",
   "id": "3eee7526",
   "metadata": {
    "deletable": false,
    "id": "1cef7837"
   },
   "source": [
    "**Вывод:** \n",
    "По результатам, я могу сделать вывод, что человек который, состоял или сейчас состоит в официальном браке добросовестнее возвращает кредиты"
   ]
  },
  {
   "cell_type": "markdown",
   "id": "885cc6d9",
   "metadata": {
    "deletable": false,
    "editable": false,
    "id": "1e8b2fca"
   },
   "source": [
    "#### 3.3 Есть ли зависимость между уровнем дохода и возвратом кредита в срок?"
   ]
  },
  {
   "cell_type": "code",
   "execution_count": 116,
   "id": "a179a32e",
   "metadata": {
    "deletable": false,
    "id": "cd7e3720"
   },
   "outputs": [
    {
     "data": {
      "text/html": [
       "<div>\n",
       "<style scoped>\n",
       "    .dataframe tbody tr th:only-of-type {\n",
       "        vertical-align: middle;\n",
       "    }\n",
       "\n",
       "    .dataframe tbody tr th {\n",
       "        vertical-align: top;\n",
       "    }\n",
       "\n",
       "    .dataframe thead th {\n",
       "        text-align: right;\n",
       "    }\n",
       "</style>\n",
       "<table border=\"1\" class=\"dataframe\">\n",
       "  <thead>\n",
       "    <tr style=\"text-align: right;\">\n",
       "      <th></th>\n",
       "      <th>total_income_category</th>\n",
       "      <th>Кол-во клиентов</th>\n",
       "      <th>Кол-во должников</th>\n",
       "      <th>Доля невозврата</th>\n",
       "    </tr>\n",
       "  </thead>\n",
       "  <tbody>\n",
       "    <tr>\n",
       "      <th>4</th>\n",
       "      <td>E</td>\n",
       "      <td>22</td>\n",
       "      <td>2</td>\n",
       "      <td>0.0909</td>\n",
       "    </tr>\n",
       "    <tr>\n",
       "      <th>2</th>\n",
       "      <td>C</td>\n",
       "      <td>15921</td>\n",
       "      <td>1353</td>\n",
       "      <td>0.0850</td>\n",
       "    </tr>\n",
       "    <tr>\n",
       "      <th>0</th>\n",
       "      <td>A</td>\n",
       "      <td>25</td>\n",
       "      <td>2</td>\n",
       "      <td>0.0800</td>\n",
       "    </tr>\n",
       "    <tr>\n",
       "      <th>1</th>\n",
       "      <td>B</td>\n",
       "      <td>5014</td>\n",
       "      <td>354</td>\n",
       "      <td>0.0706</td>\n",
       "    </tr>\n",
       "    <tr>\n",
       "      <th>3</th>\n",
       "      <td>D</td>\n",
       "      <td>349</td>\n",
       "      <td>21</td>\n",
       "      <td>0.0602</td>\n",
       "    </tr>\n",
       "  </tbody>\n",
       "</table>\n",
       "</div>"
      ],
      "text/plain": [
       "  total_income_category  Кол-во клиентов  Кол-во должников  Доля невозврата\n",
       "4                     E               22                 2           0.0909\n",
       "2                     C            15921              1353           0.0850\n",
       "0                     A               25                 2           0.0800\n",
       "1                     B             5014               354           0.0706\n",
       "3                     D              349                21           0.0602"
      ]
     },
     "metadata": {},
     "output_type": "display_data"
    },
    {
     "data": {
      "image/png": "[encoded data removed]",
      "text/plain": [
       "<Figure size 1400x700 with 1 Axes>"
      ]
     },
     "metadata": {},
     "output_type": "display_data"
    }
   ],
   "source": [
    "#датафрейм с уровнем дохода и инофрмацией о возврате кредита в срок\n",
    "pivot(data, 'total_income_category')"
   ]
  },
  {
   "cell_type": "markdown",
   "id": "8b6851cc",
   "metadata": {
    "deletable": false,
    "id": "e8593def"
   },
   "source": [
    "**Вывод:** \n",
    "Достаточное количество людей только в категориях B и C. Судя по этим двум столбцам люди с высшим доходам имеют выше процент возврата кредита в срок"
   ]
  },
  {
   "cell_type": "markdown",
   "id": "fec6e098",
   "metadata": {
    "deletable": false,
    "editable": false,
    "id": "99ecbd1f"
   },
   "source": [
    "#### 3.4 Как разные цели кредита влияют на его возврат в срок?"
   ]
  },
  {
   "cell_type": "code",
   "execution_count": 117,
   "id": "bc4cc9af",
   "metadata": {
    "deletable": false,
    "id": "2b687290"
   },
   "outputs": [
    {
     "data": {
      "text/html": [
       "<div>\n",
       "<style scoped>\n",
       "    .dataframe tbody tr th:only-of-type {\n",
       "        vertical-align: middle;\n",
       "    }\n",
       "\n",
       "    .dataframe tbody tr th {\n",
       "        vertical-align: top;\n",
       "    }\n",
       "\n",
       "    .dataframe thead th {\n",
       "        text-align: right;\n",
       "    }\n",
       "</style>\n",
       "<table border=\"1\" class=\"dataframe\">\n",
       "  <thead>\n",
       "    <tr style=\"text-align: right;\">\n",
       "      <th></th>\n",
       "      <th>purpose_category</th>\n",
       "      <th>Кол-во клиентов</th>\n",
       "      <th>Кол-во должников</th>\n",
       "      <th>Доля невозврата</th>\n",
       "    </tr>\n",
       "  </thead>\n",
       "  <tbody>\n",
       "    <tr>\n",
       "      <th>0</th>\n",
       "      <td>операции с автомобилем</td>\n",
       "      <td>4279</td>\n",
       "      <td>400</td>\n",
       "      <td>0.0935</td>\n",
       "    </tr>\n",
       "    <tr>\n",
       "      <th>2</th>\n",
       "      <td>получение образования</td>\n",
       "      <td>3988</td>\n",
       "      <td>369</td>\n",
       "      <td>0.0925</td>\n",
       "    </tr>\n",
       "    <tr>\n",
       "      <th>3</th>\n",
       "      <td>проведение свадьбы</td>\n",
       "      <td>2313</td>\n",
       "      <td>183</td>\n",
       "      <td>0.0791</td>\n",
       "    </tr>\n",
       "    <tr>\n",
       "      <th>1</th>\n",
       "      <td>операции с недвижимостью</td>\n",
       "      <td>10751</td>\n",
       "      <td>780</td>\n",
       "      <td>0.0726</td>\n",
       "    </tr>\n",
       "  </tbody>\n",
       "</table>\n",
       "</div>"
      ],
      "text/plain": [
       "           purpose_category  Кол-во клиентов  Кол-во должников  \\\n",
       "0    операции с автомобилем             4279               400   \n",
       "2     получение образования             3988               369   \n",
       "3        проведение свадьбы             2313               183   \n",
       "1  операции с недвижимостью            10751               780   \n",
       "\n",
       "   Доля невозврата  \n",
       "0           0.0935  \n",
       "2           0.0925  \n",
       "3           0.0791  \n",
       "1           0.0726  "
      ]
     },
     "metadata": {},
     "output_type": "display_data"
    },
    {
     "data": {
      "image/png": "[encoded data removed]",
      "text/plain": [
       "<Figure size 1400x700 with 1 Axes>"
      ]
     },
     "metadata": {},
     "output_type": "display_data"
    }
   ],
   "source": [
    "pivot(data, 'purpose_category')"
   ]
  },
  {
   "cell_type": "markdown",
   "id": "3ffbb79f",
   "metadata": {
    "deletable": false,
    "id": "b4bb2ce6"
   },
   "source": [
    "**Вывод:** \n",
    "Наименьший процент невозврата кредита в срок у людей кто брал кредит на \"операции с недвижимостью\", так же маленький процент не возврата у кредитов на \"проведение свадьбы\". Сильное увеличение наблюдается в кредитах на \"операции с автомобилем\" и \"получение образования\""
   ]
  },
  {
   "cell_type": "markdown",
   "id": "b237599a",
   "metadata": {
    "deletable": false,
    "editable": false,
    "id": "09c3ac4c"
   },
   "source": [
    "#### 3.5 Приведите возможные причины появления пропусков в исходных данных."
   ]
  },
  {
   "cell_type": "markdown",
   "id": "1ccdead0",
   "metadata": {
    "deletable": false,
    "id": "9da2ceda"
   },
   "source": [
    "*Ответ:* \n",
    "В моем понимании причин может быть множество, но из основых могу выделить:\n",
    "1) Человеческий фактор - всем людям присуще ошибаться\n",
    "2) Возможны сбои в системе, из-за которых возможна некорректная обработка информации и как следствие пропуски"
   ]
  },
  {
   "cell_type": "markdown",
   "id": "98ecc266",
   "metadata": {
    "deletable": false,
    "editable": false,
    "id": "7b0487d6"
   },
   "source": [
    "#### 3.6 Объясните, почему заполнить пропуски медианным значением — лучшее решение для количественных переменных."
   ]
  },
  {
   "cell_type": "markdown",
   "id": "b92f51c5",
   "metadata": {
    "deletable": false,
    "id": "7ecf2b8e"
   },
   "source": [
    "*Ответ:* \n",
    "Потому что медианное значение уменьшает влияние аномальных значений на данные таблицы"
   ]
  },
  {
   "cell_type": "markdown",
   "id": "da3c0a1b",
   "metadata": {
    "deletable": false,
    "editable": false,
    "id": "6db5255a"
   },
   "source": [
    "### Шаг 4: общий вывод."
   ]
  },
  {
   "cell_type": "markdown",
   "id": "bfc451a6",
   "metadata": {
    "deletable": false,
    "id": "bad65432"
   },
   "source": [
    "***В ходе исследовательских работ по поиск зависимости влияния показателей на невозврат кредитов были произведены следующие действия:***\n",
    "\n",
    "1) Проведена обработка данных\n",
    "\n",
    "2) Исправленны пропуски данных в столбцах \"total_income\"(данные о доходах) и \"days_employed\"(количчество дней трудового стажа), пропуски заменены медианными значениями по категориям\n",
    "\n",
    "3) Создано два новых стобца \"total_income_category\"(доходы людей разделены на доп категории) и \"purpose_category\"(все предыдущие причины получения кредита разделены на 4 основные категории)\n",
    "\n",
    "4) Созданы таблицы для визуализации показателей их влияния на невозврат кредита\n",
    "\n",
    "***Признаки клиента с высоким уровнем риска***\n",
    "\n",
    "-Люди не состоящие в официальном браке\n",
    "\n",
    "-Люди берущие кредиты на операции с автомобилем и на получение образования\n",
    "\n",
    "*-Люди с меньшей категорией доходов (однако данных о категориях A, D и E не достаточно что бы делать корректные выводы)*\n",
    "\n",
    "***Признаки \"Идеального клиента\"***\n",
    "\n",
    "-Люди состоящие или состоявшие в официальном браке\n",
    "\n",
    "-Люди не имеющие детей\n",
    "\n",
    "-Люди берущие кредит на операции с недвижимостью\n",
    "\n",
    "-Люди с категорией доходов B (объяснение указано выше *курсивом*)\n",
    "\n",
    "***Рекомендации:*** \n",
    "Проверять данные на наличие пропусков и аномальных значений"
   ]
  }
 ],
 "metadata": {
  "ExecuteTimeLog": [
   {
    "duration": 59,
    "start_time": "2023-02-25T15:53:59.315Z"
   },
   {
    "duration": 473,
    "start_time": "2023-02-25T15:54:13.366Z"
   },
   {
    "duration": 22,
    "start_time": "2023-02-25T15:54:13.841Z"
   },
   {
    "duration": 14,
    "start_time": "2023-02-25T15:54:13.865Z"
   },
   {
    "duration": 11,
    "start_time": "2023-02-25T15:54:13.881Z"
   },
   {
    "duration": 60,
    "start_time": "2023-02-25T15:54:13.893Z"
   },
   {
    "duration": 4,
    "start_time": "2023-02-25T15:54:13.954Z"
   },
   {
    "duration": 14,
    "start_time": "2023-02-25T15:54:13.959Z"
   },
   {
    "duration": 5,
    "start_time": "2023-02-25T15:54:13.974Z"
   },
   {
    "duration": 9,
    "start_time": "2023-02-25T15:54:13.981Z"
   },
   {
    "duration": 9,
    "start_time": "2023-02-25T15:54:13.993Z"
   },
   {
    "duration": 72,
    "start_time": "2023-02-25T15:54:14.004Z"
   },
   {
    "duration": 11,
    "start_time": "2023-02-25T15:54:14.078Z"
   },
   {
    "duration": 14,
    "start_time": "2023-02-25T15:54:14.091Z"
   },
   {
    "duration": 27,
    "start_time": "2023-02-25T15:54:14.106Z"
   },
   {
    "duration": 33,
    "start_time": "2023-02-25T15:54:14.135Z"
   },
   {
    "duration": 18,
    "start_time": "2023-02-25T15:54:14.171Z"
   },
   {
    "duration": 5,
    "start_time": "2023-02-25T15:54:14.191Z"
   },
   {
    "duration": 11,
    "start_time": "2023-02-25T15:54:14.198Z"
   },
   {
    "duration": 6,
    "start_time": "2023-02-25T15:54:14.211Z"
   },
   {
    "duration": 35,
    "start_time": "2023-02-25T15:54:14.220Z"
   },
   {
    "duration": 30,
    "start_time": "2023-02-25T15:54:14.257Z"
   },
   {
    "duration": 8,
    "start_time": "2023-02-25T15:54:14.289Z"
   },
   {
    "duration": 5,
    "start_time": "2023-02-25T15:54:14.299Z"
   },
   {
    "duration": 9,
    "start_time": "2023-02-25T15:54:14.306Z"
   },
   {
    "duration": 15,
    "start_time": "2023-02-25T15:54:14.317Z"
   },
   {
    "duration": 11,
    "start_time": "2023-02-25T15:55:22.371Z"
   },
   {
    "duration": 6,
    "start_time": "2023-02-25T15:55:33.689Z"
   },
   {
    "duration": 7,
    "start_time": "2023-02-25T15:56:33.176Z"
   },
   {
    "duration": 11,
    "start_time": "2023-02-25T16:00:35.483Z"
   },
   {
    "duration": 7,
    "start_time": "2023-02-25T16:00:47.855Z"
   },
   {
    "duration": 9,
    "start_time": "2023-02-25T16:01:50.165Z"
   },
   {
    "duration": 8,
    "start_time": "2023-02-25T16:02:01.054Z"
   },
   {
    "duration": 13,
    "start_time": "2023-02-25T16:02:09.775Z"
   },
   {
    "duration": 10,
    "start_time": "2023-02-25T16:02:32.910Z"
   },
   {
    "duration": 9,
    "start_time": "2023-02-25T16:03:50.154Z"
   },
   {
    "duration": 10,
    "start_time": "2023-02-25T16:48:20.143Z"
   },
   {
    "duration": 9,
    "start_time": "2023-02-25T16:48:34.053Z"
   },
   {
    "duration": 7,
    "start_time": "2023-02-25T16:48:46.068Z"
   },
   {
    "duration": 8,
    "start_time": "2023-02-25T16:49:50.675Z"
   },
   {
    "duration": 6,
    "start_time": "2023-02-25T16:50:03.174Z"
   },
   {
    "duration": 6,
    "start_time": "2023-02-25T16:50:48.132Z"
   },
   {
    "duration": 55,
    "start_time": "2023-02-26T09:05:14.647Z"
   },
   {
    "duration": 485,
    "start_time": "2023-02-26T09:05:31.139Z"
   },
   {
    "duration": 21,
    "start_time": "2023-02-26T09:05:31.800Z"
   },
   {
    "duration": 19,
    "start_time": "2023-02-26T09:05:32.306Z"
   },
   {
    "duration": 16,
    "start_time": "2023-02-26T09:05:33.773Z"
   },
   {
    "duration": 31,
    "start_time": "2023-02-26T09:05:34.440Z"
   },
   {
    "duration": 3,
    "start_time": "2023-02-26T09:05:35.271Z"
   },
   {
    "duration": 9,
    "start_time": "2023-02-26T09:05:35.744Z"
   },
   {
    "duration": 4,
    "start_time": "2023-02-26T09:05:36.701Z"
   },
   {
    "duration": 6,
    "start_time": "2023-02-26T09:05:37.227Z"
   },
   {
    "duration": 5,
    "start_time": "2023-02-26T09:05:37.744Z"
   },
   {
    "duration": 34,
    "start_time": "2023-02-26T09:05:38.678Z"
   },
   {
    "duration": 8,
    "start_time": "2023-02-26T09:05:39.333Z"
   },
   {
    "duration": 3,
    "start_time": "2023-02-26T09:05:40.319Z"
   },
   {
    "duration": 15,
    "start_time": "2023-02-26T09:05:41.215Z"
   },
   {
    "duration": 27,
    "start_time": "2023-02-26T09:05:41.749Z"
   },
   {
    "duration": 20,
    "start_time": "2023-02-26T09:05:42.085Z"
   },
   {
    "duration": 3,
    "start_time": "2023-02-26T09:05:43.161Z"
   },
   {
    "duration": 14,
    "start_time": "2023-02-26T09:05:43.603Z"
   },
   {
    "duration": 7,
    "start_time": "2023-02-26T09:05:44.375Z"
   },
   {
    "duration": 9,
    "start_time": "2023-02-26T09:05:45.195Z"
   },
   {
    "duration": 9,
    "start_time": "2023-02-26T09:05:45.628Z"
   },
   {
    "duration": 10,
    "start_time": "2023-02-26T09:05:47.095Z"
   },
   {
    "duration": 21,
    "start_time": "2023-02-26T09:11:17.279Z"
   },
   {
    "duration": 12,
    "start_time": "2023-02-26T09:24:23.653Z"
   },
   {
    "duration": 9,
    "start_time": "2023-02-26T09:24:53.195Z"
   },
   {
    "duration": 10,
    "start_time": "2023-02-26T09:25:05.525Z"
   },
   {
    "duration": 11,
    "start_time": "2023-02-26T09:44:34.900Z"
   },
   {
    "duration": 14,
    "start_time": "2023-02-26T09:51:38.547Z"
   },
   {
    "duration": 19,
    "start_time": "2023-02-26T09:57:06.281Z"
   },
   {
    "duration": 5,
    "start_time": "2023-02-26T10:31:57.095Z"
   },
   {
    "duration": 46,
    "start_time": "2023-02-26T10:35:40.698Z"
   },
   {
    "duration": 11,
    "start_time": "2023-02-26T10:35:51.942Z"
   },
   {
    "duration": 14,
    "start_time": "2023-02-26T10:35:58.544Z"
   },
   {
    "duration": 4,
    "start_time": "2023-02-26T10:41:50.678Z"
   },
   {
    "duration": 14,
    "start_time": "2023-02-26T10:43:11.225Z"
   },
   {
    "duration": 18,
    "start_time": "2023-02-26T10:43:14.102Z"
   },
   {
    "duration": 25,
    "start_time": "2023-02-26T10:44:31.447Z"
   },
   {
    "duration": 16,
    "start_time": "2023-02-26T10:44:37.537Z"
   },
   {
    "duration": 709,
    "start_time": "2023-02-26T15:29:16.185Z"
   },
   {
    "duration": 24,
    "start_time": "2023-02-26T15:29:16.896Z"
   },
   {
    "duration": 16,
    "start_time": "2023-02-26T15:29:16.922Z"
   },
   {
    "duration": 11,
    "start_time": "2023-02-26T15:29:16.940Z"
   },
   {
    "duration": 52,
    "start_time": "2023-02-26T15:29:16.955Z"
   },
   {
    "duration": 3,
    "start_time": "2023-02-26T15:29:17.009Z"
   },
   {
    "duration": 32,
    "start_time": "2023-02-26T15:29:17.014Z"
   },
   {
    "duration": 9,
    "start_time": "2023-02-26T15:29:17.052Z"
   },
   {
    "duration": 11,
    "start_time": "2023-02-26T15:29:17.064Z"
   },
   {
    "duration": 10,
    "start_time": "2023-02-26T15:29:17.076Z"
   },
   {
    "duration": 58,
    "start_time": "2023-02-26T15:29:17.088Z"
   },
   {
    "duration": 12,
    "start_time": "2023-02-26T15:29:17.148Z"
   },
   {
    "duration": 7,
    "start_time": "2023-02-26T15:29:17.162Z"
   },
   {
    "duration": 19,
    "start_time": "2023-02-26T15:29:17.172Z"
   },
   {
    "duration": 24,
    "start_time": "2023-02-26T15:29:17.193Z"
   },
   {
    "duration": 24,
    "start_time": "2023-02-26T15:29:17.235Z"
   },
   {
    "duration": 4,
    "start_time": "2023-02-26T15:29:17.260Z"
   },
   {
    "duration": 19,
    "start_time": "2023-02-26T15:29:17.267Z"
   },
   {
    "duration": 7,
    "start_time": "2023-02-26T15:29:17.287Z"
   },
   {
    "duration": 9,
    "start_time": "2023-02-26T15:29:17.295Z"
   },
   {
    "duration": 36,
    "start_time": "2023-02-26T15:29:17.306Z"
   },
   {
    "duration": 18,
    "start_time": "2023-02-26T15:29:17.345Z"
   },
   {
    "duration": 18,
    "start_time": "2023-02-26T15:29:17.366Z"
   },
   {
    "duration": 12,
    "start_time": "2023-02-26T15:29:17.385Z"
   },
   {
    "duration": 15,
    "start_time": "2023-02-26T15:29:17.398Z"
   },
   {
    "duration": 516,
    "start_time": "2023-02-26T15:31:38.869Z"
   },
   {
    "duration": 30,
    "start_time": "2023-02-26T15:31:39.387Z"
   },
   {
    "duration": 25,
    "start_time": "2023-02-26T15:31:39.419Z"
   },
   {
    "duration": 10,
    "start_time": "2023-02-26T15:31:39.446Z"
   },
   {
    "duration": 39,
    "start_time": "2023-02-26T15:31:39.458Z"
   },
   {
    "duration": 3,
    "start_time": "2023-02-26T15:31:39.499Z"
   },
   {
    "duration": 33,
    "start_time": "2023-02-26T15:31:39.504Z"
   },
   {
    "duration": 5,
    "start_time": "2023-02-26T15:31:39.539Z"
   },
   {
    "duration": 9,
    "start_time": "2023-02-26T15:31:39.546Z"
   },
   {
    "duration": 10,
    "start_time": "2023-02-26T15:31:39.556Z"
   },
   {
    "duration": 40,
    "start_time": "2023-02-26T15:31:39.568Z"
   },
   {
    "duration": 27,
    "start_time": "2023-02-26T15:31:39.610Z"
   },
   {
    "duration": 4,
    "start_time": "2023-02-26T15:31:39.639Z"
   },
   {
    "duration": 18,
    "start_time": "2023-02-26T15:31:39.645Z"
   },
   {
    "duration": 28,
    "start_time": "2023-02-26T15:31:39.665Z"
   },
   {
    "duration": 41,
    "start_time": "2023-02-26T15:31:39.695Z"
   },
   {
    "duration": 4,
    "start_time": "2023-02-26T15:31:39.738Z"
   },
   {
    "duration": 16,
    "start_time": "2023-02-26T15:31:39.744Z"
   },
   {
    "duration": 12,
    "start_time": "2023-02-26T15:31:39.761Z"
   },
   {
    "duration": 4,
    "start_time": "2023-02-26T15:31:39.775Z"
   },
   {
    "duration": 17,
    "start_time": "2023-02-26T15:31:39.780Z"
   },
   {
    "duration": 670,
    "start_time": "2023-02-26T15:31:39.799Z"
   },
   {
    "duration": 9,
    "start_time": "2023-02-26T15:31:40.471Z"
   },
   {
    "duration": 21,
    "start_time": "2023-02-26T15:31:40.482Z"
   },
   {
    "duration": 38,
    "start_time": "2023-02-26T15:31:40.504Z"
   },
   {
    "duration": 15,
    "start_time": "2023-02-26T15:31:40.543Z"
   },
   {
    "duration": 57,
    "start_time": "2023-02-27T15:11:49.616Z"
   },
   {
    "duration": 608,
    "start_time": "2023-02-27T15:11:53.427Z"
   },
   {
    "duration": 8,
    "start_time": "2023-02-27T15:11:54.648Z"
   },
   {
    "duration": 703,
    "start_time": "2023-02-27T15:12:12.588Z"
   },
   {
    "duration": 22,
    "start_time": "2023-02-27T15:12:13.293Z"
   },
   {
    "duration": 22,
    "start_time": "2023-02-27T15:12:13.316Z"
   },
   {
    "duration": 10,
    "start_time": "2023-02-27T15:12:14.001Z"
   },
   {
    "duration": 33,
    "start_time": "2023-02-27T15:12:14.345Z"
   },
   {
    "duration": 4,
    "start_time": "2023-02-27T15:12:14.949Z"
   },
   {
    "duration": 7,
    "start_time": "2023-02-27T15:12:15.291Z"
   },
   {
    "duration": 4,
    "start_time": "2023-02-27T15:12:16.113Z"
   },
   {
    "duration": 6,
    "start_time": "2023-02-27T15:12:16.461Z"
   },
   {
    "duration": 5,
    "start_time": "2023-02-27T15:12:16.801Z"
   },
   {
    "duration": 37,
    "start_time": "2023-02-27T15:12:17.413Z"
   },
   {
    "duration": 14,
    "start_time": "2023-02-27T15:12:17.715Z"
   },
   {
    "duration": 4,
    "start_time": "2023-02-27T15:12:18.688Z"
   },
   {
    "duration": 11,
    "start_time": "2023-02-27T15:12:19.347Z"
   },
   {
    "duration": 19,
    "start_time": "2023-02-27T15:12:19.882Z"
   },
   {
    "duration": 24,
    "start_time": "2023-02-27T15:12:20.130Z"
   },
   {
    "duration": 3,
    "start_time": "2023-02-27T15:12:20.954Z"
   },
   {
    "duration": 16,
    "start_time": "2023-02-27T15:12:21.435Z"
   },
   {
    "duration": 7,
    "start_time": "2023-02-27T15:12:22.230Z"
   },
   {
    "duration": 7,
    "start_time": "2023-02-27T15:12:23.025Z"
   },
   {
    "duration": 13,
    "start_time": "2023-02-27T15:12:23.433Z"
   },
   {
    "duration": 506,
    "start_time": "2023-02-27T15:12:24.850Z"
   },
   {
    "duration": 74,
    "start_time": "2023-02-27T15:12:26.416Z"
   },
   {
    "duration": 77,
    "start_time": "2023-02-27T15:16:39.148Z"
   },
   {
    "duration": 70,
    "start_time": "2023-02-27T15:18:50.835Z"
   },
   {
    "duration": 80,
    "start_time": "2023-02-27T15:21:18.118Z"
   },
   {
    "duration": 82,
    "start_time": "2023-02-27T15:38:13.694Z"
   },
   {
    "duration": 76,
    "start_time": "2023-02-27T15:39:04.022Z"
   },
   {
    "duration": 90,
    "start_time": "2023-02-27T15:39:14.302Z"
   },
   {
    "duration": 73,
    "start_time": "2023-02-27T15:39:52.067Z"
   },
   {
    "duration": 730,
    "start_time": "2023-02-27T18:06:38.172Z"
   },
   {
    "duration": 31,
    "start_time": "2023-02-27T18:06:38.904Z"
   },
   {
    "duration": 15,
    "start_time": "2023-02-27T18:06:38.938Z"
   },
   {
    "duration": 11,
    "start_time": "2023-02-27T18:06:38.954Z"
   },
   {
    "duration": 34,
    "start_time": "2023-02-27T18:06:38.967Z"
   },
   {
    "duration": 3,
    "start_time": "2023-02-27T18:06:39.003Z"
   },
   {
    "duration": 24,
    "start_time": "2023-02-27T18:06:39.007Z"
   },
   {
    "duration": 12,
    "start_time": "2023-02-27T18:06:39.032Z"
   },
   {
    "duration": 12,
    "start_time": "2023-02-27T18:06:39.045Z"
   },
   {
    "duration": 5,
    "start_time": "2023-02-27T18:06:39.058Z"
   },
   {
    "duration": 31,
    "start_time": "2023-02-27T18:06:39.065Z"
   },
   {
    "duration": 27,
    "start_time": "2023-02-27T18:06:39.098Z"
   },
   {
    "duration": 9,
    "start_time": "2023-02-27T18:06:39.130Z"
   },
   {
    "duration": 18,
    "start_time": "2023-02-27T18:06:39.142Z"
   },
   {
    "duration": 19,
    "start_time": "2023-02-27T18:06:39.161Z"
   },
   {
    "duration": 16,
    "start_time": "2023-02-27T18:06:39.182Z"
   },
   {
    "duration": 3,
    "start_time": "2023-02-27T18:06:39.199Z"
   },
   {
    "duration": 19,
    "start_time": "2023-02-27T18:06:39.222Z"
   },
   {
    "duration": 7,
    "start_time": "2023-02-27T18:06:39.243Z"
   },
   {
    "duration": 3,
    "start_time": "2023-02-27T18:06:39.252Z"
   },
   {
    "duration": 12,
    "start_time": "2023-02-27T18:06:39.256Z"
   },
   {
    "duration": 671,
    "start_time": "2023-02-27T18:06:39.269Z"
   },
   {
    "duration": 114,
    "start_time": "2023-02-27T18:06:39.942Z"
   },
   {
    "duration": 124,
    "start_time": "2023-02-27T18:06:40.058Z"
   },
   {
    "duration": 97,
    "start_time": "2023-02-27T18:06:40.183Z"
   },
   {
    "duration": 88,
    "start_time": "2023-02-27T18:06:40.282Z"
   },
   {
    "duration": 478,
    "start_time": "2023-02-27T18:18:59.783Z"
   },
   {
    "duration": 24,
    "start_time": "2023-02-27T18:19:00.264Z"
   },
   {
    "duration": 79,
    "start_time": "2023-02-27T18:19:00.292Z"
   },
   {
    "duration": 41,
    "start_time": "2023-02-27T18:19:00.373Z"
   },
   {
    "duration": 81,
    "start_time": "2023-02-27T18:19:00.416Z"
   },
   {
    "duration": 4,
    "start_time": "2023-02-27T18:19:00.498Z"
   },
   {
    "duration": 63,
    "start_time": "2023-02-27T18:19:00.503Z"
   },
   {
    "duration": 23,
    "start_time": "2023-02-27T18:19:00.568Z"
   },
   {
    "duration": 57,
    "start_time": "2023-02-27T18:19:00.593Z"
   },
   {
    "duration": 48,
    "start_time": "2023-02-27T18:19:00.652Z"
   },
   {
    "duration": 70,
    "start_time": "2023-02-27T18:19:00.701Z"
   },
   {
    "duration": 20,
    "start_time": "2023-02-27T18:19:00.773Z"
   },
   {
    "duration": 56,
    "start_time": "2023-02-27T18:19:00.795Z"
   },
   {
    "duration": 43,
    "start_time": "2023-02-27T18:19:00.854Z"
   },
   {
    "duration": 67,
    "start_time": "2023-02-27T18:19:00.899Z"
   },
   {
    "duration": 26,
    "start_time": "2023-02-27T18:19:00.968Z"
   },
   {
    "duration": 13,
    "start_time": "2023-02-27T18:19:00.996Z"
   },
   {
    "duration": 58,
    "start_time": "2023-02-27T18:19:01.011Z"
   },
   {
    "duration": 49,
    "start_time": "2023-02-27T18:19:01.070Z"
   },
   {
    "duration": 55,
    "start_time": "2023-02-27T18:19:01.123Z"
   },
   {
    "duration": 90,
    "start_time": "2023-02-27T18:19:01.180Z"
   },
   {
    "duration": 680,
    "start_time": "2023-02-27T18:19:01.272Z"
   },
   {
    "duration": 180,
    "start_time": "2023-02-27T18:19:01.954Z"
   },
   {
    "duration": 91,
    "start_time": "2023-02-27T18:19:02.136Z"
   },
   {
    "duration": 78,
    "start_time": "2023-02-27T18:19:02.230Z"
   },
   {
    "duration": 100,
    "start_time": "2023-02-27T18:19:02.310Z"
   }
  ],
  "colab": {
   "name": "dpp_template_part2.ipynb",
   "provenance": []
  },
  "kernelspec": {
   "display_name": "Python 3 (ipykernel)",
   "language": "python",
   "name": "python3"
  },
  "language_info": {
   "codemirror_mode": {
    "name": "ipython",
    "version": 3
   },
   "file_extension": ".py",
   "mimetype": "text/x-python",
   "name": "python",
   "nbconvert_exporter": "python",
   "pygments_lexer": "ipython3",
   "version": "3.12.2"
  },
  "toc": {
   "base_numbering": 1,
   "nav_menu": {},
   "number_sections": true,
   "sideBar": true,
   "skip_h1_title": true,
   "title_cell": "Table of Contents",
   "title_sidebar": "Contents",
   "toc_cell": false,
   "toc_position": {},
   "toc_section_display": true,
   "toc_window_display": false
  }
 },
 "nbformat": 4,
 "nbformat_minor": 5
}
